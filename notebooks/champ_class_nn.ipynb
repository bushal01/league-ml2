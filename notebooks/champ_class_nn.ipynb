{
 "cells": [
  {
   "cell_type": "code",
   "execution_count": 1,
   "metadata": {},
   "outputs": [
    {
     "name": "stderr",
     "output_type": "stream",
     "text": [
      "C:\\Users\\Albert\\Anaconda3\\lib\\site-packages\\h5py\\__init__.py:36: FutureWarning: Conversion of the second argument of issubdtype from `float` to `np.floating` is deprecated. In future, it will be treated as `np.float64 == np.dtype(float).type`.\n",
      "  from ._conv import register_converters as _register_converters\n",
      "Using TensorFlow backend.\n"
     ]
    }
   ],
   "source": [
    "import keras\n",
    "from keras.layers import Dense\n",
    "from keras.models import Sequential\n",
    "import pandas as pd\n",
    "import numpy as np\n",
    "import time\n",
    "import matplotlib.pyplot as plt\n",
    "import os\n",
    "import sys\n",
    "sys.path.append('../src/')\n",
    "# Project modules\n",
    "import get_modeling_data\n",
    "import model_evaluation.model_performance_functions as mpf\n",
    "import features.win_rates as wr\n",
    "import data_constants as dc\n",
    "import warnings\n",
    "warnings.filterwarnings('ignore')"
   ]
  },
  {
   "cell_type": "code",
   "execution_count": 24,
   "metadata": {},
   "outputs": [],
   "source": [
    "train = get_modeling_data.get_train()\n",
    "validation = get_modeling_data.get_validation()\n",
    "train = train.fillna(0)\n",
    "validation = validation.fillna(0)"
   ]
  },
  {
   "cell_type": "code",
   "execution_count": 25,
   "metadata": {},
   "outputs": [],
   "source": [
    "champ_classes = pd.read_csv('../data/interim/champ_classes.csv', index_col=0)"
   ]
  },
  {
   "cell_type": "code",
   "execution_count": 26,
   "metadata": {},
   "outputs": [],
   "source": [
    "for col in champ_classes.columns:\n",
    "    train['100_' + col + '_cnt'] = 0\n",
    "    train['200_' + col + '_cnt'] = 0\n",
    "    validation['100_' + col + '_cnt'] = 0\n",
    "    validation['200_' + col + '_cnt'] = 0"
   ]
  },
  {
   "cell_type": "code",
   "execution_count": 27,
   "metadata": {},
   "outputs": [],
   "source": [
    "team_100_cols = ['100_TOP_SOLO', '100_MIDDLE_SOLO', '100_JUNGLE_NONE', '100_BOTTOM_DUO_CARRY', '100_BOTTOM_DUO_SUPPORT']\n",
    "for lane_col in team_100_cols:\n",
    "    train = pd.merge(train, champ_classes, how='left', left_on=lane_col, right_index=True)\n",
    "    validation = pd.merge(validation, champ_classes, how='left', left_on=lane_col, right_index=True)\n",
    "    for col in champ_classes.columns:\n",
    "        train['100_' + col + '_cnt'] = train['100_' + col + '_cnt'] + train[col]\n",
    "        train.drop([col], inplace=True, axis=1)\n",
    "        validation['100_' + col + '_cnt'] = validation['100_' + col + '_cnt'] + validation[col]\n",
    "        validation.drop([col], inplace=True, axis=1)\n",
    "\n",
    "team_200_cols = ['200_TOP_SOLO', '200_MIDDLE_SOLO', '200_JUNGLE_NONE', '200_BOTTOM_DUO_CARRY', '200_BOTTOM_DUO_SUPPORT']\n",
    "for lane_col in team_200_cols:\n",
    "    train = pd.merge(train, champ_classes, how='left', left_on=lane_col, right_index=True)\n",
    "    validation = pd.merge(validation, champ_classes, how='left', left_on=lane_col, right_index=True)\n",
    "    for col in champ_classes.columns:\n",
    "        train['200_' + col + '_cnt'] = train['200_' + col + '_cnt'] + train[col]\n",
    "        train.drop([col], inplace=True, axis=1)\n",
    "        validation['200_' + col + '_cnt'] = validation['200_' + col + '_cnt'] + validation[col]\n",
    "        validation.drop([col], inplace=True, axis=1)\n"
   ]
  },
  {
   "cell_type": "markdown",
   "metadata": {},
   "source": [
    "### Using only the count columns"
   ]
  },
  {
   "cell_type": "code",
   "execution_count": 28,
   "metadata": {},
   "outputs": [],
   "source": [
    "cnt_cols = [x for x in train.columns if x[-3:] == 'cnt']\n",
    "X_train = train[cnt_cols]\n",
    "Y_train = train['team_100_win']\n",
    "X_validation = validation[cnt_cols]\n",
    "Y_validation = validation['team_100_win']"
   ]
  },
  {
   "cell_type": "code",
   "execution_count": 32,
   "metadata": {},
   "outputs": [
    {
     "name": "stdout",
     "output_type": "stream",
     "text": [
      "Epoch 1/1\n",
      "171284/171284 [==============================] - 6s 37us/step - loss: 0.2503\n",
      "Train ks and gini: {'ks': 0.05151882817460718, 'gini': 0.034438583887074346}\n",
      "Train accuracy: 0.5219751990845614\n",
      "Validation ks and gini: {'ks': 0.05414927529111058, 'gini': 0.035423347236456404}\n",
      "Validation accuracy: 0.5200112097805335\n"
     ]
    }
   ],
   "source": [
    "model = Sequential()\n",
    "model.add(Dense(25, activation='sigmoid', input_shape=(X_train.shape[1],)))\n",
    "model.add(Dense(15, activation='sigmoid'))\n",
    "model.add(Dense(5, activation='sigmoid'))\n",
    "model.add(Dense(1))\n",
    "model.compile(optimizer='adam', loss='mean_squared_error')\n",
    "model.fit(X_train, Y_train)\n",
    "train_pred = model.predict(X_train)\n",
    "print(\"Train ks and gini: \" + str(mpf.ks_gini(Y_train, train_pred[:,0])))\n",
    "print(\"Train accuracy: \" + str(mpf.correct_prediction_rate(Y_train, train_pred[:,0])))\n",
    "valid_pred = model.predict(X_validation)\n",
    "print(\"Validation ks and gini: \" + str(mpf.ks_gini(Y_validation, valid_pred[:,0])))\n",
    "print(\"Validation accuracy: \" + str(mpf.correct_prediction_rate(Y_validation, valid_pred[:,0])))"
   ]
  },
  {
   "cell_type": "code",
   "execution_count": 31,
   "metadata": {},
   "outputs": [
    {
     "data": {
      "text/plain": [
       "(171284, 36)"
      ]
     },
     "execution_count": 31,
     "metadata": {},
     "output_type": "execute_result"
    }
   ],
   "source": [
    "X_train.shape"
   ]
  },
  {
   "cell_type": "markdown",
   "metadata": {},
   "source": [
    "### Count columns along with champion indicators"
   ]
  },
  {
   "cell_type": "code",
   "execution_count": 34,
   "metadata": {},
   "outputs": [],
   "source": [
    "lane_cols = ['100_TOP_SOLO', '100_JUNGLE_NONE', '100_MIDDLE_SOLO', '100_BOTTOM_DUO_CARRY', '100_BOTTOM_DUO_SUPPORT', '200_TOP_SOLO', '200_JUNGLE_NONE', '200_MIDDLE_SOLO', '200_BOTTOM_DUO_CARRY', '200_BOTTOM_DUO_SUPPORT']\n",
    "X_train2 = train[cnt_cols + lane_cols]\n",
    "X_validation2 = validation[cnt_cols + lane_cols]\n",
    "\n",
    "champs = dc.get_champs_four_letters()\n",
    "\n",
    "for champ in champs:\n",
    "    X_train2[champ] = 0\n",
    "    X_validation2[champ] = 0\n",
    "    for col in lane_cols:\n",
    "        if col[0:3] == '100':\n",
    "            X_train2[champ][X_train2[col] == champ] = 1\n",
    "            X_validation2[champ][X_validation2[col] == champ] = 1\n",
    "        else:\n",
    "            X_train2[champ][X_train2[col] == champ] = -1\n",
    "            X_validation2[champ][X_validation2[col] == champ] = -1\n",
    "X_train2.drop(lane_cols, inplace=True, axis=1)\n",
    "X_validation2.drop(lane_cols, inplace=True, axis=1)"
   ]
  },
  {
   "cell_type": "code",
   "execution_count": 37,
   "metadata": {},
   "outputs": [
    {
     "name": "stdout",
     "output_type": "stream",
     "text": [
      "Epoch 1/1\n",
      "171284/171284 [==============================] - 14s 82us/step - loss: 0.2524\n",
      "Train ks and gini: {'ks': 0.1028008324063121, 'gini': 0.07210037330478783}\n",
      "Train accuracy: 0.5486151654562014\n",
      "Validation ks and gini: {'ks': 0.10563524742840258, 'gini': 0.0717467734403451}\n",
      "Validation accuracy: 0.5485436042947471\n"
     ]
    }
   ],
   "source": [
    "model = Sequential()\n",
    "model.add(Dense(100, activation='sigmoid', input_shape=(X_train2.shape[1],)))\n",
    "model.add(Dense(50, activation='sigmoid'))\n",
    "model.add(Dense(20, activation='sigmoid'))\n",
    "model.add(Dense(10, activation='sigmoid'))\n",
    "model.add(Dense(1))\n",
    "model.compile(optimizer='adam', loss='mean_squared_error')\n",
    "model.fit(X_train2, Y_train)\n",
    "train_pred = model.predict(X_train2)\n",
    "print(\"Train ks and gini: \" + str(mpf.ks_gini(Y_train, train_pred[:,0])))\n",
    "print(\"Train accuracy: \" + str(mpf.correct_prediction_rate(Y_train, train_pred[:,0])))\n",
    "valid_pred = model.predict(X_validation2)\n",
    "print(\"Validation ks and gini: \" + str(mpf.ks_gini(Y_validation, valid_pred[:,0])))\n",
    "print(\"Validation accuracy: \" + str(mpf.correct_prediction_rate(Y_validation, valid_pred[:,0])))"
   ]
  },
  {
   "cell_type": "code",
   "execution_count": null,
   "metadata": {},
   "outputs": [],
   "source": []
  }
 ],
 "metadata": {
  "kernelspec": {
   "display_name": "Python 3",
   "language": "python",
   "name": "python3"
  },
  "language_info": {
   "codemirror_mode": {
    "name": "ipython",
    "version": 3
   },
   "file_extension": ".py",
   "mimetype": "text/x-python",
   "name": "python",
   "nbconvert_exporter": "python",
   "pygments_lexer": "ipython3",
   "version": "3.6.4"
  }
 },
 "nbformat": 4,
 "nbformat_minor": 2
}

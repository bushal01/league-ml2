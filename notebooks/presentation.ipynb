{
 "cells": [
  {
   "cell_type": "markdown",
   "metadata": {},
   "source": [
    "# Initial Data EDA"
   ]
  },
  {
   "cell_type": "code",
   "execution_count": 4,
   "metadata": {},
   "outputs": [
    {
     "name": "stderr",
     "output_type": "stream",
     "text": [
      "Using TensorFlow backend.\n"
     ]
    }
   ],
   "source": [
    "# Load modules\n",
    "import warnings\n",
    "warnings.filterwarnings('ignore')\n",
    "import keras\n",
    "from keras.layers import Dense\n",
    "from keras.models import Sequential\n",
    "import pandas as pd\n",
    "import numpy as np\n",
    "import time\n",
    "import matplotlib.pyplot as plt\n",
    "import os\n",
    "import sys\n",
    "sys.path.append('../src/')\n",
    "# Project modules\n",
    "import get_modeling_data\n",
    "import model_evaluation.model_performance_functions as mpf\n",
    "import features.win_rates as wr\n",
    "import data_constants as dc\n",
    "import statsmodels.api as sm\n",
    "import statsmodels.formula.api as smf"
   ]
  },
  {
   "cell_type": "code",
   "execution_count": 5,
   "metadata": {},
   "outputs": [
    {
     "name": "stdout",
     "output_type": "stream",
     "text": [
      "Number of rows: 285576\n",
      "Number of columns: 15\n"
     ]
    },
    {
     "data": {
      "text/html": [
       "<div>\n",
       "<style scoped>\n",
       "    .dataframe tbody tr th:only-of-type {\n",
       "        vertical-align: middle;\n",
       "    }\n",
       "\n",
       "    .dataframe tbody tr th {\n",
       "        vertical-align: top;\n",
       "    }\n",
       "\n",
       "    .dataframe thead th {\n",
       "        text-align: right;\n",
       "    }\n",
       "</style>\n",
       "<table border=\"1\" class=\"dataframe\">\n",
       "  <thead>\n",
       "    <tr style=\"text-align: right;\">\n",
       "      <th></th>\n",
       "      <th>match_id</th>\n",
       "      <th>game_version</th>\n",
       "      <th>queue_id</th>\n",
       "      <th>game_duration</th>\n",
       "      <th>team_100_win</th>\n",
       "      <th>100_TOP_SOLO</th>\n",
       "      <th>100_JUNGLE_NONE</th>\n",
       "      <th>100_MIDDLE_SOLO</th>\n",
       "      <th>100_BOTTOM_DUO_CARRY</th>\n",
       "      <th>100_BOTTOM_DUO_SUPPORT</th>\n",
       "      <th>200_TOP_SOLO</th>\n",
       "      <th>200_JUNGLE_NONE</th>\n",
       "      <th>200_MIDDLE_SOLO</th>\n",
       "      <th>200_BOTTOM_DUO_CARRY</th>\n",
       "      <th>200_BOTTOM_DUO_SUPPORT</th>\n",
       "    </tr>\n",
       "  </thead>\n",
       "  <tbody>\n",
       "    <tr>\n",
       "      <th>0</th>\n",
       "      <td>2726806213</td>\n",
       "      <td>8.4.218.8787</td>\n",
       "      <td>420</td>\n",
       "      <td>1452</td>\n",
       "      <td>0</td>\n",
       "      <td>Kled</td>\n",
       "      <td>Reng</td>\n",
       "      <td>Kata</td>\n",
       "      <td>Varu</td>\n",
       "      <td>Tari</td>\n",
       "      <td>Akal</td>\n",
       "      <td>Vi</td>\n",
       "      <td>Dr.</td>\n",
       "      <td>Vayn</td>\n",
       "      <td>Lulu</td>\n",
       "    </tr>\n",
       "    <tr>\n",
       "      <th>1</th>\n",
       "      <td>2726789592</td>\n",
       "      <td>8.4.218.8787</td>\n",
       "      <td>420</td>\n",
       "      <td>1539</td>\n",
       "      <td>0</td>\n",
       "      <td>Rene</td>\n",
       "      <td>Mast</td>\n",
       "      <td>Fizz</td>\n",
       "      <td>Cait</td>\n",
       "      <td>Lux</td>\n",
       "      <td>Kled</td>\n",
       "      <td>Skar</td>\n",
       "      <td>Kass</td>\n",
       "      <td>Ezre</td>\n",
       "      <td>Sona</td>\n",
       "    </tr>\n",
       "    <tr>\n",
       "      <th>2</th>\n",
       "      <td>2726784050</td>\n",
       "      <td>8.4.218.8787</td>\n",
       "      <td>420</td>\n",
       "      <td>1380</td>\n",
       "      <td>0</td>\n",
       "      <td>Kled</td>\n",
       "      <td>Reng</td>\n",
       "      <td>Ryze</td>\n",
       "      <td>Varu</td>\n",
       "      <td>Sora</td>\n",
       "      <td>Gang</td>\n",
       "      <td>Seju</td>\n",
       "      <td>Ahri</td>\n",
       "      <td>Jinx</td>\n",
       "      <td>Blit</td>\n",
       "    </tr>\n",
       "    <tr>\n",
       "      <th>3</th>\n",
       "      <td>2726032902</td>\n",
       "      <td>8.4.218.8787</td>\n",
       "      <td>420</td>\n",
       "      <td>1360</td>\n",
       "      <td>1</td>\n",
       "      <td>Kled</td>\n",
       "      <td>Kayn</td>\n",
       "      <td>Fizz</td>\n",
       "      <td>Varu</td>\n",
       "      <td>Tari</td>\n",
       "      <td>Blit</td>\n",
       "      <td>Shac</td>\n",
       "      <td>Kayl</td>\n",
       "      <td>Tris</td>\n",
       "      <td>Lux</td>\n",
       "    </tr>\n",
       "    <tr>\n",
       "      <th>4</th>\n",
       "      <td>2726003824</td>\n",
       "      <td>8.4.218.8787</td>\n",
       "      <td>420</td>\n",
       "      <td>1773</td>\n",
       "      <td>1</td>\n",
       "      <td>Kled</td>\n",
       "      <td>Lee</td>\n",
       "      <td>Aniv</td>\n",
       "      <td>Drav</td>\n",
       "      <td>Bard</td>\n",
       "      <td>Yasu</td>\n",
       "      <td>Reng</td>\n",
       "      <td>Ekko</td>\n",
       "      <td>Tris</td>\n",
       "      <td>Tahm</td>\n",
       "    </tr>\n",
       "  </tbody>\n",
       "</table>\n",
       "</div>"
      ],
      "text/plain": [
       "     match_id  game_version  queue_id  game_duration  team_100_win  \\\n",
       "0  2726806213  8.4.218.8787       420           1452             0   \n",
       "1  2726789592  8.4.218.8787       420           1539             0   \n",
       "2  2726784050  8.4.218.8787       420           1380             0   \n",
       "3  2726032902  8.4.218.8787       420           1360             1   \n",
       "4  2726003824  8.4.218.8787       420           1773             1   \n",
       "\n",
       "  100_TOP_SOLO 100_JUNGLE_NONE 100_MIDDLE_SOLO 100_BOTTOM_DUO_CARRY  \\\n",
       "0         Kled            Reng            Kata                 Varu   \n",
       "1         Rene            Mast            Fizz                 Cait   \n",
       "2         Kled            Reng            Ryze                 Varu   \n",
       "3         Kled            Kayn            Fizz                 Varu   \n",
       "4         Kled            Lee             Aniv                 Drav   \n",
       "\n",
       "  100_BOTTOM_DUO_SUPPORT 200_TOP_SOLO 200_JUNGLE_NONE 200_MIDDLE_SOLO  \\\n",
       "0                   Tari         Akal              Vi            Dr.    \n",
       "1                    Lux         Kled            Skar            Kass   \n",
       "2                   Sora         Gang            Seju            Ahri   \n",
       "3                   Tari         Blit            Shac            Kayl   \n",
       "4                   Bard         Yasu            Reng            Ekko   \n",
       "\n",
       "  200_BOTTOM_DUO_CARRY 200_BOTTOM_DUO_SUPPORT  \n",
       "0                 Vayn                   Lulu  \n",
       "1                 Ezre                   Sona  \n",
       "2                 Jinx                   Blit  \n",
       "3                 Tris                    Lux  \n",
       "4                 Tris                   Tahm  "
      ]
     },
     "execution_count": 5,
     "metadata": {},
     "output_type": "execute_result"
    }
   ],
   "source": [
    "data = pd.read_csv(os.getenv('MINED_DATA_DIR') + 'processed_match_data.csv')\n",
    "print(\"Number of rows: \" + str(data.shape[0]))\n",
    "print(\"Number of columns: \" + str(data.shape[1]))\n",
    "pd.set_option('display.max_columns', 200)\n",
    "data.head()"
   ]
  },
  {
   "cell_type": "markdown",
   "metadata": {},
   "source": [
    "#### Number of Unique Champions"
   ]
  },
  {
   "cell_type": "code",
   "execution_count": 3,
   "metadata": {},
   "outputs": [
    {
     "data": {
      "text/plain": [
       "141"
      ]
     },
     "execution_count": 3,
     "metadata": {},
     "output_type": "execute_result"
    }
   ],
   "source": [
    "data['100_TOP_SOLO'].nunique()"
   ]
  },
  {
   "cell_type": "markdown",
   "metadata": {},
   "source": [
    "#### Distribution of blue side wins vs. red side wins"
   ]
  },
  {
   "cell_type": "code",
   "execution_count": 4,
   "metadata": {},
   "outputs": [
    {
     "data": {
      "text/plain": [
       "0    0.505827\n",
       "1    0.494173\n",
       "Name: team_100_win, dtype: float64"
      ]
     },
     "execution_count": 4,
     "metadata": {},
     "output_type": "execute_result"
    }
   ],
   "source": [
    "data['team_100_win'].value_counts() / data.shape[0]"
   ]
  },
  {
   "cell_type": "markdown",
   "metadata": {},
   "source": [
    "#### Champions are usually only picked in 1 or 2 positions"
   ]
  },
  {
   "cell_type": "code",
   "execution_count": 30,
   "metadata": {},
   "outputs": [
    {
     "data": {
      "image/png": "[encoded data removed]",
      "text/plain": [
       "<matplotlib.figure.Figure at 0x8c82dc9828>"
      ]
     },
     "metadata": {},
     "output_type": "display_data"
    }
   ],
   "source": [
    "top_lane_freq = data['100_TOP_SOLO'].value_counts()\n",
    "plt.barh(top_lane_freq.index, top_lane_freq, align='center', alpha=0.5)\n",
    "plt.title('Top lane frequency')\n",
    "plt.yticks('')\n",
    "plt.show()"
   ]
  },
  {
   "cell_type": "code",
   "execution_count": 31,
   "metadata": {},
   "outputs": [
    {
     "data": {
      "image/png": "[encoded data removed]",
      "text/plain": [
       "<matplotlib.figure.Figure at 0x8c82a7cc88>"
      ]
     },
     "metadata": {},
     "output_type": "display_data"
    }
   ],
   "source": [
    "mid_lane_freq = data['100_MIDDLE_SOLO'].value_counts()\n",
    "plt.barh(mid_lane_freq.index, mid_lane_freq, align='center', alpha=0.5, color='red')\n",
    "plt.yticks('')\n",
    "plt.title('Mid lane frequency')\n",
    "plt.show()"
   ]
  },
  {
   "cell_type": "code",
   "execution_count": 32,
   "metadata": {},
   "outputs": [
    {
     "data": {
      "image/png": "[encoded data removed]",
      "text/plain": [
       "<matplotlib.figure.Figure at 0x8c82c2bc18>"
      ]
     },
     "metadata": {},
     "output_type": "display_data"
    }
   ],
   "source": [
    "top_lane_freq = data['100_TOP_SOLO'].value_counts()\n",
    "plt.barh(top_lane_freq.index, top_lane_freq, align='center', alpha=0.5)\n",
    "mid_lane_freq = data['100_MIDDLE_SOLO'].value_counts()\n",
    "plt.barh(mid_lane_freq.index, mid_lane_freq, align='center', alpha=0.5, color='red')\n",
    "plt.title('Top vs Mid lane frequency')\n",
    "plt.yticks('')\n",
    "plt.show()"
   ]
  },
  {
   "cell_type": "code",
   "execution_count": 7,
   "metadata": {},
   "outputs": [
    {
     "data": {
      "text/html": [
       "<div>\n",
       "<style scoped>\n",
       "    .dataframe tbody tr th:only-of-type {\n",
       "        vertical-align: middle;\n",
       "    }\n",
       "\n",
       "    .dataframe tbody tr th {\n",
       "        vertical-align: top;\n",
       "    }\n",
       "\n",
       "    .dataframe thead th {\n",
       "        text-align: right;\n",
       "    }\n",
       "</style>\n",
       "<table border=\"1\" class=\"dataframe\">\n",
       "  <thead>\n",
       "    <tr style=\"text-align: right;\">\n",
       "      <th></th>\n",
       "      <th>TOP_SOLO_win_rate</th>\n",
       "      <th>TOP_SOLO_games_played</th>\n",
       "      <th>MIDDLE_SOLO_win_rate</th>\n",
       "      <th>MIDDLE_SOLO_games_played</th>\n",
       "      <th>BOTTOM_DUO_CARRY_win_rate</th>\n",
       "      <th>BOTTOM_DUO_CARRY_games_played</th>\n",
       "      <th>BOTTOM_DUO_SUPPORT_win_rate</th>\n",
       "      <th>BOTTOM_DUO_SUPPORT_games_played</th>\n",
       "      <th>JUNGLE_NONE_win_rate</th>\n",
       "      <th>JUNGLE_NONE_games_played</th>\n",
       "    </tr>\n",
       "  </thead>\n",
       "  <tbody>\n",
       "    <tr>\n",
       "      <th>Aatr</th>\n",
       "      <td>0.501899</td>\n",
       "      <td>4212.0</td>\n",
       "      <td>0.523364</td>\n",
       "      <td>107.0</td>\n",
       "      <td>0.588235</td>\n",
       "      <td>17.0</td>\n",
       "      <td>0.488372</td>\n",
       "      <td>43.0</td>\n",
       "      <td>0.516491</td>\n",
       "      <td>1425.0</td>\n",
       "    </tr>\n",
       "    <tr>\n",
       "      <th>Ahri</th>\n",
       "      <td>0.556818</td>\n",
       "      <td>176.0</td>\n",
       "      <td>0.501790</td>\n",
       "      <td>16479.0</td>\n",
       "      <td>0.480000</td>\n",
       "      <td>100.0</td>\n",
       "      <td>0.535948</td>\n",
       "      <td>153.0</td>\n",
       "      <td>0.571429</td>\n",
       "      <td>7.0</td>\n",
       "    </tr>\n",
       "    <tr>\n",
       "      <th>Akal</th>\n",
       "      <td>0.498500</td>\n",
       "      <td>3667.0</td>\n",
       "      <td>0.502720</td>\n",
       "      <td>5882.0</td>\n",
       "      <td>0.250000</td>\n",
       "      <td>16.0</td>\n",
       "      <td>0.580645</td>\n",
       "      <td>31.0</td>\n",
       "      <td>0.537313</td>\n",
       "      <td>268.0</td>\n",
       "    </tr>\n",
       "    <tr>\n",
       "      <th>Alis</th>\n",
       "      <td>0.532544</td>\n",
       "      <td>169.0</td>\n",
       "      <td>0.569620</td>\n",
       "      <td>79.0</td>\n",
       "      <td>0.500000</td>\n",
       "      <td>20.0</td>\n",
       "      <td>0.505727</td>\n",
       "      <td>15540.0</td>\n",
       "      <td>0.568421</td>\n",
       "      <td>95.0</td>\n",
       "    </tr>\n",
       "    <tr>\n",
       "      <th>Amum</th>\n",
       "      <td>0.543624</td>\n",
       "      <td>149.0</td>\n",
       "      <td>0.611111</td>\n",
       "      <td>36.0</td>\n",
       "      <td>0.500000</td>\n",
       "      <td>2.0</td>\n",
       "      <td>0.435583</td>\n",
       "      <td>163.0</td>\n",
       "      <td>0.502213</td>\n",
       "      <td>6101.0</td>\n",
       "    </tr>\n",
       "  </tbody>\n",
       "</table>\n",
       "</div>"
      ],
      "text/plain": [
       "      TOP_SOLO_win_rate  TOP_SOLO_games_played  MIDDLE_SOLO_win_rate  \\\n",
       "Aatr           0.501899                 4212.0              0.523364   \n",
       "Ahri           0.556818                  176.0              0.501790   \n",
       "Akal           0.498500                 3667.0              0.502720   \n",
       "Alis           0.532544                  169.0              0.569620   \n",
       "Amum           0.543624                  149.0              0.611111   \n",
       "\n",
       "      MIDDLE_SOLO_games_played  BOTTOM_DUO_CARRY_win_rate  \\\n",
       "Aatr                     107.0                   0.588235   \n",
       "Ahri                   16479.0                   0.480000   \n",
       "Akal                    5882.0                   0.250000   \n",
       "Alis                      79.0                   0.500000   \n",
       "Amum                      36.0                   0.500000   \n",
       "\n",
       "      BOTTOM_DUO_CARRY_games_played  BOTTOM_DUO_SUPPORT_win_rate  \\\n",
       "Aatr                           17.0                     0.488372   \n",
       "Ahri                          100.0                     0.535948   \n",
       "Akal                           16.0                     0.580645   \n",
       "Alis                           20.0                     0.505727   \n",
       "Amum                            2.0                     0.435583   \n",
       "\n",
       "      BOTTOM_DUO_SUPPORT_games_played  JUNGLE_NONE_win_rate  \\\n",
       "Aatr                             43.0              0.516491   \n",
       "Ahri                            153.0              0.571429   \n",
       "Akal                             31.0              0.537313   \n",
       "Alis                          15540.0              0.568421   \n",
       "Amum                            163.0              0.502213   \n",
       "\n",
       "      JUNGLE_NONE_games_played  \n",
       "Aatr                    1425.0  \n",
       "Ahri                       7.0  \n",
       "Akal                     268.0  \n",
       "Alis                      95.0  \n",
       "Amum                    6101.0  "
      ]
     },
     "execution_count": 7,
     "metadata": {},
     "output_type": "execute_result"
    }
   ],
   "source": [
    "win_rates = pd.read_csv('../data/win_rates/all_champ_all_lanes_win_rates.csv', index_col=0)\n",
    "win_rates.head()"
   ]
  },
  {
   "cell_type": "markdown",
   "metadata": {},
   "source": [
    "## 10 Categorical Variables w/ 141 levels each, predicting a 0-1 indicator"
   ]
  },
  {
   "cell_type": "code",
   "execution_count": 6,
   "metadata": {},
   "outputs": [],
   "source": [
    "# Separate into training, validation, and test\n",
    "train = get_modeling_data.get_train()\n",
    "valid = get_modeling_data.get_validation()\n",
    "train = sm.add_constant(train)\n",
    "valid = sm.add_constant(valid)"
   ]
  },
  {
   "cell_type": "code",
   "execution_count": null,
   "metadata": {},
   "outputs": [],
   "source": [
    "# Basic Logistic model\n",
    "#formula = 'team_100_win ~ C(BLUE_TOP_SOLO) + C(BLUE_MIDDLE_SOLO) + C(BLUE_JUNGLE_NONE) + C(BLUE_BOTTOM_DUO_CARRY) + C(BLUE_BOTTOM_DUO_SUPPORT)'\n",
    "#######################\n",
    "#### DONT RUN THIS ####\n",
    "#######################\n",
    "#basic_logistic = smf.glm(formula=formula, data=train, family=sm.families.Binomial()).fit()"
   ]
  },
  {
   "cell_type": "markdown",
   "metadata": {},
   "source": [
    "### Lesson 0: GLM won't take variables with leading numbers in the name\n",
    "### Lesson 1: GLM hot encodes categorical variables, blows up the memory requirement."
   ]
  },
  {
   "cell_type": "markdown",
   "metadata": {},
   "source": [
    "# Let's try a basic encoding\n",
    "### - Replacing champions in each lane with their respective win rate\n",
    "### - Basic logistic model"
   ]
  },
  {
   "cell_type": "code",
   "execution_count": 13,
   "metadata": {},
   "outputs": [],
   "source": [
    "lane_cols = ['100_TOP_SOLO', '100_MIDDLE_SOLO', '100_JUNGLE_NONE', '100_BOTTOM_DUO_CARRY',\n",
    " '100_BOTTOM_DUO_SUPPORT', '200_TOP_SOLO', '200_MIDDLE_SOLO', '200_JUNGLE_NONE',\n",
    " '200_BOTTOM_DUO_CARRY', '200_BOTTOM_DUO_SUPPORT']\n",
    "\n",
    "lane_cols_color = ['BLUE_TOP_SOLO', 'BLUE_MIDDLE_SOLO', 'BLUE_JUNGLE_NONE', 'BLUE_BOTTOM_DUO_CARRY',\n",
    " 'BLUE_BOTTOM_DUO_SUPPORT', 'RED_TOP_SOLO', 'RED_MIDDLE_SOLO', 'RED_JUNGLE_NONE',\n",
    " 'RED_BOTTOM_DUO_CARRY', 'RED_BOTTOM_DUO_SUPPORT']\n",
    "\n",
    "lane_cols = [x + '_wr' for x in lane_cols]\n",
    "lane_cols_color = [x + '_wr' for x in lane_cols_color]\n",
    "\n",
    "lane_cols_dict = dict(zip(lane_cols, lane_cols_color))\n",
    "\n",
    "train_wr = train.rename(lane_cols_dict, axis=1)\n",
    "train_wr = train_wr[lane_cols_color + ['team_100_win']]\n",
    "valid_wr = valid.rename(lane_cols_dict, axis=1)\n",
    "valid_wr = valid_wr[lane_cols_color + ['team_100_win']]"
   ]
  },
  {
   "cell_type": "code",
   "execution_count": 14,
   "metadata": {},
   "outputs": [
    {
     "data": {
      "text/html": [
       "<table class=\"simpletable\">\n",
       "<caption>Generalized Linear Model Regression Results</caption>\n",
       "<tr>\n",
       "  <th>Dep. Variable:</th>    <td>team_100_win</td>   <th>  No. Observations:  </th>   <td>171284</td>   \n",
       "</tr>\n",
       "<tr>\n",
       "  <th>Model:</th>                 <td>GLM</td>       <th>  Df Residuals:      </th>   <td>171273</td>   \n",
       "</tr>\n",
       "<tr>\n",
       "  <th>Model Family:</th>       <td>Binomial</td>     <th>  Df Model:          </th>   <td>    10</td>   \n",
       "</tr>\n",
       "<tr>\n",
       "  <th>Link Function:</th>        <td>logit</td>      <th>  Scale:             </th>     <td>1.0</td>    \n",
       "</tr>\n",
       "<tr>\n",
       "  <th>Method:</th>               <td>IRLS</td>       <th>  Log-Likelihood:    </th> <td>-1.1833e+05</td>\n",
       "</tr>\n",
       "<tr>\n",
       "  <th>Date:</th>           <td>Wed, 08 Aug 2018</td> <th>  Deviance:          </th> <td>2.3666e+05</td> \n",
       "</tr>\n",
       "<tr>\n",
       "  <th>Time:</th>               <td>20:13:29</td>     <th>  Pearson chi2:      </th>  <td>1.71e+05</td>  \n",
       "</tr>\n",
       "<tr>\n",
       "  <th>No. Iterations:</th>         <td>4</td>        <th>                     </th>      <td> </td>     \n",
       "</tr>\n",
       "</table>\n",
       "<table class=\"simpletable\">\n",
       "<tr>\n",
       "               <td></td>                 <th>coef</th>     <th>std err</th>      <th>z</th>      <th>P>|z|</th>  <th>[0.025</th>    <th>0.975]</th>  \n",
       "</tr>\n",
       "<tr>\n",
       "  <th>Intercept</th>                  <td>   20.8230</td> <td>    0.799</td> <td>   26.057</td> <td> 0.000</td> <td>   19.257</td> <td>   22.389</td>\n",
       "</tr>\n",
       "<tr>\n",
       "  <th>BLUE_TOP_SOLO_wr</th>           <td>   -3.2932</td> <td>    0.449</td> <td>   -7.330</td> <td> 0.000</td> <td>   -4.174</td> <td>   -2.413</td>\n",
       "</tr>\n",
       "<tr>\n",
       "  <th>BLUE_MIDDLE_SOLO_wr</th>        <td>   -4.6459</td> <td>    0.463</td> <td>  -10.032</td> <td> 0.000</td> <td>   -5.554</td> <td>   -3.738</td>\n",
       "</tr>\n",
       "<tr>\n",
       "  <th>BLUE_JUNGLE_NONE_wr</th>        <td>   -4.3828</td> <td>    0.546</td> <td>   -8.032</td> <td> 0.000</td> <td>   -5.452</td> <td>   -3.313</td>\n",
       "</tr>\n",
       "<tr>\n",
       "  <th>BLUE_BOTTOM_DUO_CARRY_wr</th>   <td>   -4.9691</td> <td>    0.549</td> <td>   -9.048</td> <td> 0.000</td> <td>   -6.046</td> <td>   -3.893</td>\n",
       "</tr>\n",
       "<tr>\n",
       "  <th>BLUE_BOTTOM_DUO_SUPPORT_wr</th> <td>   -5.6689</td> <td>    0.464</td> <td>  -12.226</td> <td> 0.000</td> <td>   -6.578</td> <td>   -4.760</td>\n",
       "</tr>\n",
       "<tr>\n",
       "  <th>RED_TOP_SOLO_wr</th>            <td>   -4.8969</td> <td>    0.465</td> <td>  -10.541</td> <td> 0.000</td> <td>   -5.807</td> <td>   -3.986</td>\n",
       "</tr>\n",
       "<tr>\n",
       "  <th>RED_MIDDLE_SOLO_wr</th>         <td>   -3.5145</td> <td>    0.469</td> <td>   -7.498</td> <td> 0.000</td> <td>   -4.433</td> <td>   -2.596</td>\n",
       "</tr>\n",
       "<tr>\n",
       "  <th>RED_JUNGLE_NONE_wr</th>         <td>   -3.8803</td> <td>    0.547</td> <td>   -7.090</td> <td> 0.000</td> <td>   -4.953</td> <td>   -2.808</td>\n",
       "</tr>\n",
       "<tr>\n",
       "  <th>RED_BOTTOM_DUO_CARRY_wr</th>    <td>   -3.5112</td> <td>    0.538</td> <td>   -6.529</td> <td> 0.000</td> <td>   -4.565</td> <td>   -2.457</td>\n",
       "</tr>\n",
       "<tr>\n",
       "  <th>RED_BOTTOM_DUO_SUPPORT_wr</th>  <td>   -2.4565</td> <td>    0.457</td> <td>   -5.372</td> <td> 0.000</td> <td>   -3.353</td> <td>   -1.560</td>\n",
       "</tr>\n",
       "</table>"
      ],
      "text/plain": [
       "<class 'statsmodels.iolib.summary.Summary'>\n",
       "\"\"\"\n",
       "                 Generalized Linear Model Regression Results                  \n",
       "==============================================================================\n",
       "Dep. Variable:           team_100_win   No. Observations:               171284\n",
       "Model:                            GLM   Df Residuals:                   171273\n",
       "Model Family:                Binomial   Df Model:                           10\n",
       "Link Function:                  logit   Scale:                             1.0\n",
       "Method:                          IRLS   Log-Likelihood:            -1.1833e+05\n",
       "Date:                Wed, 08 Aug 2018   Deviance:                   2.3666e+05\n",
       "Time:                        20:13:29   Pearson chi2:                 1.71e+05\n",
       "No. Iterations:                     4                                         \n",
       "==============================================================================================\n",
       "                                 coef    std err          z      P>|z|      [0.025      0.975]\n",
       "----------------------------------------------------------------------------------------------\n",
       "Intercept                     20.8230      0.799     26.057      0.000      19.257      22.389\n",
       "BLUE_TOP_SOLO_wr              -3.2932      0.449     -7.330      0.000      -4.174      -2.413\n",
       "BLUE_MIDDLE_SOLO_wr           -4.6459      0.463    -10.032      0.000      -5.554      -3.738\n",
       "BLUE_JUNGLE_NONE_wr           -4.3828      0.546     -8.032      0.000      -5.452      -3.313\n",
       "BLUE_BOTTOM_DUO_CARRY_wr      -4.9691      0.549     -9.048      0.000      -6.046      -3.893\n",
       "BLUE_BOTTOM_DUO_SUPPORT_wr    -5.6689      0.464    -12.226      0.000      -6.578      -4.760\n",
       "RED_TOP_SOLO_wr               -4.8969      0.465    -10.541      0.000      -5.807      -3.986\n",
       "RED_MIDDLE_SOLO_wr            -3.5145      0.469     -7.498      0.000      -4.433      -2.596\n",
       "RED_JUNGLE_NONE_wr            -3.8803      0.547     -7.090      0.000      -4.953      -2.808\n",
       "RED_BOTTOM_DUO_CARRY_wr       -3.5112      0.538     -6.529      0.000      -4.565      -2.457\n",
       "RED_BOTTOM_DUO_SUPPORT_wr     -2.4565      0.457     -5.372      0.000      -3.353      -1.560\n",
       "==============================================================================================\n",
       "\"\"\""
      ]
     },
     "execution_count": 14,
     "metadata": {},
     "output_type": "execute_result"
    }
   ],
   "source": [
    "# Basic Logistic model\n",
    "wr_formula = 'team_100_win ~ ' +  ' + '.join(lane_cols_color)\n",
    "basic_logistic = smf.glm(formula=wr_formula, data=train_wr, family=sm.families.Binomial()).fit()\n",
    "basic_logistic.summary()"
   ]
  },
  {
   "cell_type": "code",
   "execution_count": 16,
   "metadata": {},
   "outputs": [],
   "source": [
    "train_pred = basic_logistic.predict(train_wr)\n",
    "valid_pred = basic_logistic.predict(valid_wr)"
   ]
  },
  {
   "cell_type": "code",
   "execution_count": 25,
   "metadata": {},
   "outputs": [
    {
     "name": "stdout",
     "output_type": "stream",
     "text": [
      "{'threshold': 0.5, 'prediction_rate': 0.5231953947829336}\n",
      "{'threshold': 0.79, 'prediction_rate': 0.5080482721174224}\n"
     ]
    },
    {
     "data": {
      "image/png": "[encoded data removed]",
      "text/plain": [
       "<matplotlib.figure.Figure at 0x8c80ca90f0>"
      ]
     },
     "metadata": {},
     "output_type": "display_data"
    }
   ],
   "source": [
    "print(mpf.best_threshold(train_wr['team_100_win'], train_pred))\n",
    "print(mpf.best_threshold(valid_wr['team_100_win'], valid_pred))\n",
    "mpf.lorenz_curve(train_wr['team_100_win'], train_pred, valid_wr['team_100_win'], valid_pred)"
   ]
  },
  {
   "cell_type": "markdown",
   "metadata": {},
   "source": [
    "### Lesson 2: Win rates are leaking information about match outcomes"
   ]
  },
  {
   "cell_type": "markdown",
   "metadata": {},
   "source": [
    "# A Journey of Different Models\n",
    "#### 1. Encoding paired win rates and head to head win rates\n",
    "#### 2. The above but with variable selection\n",
    "#### 3. Word2Vec Encoding\n",
    "#### 4. Non-positional hot encoding\n",
    "#### 5. Predicting based on a single team\n",
    "#### 6. Ensembles"
   ]
  },
  {
   "cell_type": "code",
   "execution_count": null,
   "metadata": {},
   "outputs": [],
   "source": [
    "# Paired win rates with GBM"
   ]
  },
  {
   "cell_type": "code",
   "execution_count": null,
   "metadata": {},
   "outputs": [],
   "source": [
    "# Paired win rates with NN"
   ]
  },
  {
   "cell_type": "code",
   "execution_count": null,
   "metadata": {},
   "outputs": [],
   "source": [
    "# Word2Vec Description"
   ]
  },
  {
   "cell_type": "code",
   "execution_count": null,
   "metadata": {},
   "outputs": [],
   "source": [
    "# Non-positional hot encoding"
   ]
  },
  {
   "cell_type": "code",
   "execution_count": null,
   "metadata": {},
   "outputs": [],
   "source": [
    "# Predicting based on a single team"
   ]
  },
  {
   "cell_type": "markdown",
   "metadata": {},
   "source": [
    "### Lessons Learned So Far\n",
    "1. Hot encoding is tough on my laptop\n",
    "2. Need to find a better way to encode the variables\n",
    "3. Goal is 56% accuracy\n",
    "4. Precision and Recall not very important since so balanced."
   ]
  },
  {
   "cell_type": "code",
   "execution_count": 31,
   "metadata": {},
   "outputs": [
    {
     "ename": "ModuleNotFoundError",
     "evalue": "No module named 'xgboost'",
     "output_type": "error",
     "traceback": [
      "\u001b[1;31m---------------------------------------------------------------------------\u001b[0m",
      "\u001b[1;31mModuleNotFoundError\u001b[0m                       Traceback (most recent call last)",
      "\u001b[1;32m<ipython-input-31-e528dc1a32ff>\u001b[0m in \u001b[0;36m<module>\u001b[1;34m()\u001b[0m\n\u001b[1;32m----> 1\u001b[1;33m \u001b[1;32mimport\u001b[0m \u001b[0mxgboost\u001b[0m\u001b[1;33m\u001b[0m\u001b[0m\n\u001b[0m",
      "\u001b[1;31mModuleNotFoundError\u001b[0m: No module named 'xgboost'"
     ]
    }
   ],
   "source": [
    "# Basic Logistic model\n",
    "formula = 'team_100_win ~ C(RED_TOP_SOLO) + C(RED_MIDDLE_SOLO) + C(RED_JUNGLE_NONE) + C(RED_BOTTOM_DUO_CARRY) + C(BLUE_BOTTOM_DUO_SUPPORT)'\n",
    "basic_logistic = smf.glm(formula=formula, data=train, family=sm.families.Binomial()).fit()\n",
    "basic_logistic.summary()"
   ]
  },
  {
   "cell_type": "code",
   "execution_count": 32,
   "metadata": {},
   "outputs": [],
   "source": [
    "train_pred.to_csv('../data/model_performance/logistic_blue_side_train_pred.csv', index=False)"
   ]
  },
  {
   "cell_type": "code",
   "execution_count": 33,
   "metadata": {},
   "outputs": [],
   "source": [
    "valid2_pred.to_csv('../data/model_performance/logistic_blue_side_valid_pred.csv', index=False)"
   ]
  },
  {
   "cell_type": "code",
   "execution_count": null,
   "metadata": {},
   "outputs": [],
   "source": [
    "import importlib\n",
    "importlib.reload(mpf)\n",
    "\n"
   ]
  }
 ],
 "metadata": {
  "kernelspec": {
   "display_name": "Python 3",
   "language": "python",
   "name": "python3"
  },
  "language_info": {
   "codemirror_mode": {
    "name": "ipython",
    "version": 3
   },
   "file_extension": ".py",
   "mimetype": "text/x-python",
   "name": "python",
   "nbconvert_exporter": "python",
   "pygments_lexer": "ipython3",
   "version": "3.6.4"
  }
 },
 "nbformat": 4,
 "nbformat_minor": 2
}

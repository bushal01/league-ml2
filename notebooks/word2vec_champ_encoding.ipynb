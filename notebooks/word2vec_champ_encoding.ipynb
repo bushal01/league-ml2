{
 "cells": [
  {
   "cell_type": "markdown",
   "metadata": {},
   "source": [
    "# Word2Vec Encoding of Champions"
   ]
  },
  {
   "cell_type": "markdown",
   "metadata": {},
   "source": [
    "1. Import modules and load data\n",
    "2. Create word2vec training set of champ pairs\n",
    "3. Convert to OHE (and possible downsample for memory reasons)\n",
    "4. Train neural net\n",
    "5. Get weights from neural net\n",
    "6. Encode champs with weights from neural net and train neural net to predict match outcomes"
   ]
  },
  {
   "cell_type": "markdown",
   "metadata": {},
   "source": [
    "### 1. Import modules and load data"
   ]
  },
  {
   "cell_type": "code",
   "execution_count": 1,
   "metadata": {},
   "outputs": [
    {
     "name": "stderr",
     "output_type": "stream",
     "text": [
      "C:\\Users\\Albert\\Anaconda3\\lib\\site-packages\\h5py\\__init__.py:36: FutureWarning: Conversion of the second argument of issubdtype from `float` to `np.floating` is deprecated. In future, it will be treated as `np.float64 == np.dtype(float).type`.\n",
      "  from ._conv import register_converters as _register_converters\n",
      "Using TensorFlow backend.\n"
     ]
    }
   ],
   "source": [
    "import keras\n",
    "from keras.layers import Dense\n",
    "from keras.models import Sequential\n",
    "import pandas as pd\n",
    "import numpy as np\n",
    "import time\n",
    "import matplotlib.pyplot as plt\n",
    "import os\n",
    "import sys\n",
    "sys.path.append('../src/')\n",
    "# Project modules\n",
    "import get_modeling_data\n",
    "import model_evaluation.model_performance_functions as mpf\n",
    "import features.win_rates as wr\n",
    "import data_constants as dc\n",
    "import warnings\n",
    "warnings.filterwarnings('ignore')"
   ]
  },
  {
   "cell_type": "code",
   "execution_count": 2,
   "metadata": {},
   "outputs": [],
   "source": [
    "train = get_modeling_data.get_train()\n",
    "validation = get_modeling_data.get_validation()\n",
    "train = train.fillna(0)\n",
    "validation = validation.fillna(0)"
   ]
  },
  {
   "cell_type": "markdown",
   "metadata": {},
   "source": [
    "### 2. Create word2vec training set of champ pairs"
   ]
  },
  {
   "cell_type": "code",
   "execution_count": 3,
   "metadata": {},
   "outputs": [
    {
     "name": "stdout",
     "output_type": "stream",
     "text": [
      "(3386320, 2)\n",
      "  input output\n",
      "0  Jarv   Kata\n",
      "1  Shac   Malz\n",
      "2  Kled   Twis\n",
      "3  Pant   Morg\n",
      "4  Morg   Anni\n"
     ]
    }
   ],
   "source": [
    "word2vec_train = pd.DataFrame({'input': [], 'output': []})\n",
    "team_100_cols = ['100_TOP_SOLO', '100_MIDDLE_SOLO', '100_JUNGLE_NONE', '100_BOTTOM_DUO_CARRY', '100_BOTTOM_DUO_SUPPORT']\n",
    "word2vec_temp = pd.DataFrame({'input': [], 'output': []})\n",
    "blue_wins = train[train['team_100_win'] == 1]\n",
    "for col1 in team_100_cols:\n",
    "    for col2 in team_100_cols:\n",
    "        if col1 != col2:\n",
    "            word2vec_temp['input'] = blue_wins[col1]\n",
    "            word2vec_temp['output'] = blue_wins[col2]\n",
    "            word2vec_train = word2vec_train.append(word2vec_temp, ignore_index=True)\n",
    "\n",
    "team_200_cols = ['200_TOP_SOLO', '200_MIDDLE_SOLO', '200_JUNGLE_NONE', '200_BOTTOM_DUO_CARRY', '200_BOTTOM_DUO_SUPPORT']\n",
    "red_wins = train[train['team_100_win'] == 0]\n",
    "for col1 in team_200_cols:\n",
    "    for col2 in team_200_cols:\n",
    "        if col1 != col2:\n",
    "            word2vec_temp['input'] = blue_wins[col1]\n",
    "            word2vec_temp['output'] = blue_wins[col2]\n",
    "            word2vec_train = word2vec_train.append(word2vec_temp, ignore_index=True)\n",
    "print(word2vec_train.shape)\n",
    "print(word2vec_train.head())"
   ]
  },
  {
   "cell_type": "markdown",
   "metadata": {},
   "source": [
    "### 3. Convert to OHE (and possible downsample for memory reasons)"
   ]
  },
  {
   "cell_type": "code",
   "execution_count": 4,
   "metadata": {},
   "outputs": [],
   "source": [
    "w2v_ts = word2vec_train.sample(500000)"
   ]
  },
  {
   "cell_type": "code",
   "execution_count": 5,
   "metadata": {},
   "outputs": [],
   "source": [
    "champs = dc.get_champs_four_letters()\n",
    "for champ in champs:\n",
    "    w2v_ts[champ + '_in'] = np.where(w2v_ts['input'] == champ, 1, 0)\n",
    "    w2v_ts[champ + '_out'] = np.where(w2v_ts['output'] == champ, 1, 0)"
   ]
  },
  {
   "cell_type": "markdown",
   "metadata": {},
   "source": [
    "### 4. Train neural net"
   ]
  },
  {
   "cell_type": "code",
   "execution_count": 6,
   "metadata": {},
   "outputs": [],
   "source": [
    "in_cols = [x for x in w2v_ts.columns if x[-3:] == '_in']\n",
    "out_cols = [x for x in w2v_ts.columns if x[-4:] == '_out']"
   ]
  },
  {
   "cell_type": "code",
   "execution_count": 7,
   "metadata": {},
   "outputs": [
    {
     "name": "stdout",
     "output_type": "stream",
     "text": [
      "Epoch 1/1\n",
      "500000/500000 [==============================] - 45s 91us/step - loss: 7.7605\n"
     ]
    },
    {
     "data": {
      "text/plain": [
       "<keras.callbacks.History at 0x6602fdaa20>"
      ]
     },
     "execution_count": 7,
     "metadata": {},
     "output_type": "execute_result"
    }
   ],
   "source": [
    "model = Sequential()\n",
    "model.add(Dense(5, activation='sigmoid', input_shape=(w2v_ts[in_cols].shape[1],)))\n",
    "model.add(Dense(w2v_ts[out_cols].shape[1]))\n",
    "model.compile(optimizer='adam', loss='categorical_crossentropy')\n",
    "model.fit(w2v_ts[in_cols], w2v_ts[out_cols])"
   ]
  },
  {
   "cell_type": "code",
   "execution_count": 8,
   "metadata": {},
   "outputs": [],
   "source": [
    "train_pred = model.predict(w2v_ts[in_cols])"
   ]
  },
  {
   "cell_type": "markdown",
   "metadata": {},
   "source": [
    "### 5. Get weights from neural net"
   ]
  },
  {
   "cell_type": "code",
   "execution_count": 37,
   "metadata": {},
   "outputs": [
    {
     "data": {
      "text/html": [
       "<div>\n",
       "<style scoped>\n",
       "    .dataframe tbody tr th:only-of-type {\n",
       "        vertical-align: middle;\n",
       "    }\n",
       "\n",
       "    .dataframe tbody tr th {\n",
       "        vertical-align: top;\n",
       "    }\n",
       "\n",
       "    .dataframe thead th {\n",
       "        text-align: right;\n",
       "    }\n",
       "</style>\n",
       "<table border=\"1\" class=\"dataframe\">\n",
       "  <thead>\n",
       "    <tr style=\"text-align: right;\">\n",
       "      <th></th>\n",
       "      <th>0</th>\n",
       "      <th>1</th>\n",
       "      <th>2</th>\n",
       "      <th>3</th>\n",
       "      <th>4</th>\n",
       "    </tr>\n",
       "  </thead>\n",
       "  <tbody>\n",
       "    <tr>\n",
       "      <th>Aatr</th>\n",
       "      <td>-0.045449</td>\n",
       "      <td>0.193867</td>\n",
       "      <td>-0.143152</td>\n",
       "      <td>0.047020</td>\n",
       "      <td>-0.166744</td>\n",
       "    </tr>\n",
       "    <tr>\n",
       "      <th>Ahri</th>\n",
       "      <td>-0.017459</td>\n",
       "      <td>0.116397</td>\n",
       "      <td>-0.076675</td>\n",
       "      <td>-0.122162</td>\n",
       "      <td>0.126722</td>\n",
       "    </tr>\n",
       "    <tr>\n",
       "      <th>Akal</th>\n",
       "      <td>-0.057801</td>\n",
       "      <td>-0.210331</td>\n",
       "      <td>0.026305</td>\n",
       "      <td>-0.005185</td>\n",
       "      <td>0.011280</td>\n",
       "    </tr>\n",
       "    <tr>\n",
       "      <th>Alis</th>\n",
       "      <td>0.161005</td>\n",
       "      <td>0.012360</td>\n",
       "      <td>0.053184</td>\n",
       "      <td>-0.009253</td>\n",
       "      <td>-0.082782</td>\n",
       "    </tr>\n",
       "    <tr>\n",
       "      <th>Amum</th>\n",
       "      <td>-0.115155</td>\n",
       "      <td>-0.220798</td>\n",
       "      <td>-0.125745</td>\n",
       "      <td>-0.110866</td>\n",
       "      <td>-0.036024</td>\n",
       "    </tr>\n",
       "  </tbody>\n",
       "</table>\n",
       "</div>"
      ],
      "text/plain": [
       "             0         1         2         3         4\n",
       "Aatr -0.045449  0.193867 -0.143152  0.047020 -0.166744\n",
       "Ahri -0.017459  0.116397 -0.076675 -0.122162  0.126722\n",
       "Akal -0.057801 -0.210331  0.026305 -0.005185  0.011280\n",
       "Alis  0.161005  0.012360  0.053184 -0.009253 -0.082782\n",
       "Amum -0.115155 -0.220798 -0.125745 -0.110866 -0.036024"
      ]
     },
     "execution_count": 37,
     "metadata": {},
     "output_type": "execute_result"
    }
   ],
   "source": [
    "weights = pd.DataFrame(model.get_layer(index=0).get_weights()[0], index=champs)\n",
    "weights.head()"
   ]
  },
  {
   "cell_type": "code",
   "execution_count": 36,
   "metadata": {},
   "outputs": [],
   "source": [
    "weights.to_csv('../data/interim/w2vec_weights.csv')"
   ]
  },
  {
   "cell_type": "markdown",
   "metadata": {},
   "source": [
    "### Encode champs with weights from neural net and train neural net to predict match outcomes"
   ]
  },
  {
   "cell_type": "code",
   "execution_count": 38,
   "metadata": {},
   "outputs": [
    {
     "data": {
      "text/html": [
       "<div>\n",
       "<style scoped>\n",
       "    .dataframe tbody tr th:only-of-type {\n",
       "        vertical-align: middle;\n",
       "    }\n",
       "\n",
       "    .dataframe tbody tr th {\n",
       "        vertical-align: top;\n",
       "    }\n",
       "\n",
       "    .dataframe thead th {\n",
       "        text-align: right;\n",
       "    }\n",
       "</style>\n",
       "<table border=\"1\" class=\"dataframe\">\n",
       "  <thead>\n",
       "    <tr style=\"text-align: right;\">\n",
       "      <th></th>\n",
       "      <th>match_id</th>\n",
       "      <th>game_version</th>\n",
       "      <th>queue_id</th>\n",
       "      <th>game_duration</th>\n",
       "      <th>team_100_win</th>\n",
       "      <th>100_TOP_SOLO</th>\n",
       "      <th>100_JUNGLE_NONE</th>\n",
       "      <th>100_MIDDLE_SOLO</th>\n",
       "      <th>100_BOTTOM_DUO_CARRY</th>\n",
       "      <th>100_BOTTOM_DUO_SUPPORT</th>\n",
       "      <th>...</th>\n",
       "      <th>100_BOTTOM_DUO_SUPPORT_JUNGLE_NONE_wr</th>\n",
       "      <th>200_BOTTOM_DUO_SUPPORT_JUNGLE_NONE_wr</th>\n",
       "      <th>100_JUNGLE_NONE_TOP_SOLO_wr</th>\n",
       "      <th>200_JUNGLE_NONE_TOP_SOLO_wr</th>\n",
       "      <th>100_JUNGLE_NONE_MIDDLE_SOLO_wr</th>\n",
       "      <th>200_JUNGLE_NONE_MIDDLE_SOLO_wr</th>\n",
       "      <th>100_JUNGLE_NONE_BOTTOM_DUO_CARRY_wr</th>\n",
       "      <th>200_JUNGLE_NONE_BOTTOM_DUO_CARRY_wr</th>\n",
       "      <th>100_JUNGLE_NONE_BOTTOM_DUO_SUPPORT_wr</th>\n",
       "      <th>200_JUNGLE_NONE_BOTTOM_DUO_SUPPORT_wr</th>\n",
       "    </tr>\n",
       "  </thead>\n",
       "  <tbody>\n",
       "    <tr>\n",
       "      <th>1</th>\n",
       "      <td>2726789592</td>\n",
       "      <td>8.4.218.8787</td>\n",
       "      <td>420</td>\n",
       "      <td>1539</td>\n",
       "      <td>0</td>\n",
       "      <td>Rene</td>\n",
       "      <td>Mast</td>\n",
       "      <td>Fizz</td>\n",
       "      <td>Cait</td>\n",
       "      <td>Lux</td>\n",
       "      <td>...</td>\n",
       "      <td>0.475588</td>\n",
       "      <td>0.527778</td>\n",
       "      <td>0.512702</td>\n",
       "      <td>0.567376</td>\n",
       "      <td>0.557813</td>\n",
       "      <td>0.525316</td>\n",
       "      <td>0.518097</td>\n",
       "      <td>0.506106</td>\n",
       "      <td>0.475588</td>\n",
       "      <td>0.527778</td>\n",
       "    </tr>\n",
       "    <tr>\n",
       "      <th>2</th>\n",
       "      <td>2726784050</td>\n",
       "      <td>8.4.218.8787</td>\n",
       "      <td>420</td>\n",
       "      <td>1380</td>\n",
       "      <td>0</td>\n",
       "      <td>Kled</td>\n",
       "      <td>Reng</td>\n",
       "      <td>Ryze</td>\n",
       "      <td>Varu</td>\n",
       "      <td>Sora</td>\n",
       "      <td>...</td>\n",
       "      <td>0.511156</td>\n",
       "      <td>0.500000</td>\n",
       "      <td>0.431373</td>\n",
       "      <td>0.508584</td>\n",
       "      <td>0.424324</td>\n",
       "      <td>0.520646</td>\n",
       "      <td>0.497542</td>\n",
       "      <td>0.512665</td>\n",
       "      <td>0.511156</td>\n",
       "      <td>0.500000</td>\n",
       "    </tr>\n",
       "    <tr>\n",
       "      <th>5</th>\n",
       "      <td>2725983971</td>\n",
       "      <td>8.4.218.8787</td>\n",
       "      <td>420</td>\n",
       "      <td>2021</td>\n",
       "      <td>1</td>\n",
       "      <td>Jarv</td>\n",
       "      <td>Malp</td>\n",
       "      <td>Kata</td>\n",
       "      <td>Jinx</td>\n",
       "      <td>Thre</td>\n",
       "      <td>...</td>\n",
       "      <td>0.516129</td>\n",
       "      <td>0.610000</td>\n",
       "      <td>0.200000</td>\n",
       "      <td>0.436364</td>\n",
       "      <td>0.475000</td>\n",
       "      <td>0.507042</td>\n",
       "      <td>0.494624</td>\n",
       "      <td>0.489971</td>\n",
       "      <td>0.516129</td>\n",
       "      <td>0.610000</td>\n",
       "    </tr>\n",
       "    <tr>\n",
       "      <th>6</th>\n",
       "      <td>2725894847</td>\n",
       "      <td>8.4.218.8787</td>\n",
       "      <td>400</td>\n",
       "      <td>2071</td>\n",
       "      <td>1</td>\n",
       "      <td>Shac</td>\n",
       "      <td>Lee</td>\n",
       "      <td>Malz</td>\n",
       "      <td>Varu</td>\n",
       "      <td>Zile</td>\n",
       "      <td>...</td>\n",
       "      <td>0.441860</td>\n",
       "      <td>0.413462</td>\n",
       "      <td>0.478261</td>\n",
       "      <td>0.480000</td>\n",
       "      <td>0.439883</td>\n",
       "      <td>0.333333</td>\n",
       "      <td>0.470056</td>\n",
       "      <td>0.485294</td>\n",
       "      <td>0.441860</td>\n",
       "      <td>0.413462</td>\n",
       "    </tr>\n",
       "    <tr>\n",
       "      <th>7</th>\n",
       "      <td>2725869066</td>\n",
       "      <td>8.4.218.8787</td>\n",
       "      <td>420</td>\n",
       "      <td>1345</td>\n",
       "      <td>1</td>\n",
       "      <td>Kled</td>\n",
       "      <td>Mast</td>\n",
       "      <td>Twis</td>\n",
       "      <td>Tris</td>\n",
       "      <td>Tari</td>\n",
       "      <td>...</td>\n",
       "      <td>0.565062</td>\n",
       "      <td>0.465021</td>\n",
       "      <td>0.538462</td>\n",
       "      <td>0.452830</td>\n",
       "      <td>0.526906</td>\n",
       "      <td>0.418831</td>\n",
       "      <td>0.519860</td>\n",
       "      <td>0.443418</td>\n",
       "      <td>0.565062</td>\n",
       "      <td>0.465021</td>\n",
       "    </tr>\n",
       "  </tbody>\n",
       "</table>\n",
       "<p>5 rows × 170 columns</p>\n",
       "</div>"
      ],
      "text/plain": [
       "     match_id  game_version  queue_id  game_duration  team_100_win  \\\n",
       "1  2726789592  8.4.218.8787       420           1539             0   \n",
       "2  2726784050  8.4.218.8787       420           1380             0   \n",
       "5  2725983971  8.4.218.8787       420           2021             1   \n",
       "6  2725894847  8.4.218.8787       400           2071             1   \n",
       "7  2725869066  8.4.218.8787       420           1345             1   \n",
       "\n",
       "  100_TOP_SOLO 100_JUNGLE_NONE 100_MIDDLE_SOLO 100_BOTTOM_DUO_CARRY  \\\n",
       "1         Rene            Mast            Fizz                 Cait   \n",
       "2         Kled            Reng            Ryze                 Varu   \n",
       "5         Jarv            Malp            Kata                 Jinx   \n",
       "6         Shac            Lee             Malz                 Varu   \n",
       "7         Kled            Mast            Twis                 Tris   \n",
       "\n",
       "  100_BOTTOM_DUO_SUPPORT                  ...                    \\\n",
       "1                    Lux                  ...                     \n",
       "2                   Sora                  ...                     \n",
       "5                   Thre                  ...                     \n",
       "6                   Zile                  ...                     \n",
       "7                   Tari                  ...                     \n",
       "\n",
       "  100_BOTTOM_DUO_SUPPORT_JUNGLE_NONE_wr 200_BOTTOM_DUO_SUPPORT_JUNGLE_NONE_wr  \\\n",
       "1                              0.475588                              0.527778   \n",
       "2                              0.511156                              0.500000   \n",
       "5                              0.516129                              0.610000   \n",
       "6                              0.441860                              0.413462   \n",
       "7                              0.565062                              0.465021   \n",
       "\n",
       "  100_JUNGLE_NONE_TOP_SOLO_wr 200_JUNGLE_NONE_TOP_SOLO_wr  \\\n",
       "1                    0.512702                    0.567376   \n",
       "2                    0.431373                    0.508584   \n",
       "5                    0.200000                    0.436364   \n",
       "6                    0.478261                    0.480000   \n",
       "7                    0.538462                    0.452830   \n",
       "\n",
       "  100_JUNGLE_NONE_MIDDLE_SOLO_wr  200_JUNGLE_NONE_MIDDLE_SOLO_wr  \\\n",
       "1                       0.557813                        0.525316   \n",
       "2                       0.424324                        0.520646   \n",
       "5                       0.475000                        0.507042   \n",
       "6                       0.439883                        0.333333   \n",
       "7                       0.526906                        0.418831   \n",
       "\n",
       "   100_JUNGLE_NONE_BOTTOM_DUO_CARRY_wr  200_JUNGLE_NONE_BOTTOM_DUO_CARRY_wr  \\\n",
       "1                             0.518097                             0.506106   \n",
       "2                             0.497542                             0.512665   \n",
       "5                             0.494624                             0.489971   \n",
       "6                             0.470056                             0.485294   \n",
       "7                             0.519860                             0.443418   \n",
       "\n",
       "   100_JUNGLE_NONE_BOTTOM_DUO_SUPPORT_wr  \\\n",
       "1                               0.475588   \n",
       "2                               0.511156   \n",
       "5                               0.516129   \n",
       "6                               0.441860   \n",
       "7                               0.565062   \n",
       "\n",
       "   200_JUNGLE_NONE_BOTTOM_DUO_SUPPORT_wr  \n",
       "1                               0.527778  \n",
       "2                               0.500000  \n",
       "5                               0.610000  \n",
       "6                               0.413462  \n",
       "7                               0.465021  \n",
       "\n",
       "[5 rows x 170 columns]"
      ]
     },
     "execution_count": 38,
     "metadata": {},
     "output_type": "execute_result"
    }
   ],
   "source": [
    "weights = pd.read_csv('../data/interim/w2v')"
   ]
  },
  {
   "cell_type": "code",
   "execution_count": 60,
   "metadata": {},
   "outputs": [
    {
     "name": "stdout",
     "output_type": "stream",
     "text": [
      "100_TOP_SOLO\n",
      "100_MIDDLE_SOLO\n",
      "100_JUNGLE_NONE\n",
      "100_BOTTOM_DUO_CARRY\n",
      "100_BOTTOM_DUO_SUPPORT\n",
      "200_TOP_SOLO\n",
      "200_MIDDLE_SOLO\n",
      "200_JUNGLE_NONE\n",
      "200_BOTTOM_DUO_CARRY\n",
      "200_BOTTOM_DUO_SUPPORT\n"
     ]
    }
   ],
   "source": [
    "champ_cols = ['100_TOP_SOLO', '100_MIDDLE_SOLO', '100_JUNGLE_NONE', '100_BOTTOM_DUO_CARRY', '100_BOTTOM_DUO_SUPPORT',\n",
    "                              '200_TOP_SOLO', '200_MIDDLE_SOLO', '200_JUNGLE_NONE', '200_BOTTOM_DUO_CARRY', '200_BOTTOM_DUO_SUPPORT']\n",
    "for col in champ_cols:\n",
    "    print(col)\n",
    "    weights.columns = [col + '_0', col + '_1', col + '_2', col + '_3', col + '_4']\n",
    "    train = pd.merge(train, weights, how='left', left_on=col, right_index=True)\n",
    "    validation = pd.merge(validation, weights, how='left', left_on=col, right_index=True)"
   ]
  },
  {
   "cell_type": "code",
   "execution_count": 63,
   "metadata": {},
   "outputs": [],
   "source": [
    "encoded_cols = [x + '_0' for x in champ_cols] + [x + '_1' for x in champ_cols] \\\n",
    "               + [x + '_2' for x in champ_cols] + [x + '_3' for x in champ_cols] + [x + '_4' for x in champ_cols]\n"
   ]
  },
  {
   "cell_type": "code",
   "execution_count": 64,
   "metadata": {},
   "outputs": [
    {
     "data": {
      "text/plain": [
       "['100_TOP_SOLO_0',\n",
       " '100_MIDDLE_SOLO_0',\n",
       " '100_JUNGLE_NONE_0',\n",
       " '100_BOTTOM_DUO_CARRY_0',\n",
       " '100_BOTTOM_DUO_SUPPORT_0',\n",
       " '200_TOP_SOLO_0',\n",
       " '200_MIDDLE_SOLO_0',\n",
       " '200_JUNGLE_NONE_0',\n",
       " '200_BOTTOM_DUO_CARRY_0',\n",
       " '200_BOTTOM_DUO_SUPPORT_0',\n",
       " '100_TOP_SOLO_1',\n",
       " '100_MIDDLE_SOLO_1',\n",
       " '100_JUNGLE_NONE_1',\n",
       " '100_BOTTOM_DUO_CARRY_1',\n",
       " '100_BOTTOM_DUO_SUPPORT_1',\n",
       " '200_TOP_SOLO_1',\n",
       " '200_MIDDLE_SOLO_1',\n",
       " '200_JUNGLE_NONE_1',\n",
       " '200_BOTTOM_DUO_CARRY_1',\n",
       " '200_BOTTOM_DUO_SUPPORT_1',\n",
       " '100_TOP_SOLO_2',\n",
       " '100_MIDDLE_SOLO_2',\n",
       " '100_JUNGLE_NONE_2',\n",
       " '100_BOTTOM_DUO_CARRY_2',\n",
       " '100_BOTTOM_DUO_SUPPORT_2',\n",
       " '200_TOP_SOLO_2',\n",
       " '200_MIDDLE_SOLO_2',\n",
       " '200_JUNGLE_NONE_2',\n",
       " '200_BOTTOM_DUO_CARRY_2',\n",
       " '200_BOTTOM_DUO_SUPPORT_2',\n",
       " '100_TOP_SOLO_3',\n",
       " '100_MIDDLE_SOLO_3',\n",
       " '100_JUNGLE_NONE_3',\n",
       " '100_BOTTOM_DUO_CARRY_3',\n",
       " '100_BOTTOM_DUO_SUPPORT_3',\n",
       " '200_TOP_SOLO_3',\n",
       " '200_MIDDLE_SOLO_3',\n",
       " '200_JUNGLE_NONE_3',\n",
       " '200_BOTTOM_DUO_CARRY_3',\n",
       " '200_BOTTOM_DUO_SUPPORT_3',\n",
       " '100_TOP_SOLO_4',\n",
       " '100_MIDDLE_SOLO_4',\n",
       " '100_JUNGLE_NONE_4',\n",
       " '100_BOTTOM_DUO_CARRY_4',\n",
       " '100_BOTTOM_DUO_SUPPORT_4',\n",
       " '200_TOP_SOLO_4',\n",
       " '200_MIDDLE_SOLO_4',\n",
       " '200_JUNGLE_NONE_4',\n",
       " '200_BOTTOM_DUO_CARRY_4',\n",
       " '200_BOTTOM_DUO_SUPPORT_4']"
      ]
     },
     "execution_count": 64,
     "metadata": {},
     "output_type": "execute_result"
    }
   ],
   "source": [
    "model = Sequential()\n",
    "model.add(Dense(100, activation='sigmoid', input_shape=(train[encoded_cols].shape[1],)))\n",
    "model.add(Dense(50, activation='sigmoid'))\n",
    "model.add(Dense(20, activation='sigmoid'))\n",
    "model.add(Dense(10, activation='sigmoid'))\n",
    "model.add(Dense(1))\n",
    "model.compile(optimizer='adam', loss='mean_squared_error')\n",
    "model.fit(train[encoded_cols], Y_train)\n",
    "train_pred = model.predict(train[encoded_cols])\n",
    "print(\"Train ks and gini: \" + str(mpf.ks_gini(Y_train, train_pred[:,0])))\n",
    "print(\"Train accuracy: \" + str(mpf.correct_prediction_rate(Y_train, train_pred[:,0])))\n",
    "valid_pred = model.predict(X_validation6)\n",
    "print(\"Validation ks and gini: \" + str(mpf.ks_gini(Y_validation, valid_pred[:,0])))\n",
    "print(\"Validation accuracy: \" + str(mpf.correct_prediction_rate(Y_validation, valid_pred[:,0])))"
   ]
  },
  {
   "cell_type": "code",
   "execution_count": null,
   "metadata": {},
   "outputs": [],
   "source": []
  }
 ],
 "metadata": {
  "kernelspec": {
   "display_name": "Python 3",
   "language": "python",
   "name": "python3"
  },
  "language_info": {
   "codemirror_mode": {
    "name": "ipython",
    "version": 3
   },
   "file_extension": ".py",
   "mimetype": "text/x-python",
   "name": "python",
   "nbconvert_exporter": "python",
   "pygments_lexer": "ipython3",
   "version": "3.6.4"
  }
 },
 "nbformat": 4,
 "nbformat_minor": 2
}

{
 "cells": [
  {
   "cell_type": "markdown",
   "metadata": {},
   "source": [
    "# Word2Vec Encoding of Champions"
   ]
  },
  {
   "cell_type": "markdown",
   "metadata": {},
   "source": [
    "1. Import modules and load data\n",
    "2. Create word2vec training set of champ pairs\n",
    "3. Convert to OHE (and possible downsample for memory reasons)\n",
    "4. Train neural net\n",
    "5. Get weights from neural net\n",
    "6. Encode champs with weights from neural net and train neural net to predict match outcomes"
   ]
  },
  {
   "cell_type": "markdown",
   "metadata": {},
   "source": [
    "### 1. Import modules and load data"
   ]
  },
  {
   "cell_type": "code",
   "execution_count": 1,
   "metadata": {},
   "outputs": [
    {
     "name": "stderr",
     "output_type": "stream",
     "text": [
      "C:\\Users\\Albert\\Anaconda3\\lib\\site-packages\\h5py\\__init__.py:36: FutureWarning: Conversion of the second argument of issubdtype from `float` to `np.floating` is deprecated. In future, it will be treated as `np.float64 == np.dtype(float).type`.\n",
      "  from ._conv import register_converters as _register_converters\n",
      "Using TensorFlow backend.\n"
     ]
    }
   ],
   "source": [
    "import keras\n",
    "from keras.layers import Dense\n",
    "from keras.models import Sequential\n",
    "import pandas as pd\n",
    "import numpy as np\n",
    "import time\n",
    "import matplotlib.pyplot as plt\n",
    "import os\n",
    "import sys\n",
    "sys.path.append('../src/')\n",
    "# Project modules\n",
    "import get_modeling_data\n",
    "import model_evaluation.model_performance_functions as mpf\n",
    "import features.win_rates as wr\n",
    "import data_constants as dc\n",
    "import warnings\n",
    "warnings.filterwarnings('ignore')"
   ]
  },
  {
   "cell_type": "code",
   "execution_count": 2,
   "metadata": {},
   "outputs": [],
   "source": [
    "train = get_modeling_data.get_train()\n",
    "validation = get_modeling_data.get_validation()\n",
    "train = train.fillna(0)\n",
    "validation = validation.fillna(0)"
   ]
  },
  {
   "cell_type": "markdown",
   "metadata": {},
   "source": [
    "### 2. Create word2vec training set of champ pairs"
   ]
  },
  {
   "cell_type": "code",
   "execution_count": 3,
   "metadata": {},
   "outputs": [
    {
     "name": "stdout",
     "output_type": "stream",
     "text": [
      "(3386320, 2)\n",
      "  input output\n",
      "0  Jarv   Kata\n",
      "1  Shac   Malz\n",
      "2  Kled   Twis\n",
      "3  Pant   Morg\n",
      "4  Morg   Anni\n"
     ]
    }
   ],
   "source": [
    "word2vec_train = pd.DataFrame({'input': [], 'output': []})\n",
    "team_100_cols = ['100_TOP_SOLO', '100_MIDDLE_SOLO', '100_JUNGLE_NONE', '100_BOTTOM_DUO_CARRY', '100_BOTTOM_DUO_SUPPORT']\n",
    "word2vec_temp = pd.DataFrame({'input': [], 'output': []})\n",
    "blue_wins = train[train['team_100_win'] == 1]\n",
    "for col1 in team_100_cols:\n",
    "    for col2 in team_100_cols:\n",
    "        if col1 != col2:\n",
    "            word2vec_temp['input'] = blue_wins[col1]\n",
    "            word2vec_temp['output'] = blue_wins[col2]\n",
    "            word2vec_train = word2vec_train.append(word2vec_temp, ignore_index=True)\n",
    "\n",
    "team_200_cols = ['200_TOP_SOLO', '200_MIDDLE_SOLO', '200_JUNGLE_NONE', '200_BOTTOM_DUO_CARRY', '200_BOTTOM_DUO_SUPPORT']\n",
    "red_wins = train[train['team_100_win'] == 0]\n",
    "for col1 in team_200_cols:\n",
    "    for col2 in team_200_cols:\n",
    "        if col1 != col2:\n",
    "            word2vec_temp['input'] = blue_wins[col1]\n",
    "            word2vec_temp['output'] = blue_wins[col2]\n",
    "            word2vec_train = word2vec_train.append(word2vec_temp, ignore_index=True)\n",
    "print(word2vec_train.shape)\n",
    "print(word2vec_train.head())"
   ]
  },
  {
   "cell_type": "markdown",
   "metadata": {},
   "source": [
    "### 3. Convert to OHE (and possible downsample for memory reasons)"
   ]
  },
  {
   "cell_type": "code",
   "execution_count": 4,
   "metadata": {},
   "outputs": [],
   "source": [
    "w2v_ts = word2vec_train.sample(500000)"
   ]
  },
  {
   "cell_type": "code",
   "execution_count": 5,
   "metadata": {},
   "outputs": [],
   "source": [
    "champs = dc.get_champs_four_letters()\n",
    "for champ in champs:\n",
    "    w2v_ts[champ + '_in'] = np.where(w2v_ts['input'] == champ, 1, 0)\n",
    "    w2v_ts[champ + '_out'] = np.where(w2v_ts['output'] == champ, 1, 0)"
   ]
  },
  {
   "cell_type": "markdown",
   "metadata": {},
   "source": [
    "### 4. Train neural net"
   ]
  },
  {
   "cell_type": "code",
   "execution_count": 6,
   "metadata": {},
   "outputs": [],
   "source": [
    "in_cols = [x for x in w2v_ts.columns if x[-3:] == '_in']\n",
    "out_cols = [x for x in w2v_ts.columns if x[-4:] == '_out']"
   ]
  },
  {
   "cell_type": "code",
   "execution_count": 7,
   "metadata": {},
   "outputs": [
    {
     "name": "stdout",
     "output_type": "stream",
     "text": [
      "Epoch 1/1\n",
      "500000/500000 [==============================] - 46s 91us/step - loss: 7.3486\n"
     ]
    },
    {
     "data": {
      "text/plain": [
       "<keras.callbacks.History at 0xfac1824828>"
      ]
     },
     "execution_count": 7,
     "metadata": {},
     "output_type": "execute_result"
    }
   ],
   "source": [
    "model = Sequential()\n",
    "model.add(Dense(10, activation='sigmoid', input_shape=(w2v_ts[in_cols].shape[1],)))\n",
    "model.add(Dense(w2v_ts[out_cols].shape[1]))\n",
    "model.compile(optimizer='adam', loss='categorical_crossentropy')\n",
    "model.fit(w2v_ts[in_cols], w2v_ts[out_cols])"
   ]
  },
  {
   "cell_type": "code",
   "execution_count": 8,
   "metadata": {},
   "outputs": [],
   "source": [
    "#train_pred = model.predict(w2v_ts[in_cols])"
   ]
  },
  {
   "cell_type": "markdown",
   "metadata": {},
   "source": [
    "### 5. Get weights from neural net"
   ]
  },
  {
   "cell_type": "code",
   "execution_count": 9,
   "metadata": {},
   "outputs": [
    {
     "data": {
      "text/html": [
       "<div>\n",
       "<style scoped>\n",
       "    .dataframe tbody tr th:only-of-type {\n",
       "        vertical-align: middle;\n",
       "    }\n",
       "\n",
       "    .dataframe tbody tr th {\n",
       "        vertical-align: top;\n",
       "    }\n",
       "\n",
       "    .dataframe thead th {\n",
       "        text-align: right;\n",
       "    }\n",
       "</style>\n",
       "<table border=\"1\" class=\"dataframe\">\n",
       "  <thead>\n",
       "    <tr style=\"text-align: right;\">\n",
       "      <th></th>\n",
       "      <th>0</th>\n",
       "      <th>1</th>\n",
       "      <th>2</th>\n",
       "      <th>3</th>\n",
       "      <th>4</th>\n",
       "      <th>5</th>\n",
       "      <th>6</th>\n",
       "      <th>7</th>\n",
       "      <th>8</th>\n",
       "      <th>9</th>\n",
       "    </tr>\n",
       "  </thead>\n",
       "  <tbody>\n",
       "    <tr>\n",
       "      <th>Aatr</th>\n",
       "      <td>-0.089569</td>\n",
       "      <td>-0.084701</td>\n",
       "      <td>0.179452</td>\n",
       "      <td>-0.097304</td>\n",
       "      <td>-0.005922</td>\n",
       "      <td>0.150035</td>\n",
       "      <td>0.078898</td>\n",
       "      <td>-0.041835</td>\n",
       "      <td>-0.005252</td>\n",
       "      <td>-0.141666</td>\n",
       "    </tr>\n",
       "    <tr>\n",
       "      <th>Ahri</th>\n",
       "      <td>0.004493</td>\n",
       "      <td>-0.013360</td>\n",
       "      <td>0.123808</td>\n",
       "      <td>0.128273</td>\n",
       "      <td>0.005684</td>\n",
       "      <td>-0.127973</td>\n",
       "      <td>-0.112503</td>\n",
       "      <td>-0.131317</td>\n",
       "      <td>-0.209800</td>\n",
       "      <td>0.038655</td>\n",
       "    </tr>\n",
       "    <tr>\n",
       "      <th>Akal</th>\n",
       "      <td>-0.184045</td>\n",
       "      <td>-0.192603</td>\n",
       "      <td>0.025008</td>\n",
       "      <td>-0.035363</td>\n",
       "      <td>0.117062</td>\n",
       "      <td>0.155325</td>\n",
       "      <td>0.028803</td>\n",
       "      <td>0.065332</td>\n",
       "      <td>0.141745</td>\n",
       "      <td>0.147642</td>\n",
       "    </tr>\n",
       "    <tr>\n",
       "      <th>Alis</th>\n",
       "      <td>0.107325</td>\n",
       "      <td>-0.026489</td>\n",
       "      <td>0.103717</td>\n",
       "      <td>0.012351</td>\n",
       "      <td>0.010533</td>\n",
       "      <td>-0.121635</td>\n",
       "      <td>0.093064</td>\n",
       "      <td>0.184175</td>\n",
       "      <td>-0.181098</td>\n",
       "      <td>-0.049597</td>\n",
       "    </tr>\n",
       "    <tr>\n",
       "      <th>Amum</th>\n",
       "      <td>0.028132</td>\n",
       "      <td>-0.039928</td>\n",
       "      <td>0.195703</td>\n",
       "      <td>-0.108458</td>\n",
       "      <td>0.103810</td>\n",
       "      <td>0.036709</td>\n",
       "      <td>0.100832</td>\n",
       "      <td>0.179343</td>\n",
       "      <td>-0.086603</td>\n",
       "      <td>-0.154195</td>\n",
       "    </tr>\n",
       "  </tbody>\n",
       "</table>\n",
       "</div>"
      ],
      "text/plain": [
       "             0         1         2         3         4         5         6  \\\n",
       "Aatr -0.089569 -0.084701  0.179452 -0.097304 -0.005922  0.150035  0.078898   \n",
       "Ahri  0.004493 -0.013360  0.123808  0.128273  0.005684 -0.127973 -0.112503   \n",
       "Akal -0.184045 -0.192603  0.025008 -0.035363  0.117062  0.155325  0.028803   \n",
       "Alis  0.107325 -0.026489  0.103717  0.012351  0.010533 -0.121635  0.093064   \n",
       "Amum  0.028132 -0.039928  0.195703 -0.108458  0.103810  0.036709  0.100832   \n",
       "\n",
       "             7         8         9  \n",
       "Aatr -0.041835 -0.005252 -0.141666  \n",
       "Ahri -0.131317 -0.209800  0.038655  \n",
       "Akal  0.065332  0.141745  0.147642  \n",
       "Alis  0.184175 -0.181098 -0.049597  \n",
       "Amum  0.179343 -0.086603 -0.154195  "
      ]
     },
     "execution_count": 9,
     "metadata": {},
     "output_type": "execute_result"
    }
   ],
   "source": [
    "weights = pd.DataFrame(model.get_layer(index=0).get_weights()[0], index=champs)\n",
    "weights.head()"
   ]
  },
  {
   "cell_type": "code",
   "execution_count": 10,
   "metadata": {},
   "outputs": [],
   "source": [
    "weights.to_csv('../data/interim/w2vec_weights.csv')"
   ]
  },
  {
   "cell_type": "markdown",
   "metadata": {},
   "source": [
    "### Encode champs with weights from neural net and train neural net to predict match outcomes"
   ]
  },
  {
   "cell_type": "code",
   "execution_count": 11,
   "metadata": {},
   "outputs": [],
   "source": [
    "weights = pd.read_csv('../data/interim/w2vec_weights.csv', index_col=0)"
   ]
  },
  {
   "cell_type": "code",
   "execution_count": 12,
   "metadata": {},
   "outputs": [],
   "source": [
    "champ_cols = ['100_TOP_SOLO', '100_MIDDLE_SOLO', '100_JUNGLE_NONE', '100_BOTTOM_DUO_CARRY', '100_BOTTOM_DUO_SUPPORT',\n",
    "                              '200_TOP_SOLO', '200_MIDDLE_SOLO', '200_JUNGLE_NONE', '200_BOTTOM_DUO_CARRY', '200_BOTTOM_DUO_SUPPORT']\n",
    "for col in champ_cols:\n",
    "    weights.columns = [col + '_' + str(x) for x in range(weights.shape[1])]\n",
    "    train = pd.merge(train, weights, how='left', left_on=col, right_index=True)\n",
    "    validation = pd.merge(validation, weights, how='left', left_on=col, right_index=True)"
   ]
  },
  {
   "cell_type": "code",
   "execution_count": 13,
   "metadata": {},
   "outputs": [],
   "source": [
    "encoded_cols = [x + '_0' for x in champ_cols] + [x + '_1' for x in champ_cols] \\\n",
    "               + [x + '_2' for x in champ_cols] + [x + '_3' for x in champ_cols] + [x + '_4' for x in champ_cols]\n",
    "X_train = train[encoded_cols]\n",
    "X_validation = validation[encoded_cols]\n",
    "Y_train = train['team_100_win']\n",
    "Y_validation = validation['team_100_win']"
   ]
  },
  {
   "cell_type": "code",
   "execution_count": 16,
   "metadata": {},
   "outputs": [
    {
     "name": "stdout",
     "output_type": "stream",
     "text": [
      "Epoch 1/1\n",
      "171284/171284 [==============================] - 10s 56us/step - loss: 0.2508\n",
      "Train ks and gini: {'ks': 0.03996083579904153, 'gini': 0.027794769427040136}\n",
      "Train accuracy: 0.5057798743607108\n",
      "Validation ks and gini: {'ks': 0.04120129507526804, 'gini': 0.02795874408253728}\n",
      "Validation accuracy: 0.5080307568353388\n"
     ]
    }
   ],
   "source": [
    "model = Sequential()\n",
    "model.add(Dense(100, activation='sigmoid', input_shape=(X_train.shape[1],)))\n",
    "model.add(Dense(50, activation='sigmoid'))\n",
    "model.add(Dense(20, activation='sigmoid'))\n",
    "model.add(Dense(10, activation='sigmoid'))\n",
    "model.add(Dense(1))\n",
    "model.compile(optimizer='adam', loss='mean_squared_error')\n",
    "model.fit(X_train, Y_train)\n",
    "train_pred = model.predict(X_train)\n",
    "print(\"Train ks and gini: \" + str(mpf.ks_gini(Y_train, train_pred[:,0])))\n",
    "print(\"Train accuracy: \" + str(mpf.correct_prediction_rate(Y_train, train_pred[:,0])))\n",
    "valid_pred = model.predict(X_validation)\n",
    "print(\"Validation ks and gini: \" + str(mpf.ks_gini(Y_validation, valid_pred[:,0])))\n",
    "print(\"Validation accuracy: \" + str(mpf.correct_prediction_rate(Y_validation, valid_pred[:,0])))"
   ]
  },
  {
   "cell_type": "code",
   "execution_count": 15,
   "metadata": {},
   "outputs": [
    {
     "name": "stdout",
     "output_type": "stream",
     "text": [
      "Train accuracy: 0.4942551551808692\n",
      "Validation accuracy: 0.4919692431646612\n",
      "Train accuracy: 0.4942551551808692\n",
      "Validation accuracy: 0.4919692431646612\n",
      "Train accuracy: 0.4942551551808692\n",
      "Validation accuracy: 0.4919692431646612\n",
      "Train accuracy: 0.4942551551808692\n",
      "Validation accuracy: 0.4919692431646612\n",
      "Train accuracy: 0.4942551551808692\n",
      "Validation accuracy: 0.4919692431646612\n",
      "Train accuracy: 0.4942551551808692\n",
      "Validation accuracy: 0.4919692431646612\n",
      "Train accuracy: 0.4942551551808692\n",
      "Validation accuracy: 0.4919692431646612\n",
      "Train accuracy: 0.49427850820858926\n",
      "Validation accuracy: 0.4920042737288284\n",
      "Train accuracy: 0.49493239298475045\n",
      "Validation accuracy: 0.49231954880633355\n",
      "Train accuracy: 0.4989724667803181\n",
      "Validation accuracy: 0.4951044786576288\n",
      "Train accuracy: 0.5078991616263049\n",
      "Validation accuracy: 0.50605152995989\n",
      "Train accuracy: 0.5183204502463744\n",
      "Validation accuracy: 0.5181721051617536\n",
      "Train accuracy: 0.5174914177623129\n",
      "Validation accuracy: 0.5195733277284431\n",
      "Train accuracy: 0.5083253543821956\n",
      "Validation accuracy: 0.5110784159178884\n",
      "Train accuracy: 0.5058032273884309\n",
      "Validation accuracy: 0.508118333245757\n",
      "Train accuracy: 0.5057448448191308\n",
      "Validation accuracy: 0.5080307568353388\n",
      "Train accuracy: 0.5057448448191308\n",
      "Validation accuracy: 0.5080307568353388\n",
      "Train accuracy: 0.5057448448191308\n",
      "Validation accuracy: 0.5080307568353388\n",
      "Train accuracy: 0.5057448448191308\n",
      "Validation accuracy: 0.5080307568353388\n",
      "Train accuracy: 0.5057448448191308\n",
      "Validation accuracy: 0.5080307568353388\n"
     ]
    }
   ],
   "source": [
    "thresholds = [x/100 for x in range(40, 60)]\n",
    "for t in thresholds:\n",
    "    print(\"Train accuracy: \" + str(mpf.correct_prediction_rate(Y_train, train_pred[:,0], t)))\n",
    "    print(\"Validation accuracy: \" + str(mpf.correct_prediction_rate(Y_validation, valid_pred[:,0], t)))"
   ]
  },
  {
   "cell_type": "code",
   "execution_count": null,
   "metadata": {},
   "outputs": [],
   "source": []
  }
 ],
 "metadata": {
  "kernelspec": {
   "display_name": "Python 3",
   "language": "python",
   "name": "python3"
  },
  "language_info": {
   "codemirror_mode": {
    "name": "ipython",
    "version": 3
   },
   "file_extension": ".py",
   "mimetype": "text/x-python",
   "name": "python",
   "nbconvert_exporter": "python",
   "pygments_lexer": "ipython3",
   "version": "3.6.4"
  }
 },
 "nbformat": 4,
 "nbformat_minor": 2
}

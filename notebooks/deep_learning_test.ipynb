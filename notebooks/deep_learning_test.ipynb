{
 "cells": [
  {
   "cell_type": "code",
   "execution_count": 1,
   "metadata": {},
   "outputs": [
    {
     "name": "stderr",
     "output_type": "stream",
     "text": [
      "C:\\Users\\Albert\\Anaconda3\\lib\\site-packages\\h5py\\__init__.py:36: FutureWarning: Conversion of the second argument of issubdtype from `float` to `np.floating` is deprecated. In future, it will be treated as `np.float64 == np.dtype(float).type`.\n",
      "  from ._conv import register_converters as _register_converters\n",
      "Using TensorFlow backend.\n"
     ]
    }
   ],
   "source": [
    "import keras\n",
    "from keras.layers import Dense\n",
    "from keras.models import Sequential\n",
    "import pandas as pd\n",
    "import numpy as np\n",
    "import os\n",
    "import sys\n",
    "sys.path.append('../src/')\n",
    "import get_modeling_data\n",
    "import model_evaluation.model_performance_functions as mpf\n",
    "import time\n",
    "import matplotlib.pyplot as plt"
   ]
  },
  {
   "cell_type": "code",
   "execution_count": null,
   "metadata": {},
   "outputs": [],
   "source": []
  },
  {
   "cell_type": "code",
   "execution_count": 2,
   "metadata": {},
   "outputs": [
    {
     "ename": "FileNotFoundError",
     "evalue": "File b'C:\\\\\\\\Users\\\\\\\\Albert\\\\\\\\Desktop\\\\\\\\Programming\\\\\\\\league-ml2\\\\\\\\data\\\\\\\\processed\\\\train_v2.csv' does not exist",
     "output_type": "error",
     "traceback": [
      "\u001b[1;31m---------------------------------------------------------------------------\u001b[0m",
      "\u001b[1;31mFileNotFoundError\u001b[0m                         Traceback (most recent call last)",
      "\u001b[1;32m<ipython-input-2-143460d6ee08>\u001b[0m in \u001b[0;36m<module>\u001b[1;34m()\u001b[0m\n\u001b[1;32m----> 1\u001b[1;33m \u001b[0mtrain\u001b[0m \u001b[1;33m=\u001b[0m \u001b[0mget_modeling_data\u001b[0m\u001b[1;33m.\u001b[0m\u001b[0mget_train\u001b[0m\u001b[1;33m(\u001b[0m\u001b[1;33m)\u001b[0m\u001b[1;33m\u001b[0m\u001b[0m\n\u001b[0m\u001b[0;32m      2\u001b[0m \u001b[0mvalidation\u001b[0m \u001b[1;33m=\u001b[0m \u001b[0mget_modeling_data\u001b[0m\u001b[1;33m.\u001b[0m\u001b[0mget_validation\u001b[0m\u001b[1;33m(\u001b[0m\u001b[1;33m)\u001b[0m\u001b[1;33m\u001b[0m\u001b[0m\n\u001b[0;32m      3\u001b[0m \u001b[0mtrain\u001b[0m \u001b[1;33m=\u001b[0m \u001b[0mtrain\u001b[0m\u001b[1;33m.\u001b[0m\u001b[0mfillna\u001b[0m\u001b[1;33m(\u001b[0m\u001b[1;36m0\u001b[0m\u001b[1;33m)\u001b[0m\u001b[1;33m\u001b[0m\u001b[0m\n\u001b[0;32m      4\u001b[0m \u001b[0mvalidation\u001b[0m \u001b[1;33m=\u001b[0m \u001b[0mvalidation\u001b[0m\u001b[1;33m.\u001b[0m\u001b[0mfillna\u001b[0m\u001b[1;33m(\u001b[0m\u001b[1;36m0\u001b[0m\u001b[1;33m)\u001b[0m\u001b[1;33m\u001b[0m\u001b[0m\n\u001b[0;32m      5\u001b[0m \u001b[0mnon_modeling_cols\u001b[0m \u001b[1;33m=\u001b[0m \u001b[0mget_modeling_data\u001b[0m\u001b[1;33m.\u001b[0m\u001b[0mget_non_modeling_cols\u001b[0m\u001b[1;33m(\u001b[0m\u001b[1;33m)\u001b[0m\u001b[1;33m\u001b[0m\u001b[0m\n",
      "\u001b[1;32m~\\Desktop\\Programming\\league-ml2\\src\\get_modeling_data.py\u001b[0m in \u001b[0;36mget_train\u001b[1;34m()\u001b[0m\n\u001b[0;32m     12\u001b[0m \u001b[1;33m\u001b[0m\u001b[0m\n\u001b[0;32m     13\u001b[0m \u001b[1;32mdef\u001b[0m \u001b[0mget_train\u001b[0m\u001b[1;33m(\u001b[0m\u001b[1;33m)\u001b[0m\u001b[1;33m:\u001b[0m\u001b[1;33m\u001b[0m\u001b[0m\n\u001b[1;32m---> 14\u001b[1;33m     \u001b[0mtrain\u001b[0m \u001b[1;33m=\u001b[0m \u001b[0mpd\u001b[0m\u001b[1;33m.\u001b[0m\u001b[0mread_csv\u001b[0m\u001b[1;33m(\u001b[0m\u001b[0mtrain_file\u001b[0m\u001b[1;33m,\u001b[0m \u001b[0mindex_col\u001b[0m\u001b[1;33m=\u001b[0m\u001b[1;33m[\u001b[0m\u001b[1;36m0\u001b[0m\u001b[1;33m]\u001b[0m\u001b[1;33m)\u001b[0m\u001b[1;33m\u001b[0m\u001b[0m\n\u001b[0m\u001b[0;32m     15\u001b[0m     \u001b[1;32mreturn\u001b[0m \u001b[0mtrain\u001b[0m\u001b[1;33m\u001b[0m\u001b[0m\n\u001b[0;32m     16\u001b[0m \u001b[1;33m\u001b[0m\u001b[0m\n",
      "\u001b[1;32m~\\Anaconda3\\lib\\site-packages\\pandas\\io\\parsers.py\u001b[0m in \u001b[0;36mparser_f\u001b[1;34m(filepath_or_buffer, sep, delimiter, header, names, index_col, usecols, squeeze, prefix, mangle_dupe_cols, dtype, engine, converters, true_values, false_values, skipinitialspace, skiprows, nrows, na_values, keep_default_na, na_filter, verbose, skip_blank_lines, parse_dates, infer_datetime_format, keep_date_col, date_parser, dayfirst, iterator, chunksize, compression, thousands, decimal, lineterminator, quotechar, quoting, escapechar, comment, encoding, dialect, tupleize_cols, error_bad_lines, warn_bad_lines, skipfooter, skip_footer, doublequote, delim_whitespace, as_recarray, compact_ints, use_unsigned, low_memory, buffer_lines, memory_map, float_precision)\u001b[0m\n\u001b[0;32m    707\u001b[0m                     skip_blank_lines=skip_blank_lines)\n\u001b[0;32m    708\u001b[0m \u001b[1;33m\u001b[0m\u001b[0m\n\u001b[1;32m--> 709\u001b[1;33m         \u001b[1;32mreturn\u001b[0m \u001b[0m_read\u001b[0m\u001b[1;33m(\u001b[0m\u001b[0mfilepath_or_buffer\u001b[0m\u001b[1;33m,\u001b[0m \u001b[0mkwds\u001b[0m\u001b[1;33m)\u001b[0m\u001b[1;33m\u001b[0m\u001b[0m\n\u001b[0m\u001b[0;32m    710\u001b[0m \u001b[1;33m\u001b[0m\u001b[0m\n\u001b[0;32m    711\u001b[0m     \u001b[0mparser_f\u001b[0m\u001b[1;33m.\u001b[0m\u001b[0m__name__\u001b[0m \u001b[1;33m=\u001b[0m \u001b[0mname\u001b[0m\u001b[1;33m\u001b[0m\u001b[0m\n",
      "\u001b[1;32m~\\Anaconda3\\lib\\site-packages\\pandas\\io\\parsers.py\u001b[0m in \u001b[0;36m_read\u001b[1;34m(filepath_or_buffer, kwds)\u001b[0m\n\u001b[0;32m    447\u001b[0m \u001b[1;33m\u001b[0m\u001b[0m\n\u001b[0;32m    448\u001b[0m     \u001b[1;31m# Create the parser.\u001b[0m\u001b[1;33m\u001b[0m\u001b[1;33m\u001b[0m\u001b[0m\n\u001b[1;32m--> 449\u001b[1;33m     \u001b[0mparser\u001b[0m \u001b[1;33m=\u001b[0m \u001b[0mTextFileReader\u001b[0m\u001b[1;33m(\u001b[0m\u001b[0mfilepath_or_buffer\u001b[0m\u001b[1;33m,\u001b[0m \u001b[1;33m**\u001b[0m\u001b[0mkwds\u001b[0m\u001b[1;33m)\u001b[0m\u001b[1;33m\u001b[0m\u001b[0m\n\u001b[0m\u001b[0;32m    450\u001b[0m \u001b[1;33m\u001b[0m\u001b[0m\n\u001b[0;32m    451\u001b[0m     \u001b[1;32mif\u001b[0m \u001b[0mchunksize\u001b[0m \u001b[1;32mor\u001b[0m \u001b[0miterator\u001b[0m\u001b[1;33m:\u001b[0m\u001b[1;33m\u001b[0m\u001b[0m\n",
      "\u001b[1;32m~\\Anaconda3\\lib\\site-packages\\pandas\\io\\parsers.py\u001b[0m in \u001b[0;36m__init__\u001b[1;34m(self, f, engine, **kwds)\u001b[0m\n\u001b[0;32m    816\u001b[0m             \u001b[0mself\u001b[0m\u001b[1;33m.\u001b[0m\u001b[0moptions\u001b[0m\u001b[1;33m[\u001b[0m\u001b[1;34m'has_index_names'\u001b[0m\u001b[1;33m]\u001b[0m \u001b[1;33m=\u001b[0m \u001b[0mkwds\u001b[0m\u001b[1;33m[\u001b[0m\u001b[1;34m'has_index_names'\u001b[0m\u001b[1;33m]\u001b[0m\u001b[1;33m\u001b[0m\u001b[0m\n\u001b[0;32m    817\u001b[0m \u001b[1;33m\u001b[0m\u001b[0m\n\u001b[1;32m--> 818\u001b[1;33m         \u001b[0mself\u001b[0m\u001b[1;33m.\u001b[0m\u001b[0m_make_engine\u001b[0m\u001b[1;33m(\u001b[0m\u001b[0mself\u001b[0m\u001b[1;33m.\u001b[0m\u001b[0mengine\u001b[0m\u001b[1;33m)\u001b[0m\u001b[1;33m\u001b[0m\u001b[0m\n\u001b[0m\u001b[0;32m    819\u001b[0m \u001b[1;33m\u001b[0m\u001b[0m\n\u001b[0;32m    820\u001b[0m     \u001b[1;32mdef\u001b[0m \u001b[0mclose\u001b[0m\u001b[1;33m(\u001b[0m\u001b[0mself\u001b[0m\u001b[1;33m)\u001b[0m\u001b[1;33m:\u001b[0m\u001b[1;33m\u001b[0m\u001b[0m\n",
      "\u001b[1;32m~\\Anaconda3\\lib\\site-packages\\pandas\\io\\parsers.py\u001b[0m in \u001b[0;36m_make_engine\u001b[1;34m(self, engine)\u001b[0m\n\u001b[0;32m   1047\u001b[0m     \u001b[1;32mdef\u001b[0m \u001b[0m_make_engine\u001b[0m\u001b[1;33m(\u001b[0m\u001b[0mself\u001b[0m\u001b[1;33m,\u001b[0m \u001b[0mengine\u001b[0m\u001b[1;33m=\u001b[0m\u001b[1;34m'c'\u001b[0m\u001b[1;33m)\u001b[0m\u001b[1;33m:\u001b[0m\u001b[1;33m\u001b[0m\u001b[0m\n\u001b[0;32m   1048\u001b[0m         \u001b[1;32mif\u001b[0m \u001b[0mengine\u001b[0m \u001b[1;33m==\u001b[0m \u001b[1;34m'c'\u001b[0m\u001b[1;33m:\u001b[0m\u001b[1;33m\u001b[0m\u001b[0m\n\u001b[1;32m-> 1049\u001b[1;33m             \u001b[0mself\u001b[0m\u001b[1;33m.\u001b[0m\u001b[0m_engine\u001b[0m \u001b[1;33m=\u001b[0m \u001b[0mCParserWrapper\u001b[0m\u001b[1;33m(\u001b[0m\u001b[0mself\u001b[0m\u001b[1;33m.\u001b[0m\u001b[0mf\u001b[0m\u001b[1;33m,\u001b[0m \u001b[1;33m**\u001b[0m\u001b[0mself\u001b[0m\u001b[1;33m.\u001b[0m\u001b[0moptions\u001b[0m\u001b[1;33m)\u001b[0m\u001b[1;33m\u001b[0m\u001b[0m\n\u001b[0m\u001b[0;32m   1050\u001b[0m         \u001b[1;32melse\u001b[0m\u001b[1;33m:\u001b[0m\u001b[1;33m\u001b[0m\u001b[0m\n\u001b[0;32m   1051\u001b[0m             \u001b[1;32mif\u001b[0m \u001b[0mengine\u001b[0m \u001b[1;33m==\u001b[0m \u001b[1;34m'python'\u001b[0m\u001b[1;33m:\u001b[0m\u001b[1;33m\u001b[0m\u001b[0m\n",
      "\u001b[1;32m~\\Anaconda3\\lib\\site-packages\\pandas\\io\\parsers.py\u001b[0m in \u001b[0;36m__init__\u001b[1;34m(self, src, **kwds)\u001b[0m\n\u001b[0;32m   1693\u001b[0m         \u001b[0mkwds\u001b[0m\u001b[1;33m[\u001b[0m\u001b[1;34m'allow_leading_cols'\u001b[0m\u001b[1;33m]\u001b[0m \u001b[1;33m=\u001b[0m \u001b[0mself\u001b[0m\u001b[1;33m.\u001b[0m\u001b[0mindex_col\u001b[0m \u001b[1;32mis\u001b[0m \u001b[1;32mnot\u001b[0m \u001b[1;32mFalse\u001b[0m\u001b[1;33m\u001b[0m\u001b[0m\n\u001b[0;32m   1694\u001b[0m \u001b[1;33m\u001b[0m\u001b[0m\n\u001b[1;32m-> 1695\u001b[1;33m         \u001b[0mself\u001b[0m\u001b[1;33m.\u001b[0m\u001b[0m_reader\u001b[0m \u001b[1;33m=\u001b[0m \u001b[0mparsers\u001b[0m\u001b[1;33m.\u001b[0m\u001b[0mTextReader\u001b[0m\u001b[1;33m(\u001b[0m\u001b[0msrc\u001b[0m\u001b[1;33m,\u001b[0m \u001b[1;33m**\u001b[0m\u001b[0mkwds\u001b[0m\u001b[1;33m)\u001b[0m\u001b[1;33m\u001b[0m\u001b[0m\n\u001b[0m\u001b[0;32m   1696\u001b[0m \u001b[1;33m\u001b[0m\u001b[0m\n\u001b[0;32m   1697\u001b[0m         \u001b[1;31m# XXX\u001b[0m\u001b[1;33m\u001b[0m\u001b[1;33m\u001b[0m\u001b[0m\n",
      "\u001b[1;32mpandas/_libs/parsers.pyx\u001b[0m in \u001b[0;36mpandas._libs.parsers.TextReader.__cinit__\u001b[1;34m()\u001b[0m\n",
      "\u001b[1;32mpandas/_libs/parsers.pyx\u001b[0m in \u001b[0;36mpandas._libs.parsers.TextReader._setup_parser_source\u001b[1;34m()\u001b[0m\n",
      "\u001b[1;31mFileNotFoundError\u001b[0m: File b'C:\\\\\\\\Users\\\\\\\\Albert\\\\\\\\Desktop\\\\\\\\Programming\\\\\\\\league-ml2\\\\\\\\data\\\\\\\\processed\\\\train_v2.csv' does not exist"
     ]
    }
   ],
   "source": [
    "train = get_modeling_data.get_train()\n",
    "validation = get_modeling_data.get_validation()\n",
    "train = train.fillna(0)\n",
    "validation = validation.fillna(0)\n",
    "non_modeling_cols = get_modeling_data.get_non_modeling_cols()\n",
    "X_train = train.drop(non_modeling_cols + ['team_100_win'], axis=1)\n",
    "Y_train = train['team_100_win']\n",
    "X_validation = validation.drop(non_modeling_cols + ['team_100_win'], axis=1)\n",
    "Y_validation = validation['team_100_win']"
   ]
  },
  {
   "cell_type": "code",
   "execution_count": null,
   "metadata": {},
   "outputs": [],
   "source": [
    "X_train.shape"
   ]
  },
  {
   "cell_type": "code",
   "execution_count": null,
   "metadata": {},
   "outputs": [],
   "source": [
    "X_validation.shape"
   ]
  },
  {
   "cell_type": "code",
   "execution_count": null,
   "metadata": {},
   "outputs": [],
   "source": [
    "X_train.columns"
   ]
  },
  {
   "cell_type": "code",
   "execution_count": null,
   "metadata": {},
   "outputs": [],
   "source": [
    "model = Sequential()\n",
    "model.add(Dense(10, activation='relu', input_shape=(X_train.shape[1],)))\n",
    "model.add(Dense(1))\n",
    "model.compile(optimizer='adam', loss='mean_squared_error')"
   ]
  },
  {
   "cell_type": "code",
   "execution_count": null,
   "metadata": {},
   "outputs": [],
   "source": [
    "start_time = time.time()\n",
    "model.fit(X_train, Y_train)\n",
    "training_time = time.time() - start_time\n",
    "print(training_time)"
   ]
  },
  {
   "cell_type": "code",
   "execution_count": null,
   "metadata": {},
   "outputs": [],
   "source": [
    "train_pred = model.predict(X_train)\n",
    "print(train_pred.shape)"
   ]
  },
  {
   "cell_type": "code",
   "execution_count": null,
   "metadata": {},
   "outputs": [],
   "source": [
    "Y_train.shape"
   ]
  },
  {
   "cell_type": "code",
   "execution_count": null,
   "metadata": {},
   "outputs": [],
   "source": [
    "mpf.ks_gini(Y_train, train_pred[:,0])"
   ]
  },
  {
   "cell_type": "code",
   "execution_count": null,
   "metadata": {},
   "outputs": [],
   "source": [
    "valid_pred = model.predict(X_validation)\n",
    "mpf.ks_gini(Y_validation, valid_pred[:,0])"
   ]
  },
  {
   "cell_type": "code",
   "execution_count": null,
   "metadata": {},
   "outputs": [],
   "source": [
    "mpf.correct_prediction_rate(Y_validation, valid_pred[:,0])"
   ]
  },
  {
   "cell_type": "code",
   "execution_count": 26,
   "metadata": {},
   "outputs": [
    {
     "name": "stdout",
     "output_type": "stream",
     "text": [
      "Number of nodes: 2\n",
      "Epoch 1/1\n",
      "171321/171321 [==============================] - 6s 34us/step - loss: 0.2131\n",
      "Train ks and gini: {'ks': 0.18650879378651197, 'gini': 0.13468508806406795}\n",
      "Train ks and gini: {'ks': 0.051558622836135826, 'gini': 0.03444038870838253}\n",
      "Training time: 8.965426921844482\n",
      "Number of nodes: 3\n",
      "Epoch 1/1\n",
      "171321/171321 [==============================] - 6s 35us/step - loss: 0.2098\n",
      "Train ks and gini: {'ks': 0.18729349359488612, 'gini': 0.13531068840558763}\n",
      "Train ks and gini: {'ks': 0.05316390229864437, 'gini': 0.03495963161229238}\n",
      "Training time: 9.20758056640625\n",
      "Number of nodes: 4\n",
      "Epoch 1/1\n",
      "171321/171321 [==============================] - 7s 39us/step - loss: 0.2404\n",
      "Train ks and gini: {'ks': 0.18729787847635038, 'gini': 0.13520625968108527}\n",
      "Train ks and gini: {'ks': 0.05051750286906287, 'gini': 0.03453190984771841}\n",
      "Training time: 9.940102577209473\n",
      "Number of nodes: 5\n",
      "Epoch 1/1\n",
      "171321/171321 [==============================] - 6s 38us/step - loss: 0.2078\n",
      "Train ks and gini: {'ks': 0.18802726392735908, 'gini': 0.13597071722170906}\n",
      "Train ks and gini: {'ks': 0.05111026038308303, 'gini': 0.03487853740527738}\n",
      "Training time: 9.66891098022461\n",
      "Number of nodes: 6\n",
      "Epoch 1/1\n",
      "171321/171321 [==============================] - 7s 42us/step - loss: 0.2163\n",
      "Train ks and gini: {'ks': 0.1888974517602996, 'gini': 0.1363148660344701}\n",
      "Train ks and gini: {'ks': 0.05061708231668688, 'gini': 0.03469258670562227}\n",
      "Training time: 10.468451976776123\n",
      "Number of nodes: 7\n",
      "Epoch 1/1\n",
      "171321/171321 [==============================] - 8s 50us/step - loss: 0.2075\n",
      "Train ks and gini: {'ks': 0.18893329574676798, 'gini': 0.13615720999680914}\n",
      "Train ks and gini: {'ks': 0.05038085320868252, 'gini': 0.034529789305887015}\n",
      "Training time: 12.088623046875\n",
      "Number of nodes: 8\n",
      "Epoch 1/1\n",
      "171321/171321 [==============================] - 8s 46us/step - loss: 0.2067\n",
      "Train ks and gini: {'ks': 0.1904126983804778, 'gini': 0.13710327781333487}\n",
      "Train ks and gini: {'ks': 0.05080277683095319, 'gini': 0.03500399157717045}\n",
      "Training time: 11.291052103042603\n",
      "Number of nodes: 9\n",
      "Epoch 1/1\n",
      "171321/171321 [==============================] - 8s 46us/step - loss: 0.2188\n",
      "Train ks and gini: {'ks': 0.18890147082138514, 'gini': 0.1363721928519743}\n",
      "Train ks and gini: {'ks': 0.051467952531485395, 'gini': 0.03508887433599357}\n",
      "Training time: 11.423150539398193\n"
     ]
    }
   ],
   "source": [
    "for num_nodes in range(2,10):\n",
    "    print(\"Number of nodes: \" + str(num_nodes))\n",
    "    start_time = time.time()\n",
    "    model = Sequential()\n",
    "    model.add(Dense(num_nodes, activation='sigmoid', input_shape=(X_train.shape[1],)))\n",
    "    model.add(Dense(1))\n",
    "    model.compile(optimizer='adam', loss='mean_squared_error')\n",
    "    model.fit(X_train, Y_train)\n",
    "    train_pred = model.predict(X_train)\n",
    "    print(\"Train ks and gini: \" + str(mpf.ks_gini(Y_train, train_pred[:,0])))\n",
    "    valid_pred = model.predict(X_validation)\n",
    "    print(\"Train ks and gini: \" + str(mpf.ks_gini(Y_validation, valid_pred[:,0])))\n",
    "    training_time = time.time() - start_time\n",
    "    print(\"Training time: \" + str(training_time))"
   ]
  },
  {
   "cell_type": "code",
   "execution_count": 27,
   "metadata": {},
   "outputs": [
    {
     "name": "stdout",
     "output_type": "stream",
     "text": [
      "Number of nodes: 2\n",
      "Epoch 1/1\n",
      "171321/171321 [==============================] - 7s 43us/step - loss: 0.2186\n",
      "Train ks and gini: {'ks': 0.18500235084364441, 'gini': 0.13412272922209423}\n",
      "Train ks and gini: {'ks': 0.051780813483491506, 'gini': 0.03487692050771399}\n",
      "Training time: 11.286139488220215\n",
      "Number of nodes: 3\n",
      "Epoch 1/1\n",
      "171321/171321 [==============================] - 8s 45us/step - loss: 0.2133\n",
      "Train ks and gini: {'ks': 0.1876767480339987, 'gini': 0.13544372218818262}\n",
      "Train ks and gini: {'ks': 0.04969503868963787, 'gini': 0.03435111589191138}\n",
      "Training time: 11.803442001342773\n",
      "Number of nodes: 4\n",
      "Epoch 1/1\n",
      "171321/171321 [==============================] - 8s 46us/step - loss: 0.2372\n",
      "Train ks and gini: {'ks': 0.18693033094568595, 'gini': 0.13517723317475544}\n",
      "Train ks and gini: {'ks': 0.05132129855117734, 'gini': 0.03504105742667196}\n",
      "Training time: 12.02160382270813\n"
     ]
    }
   ],
   "source": [
    "for num_nodes in range(2,5):\n",
    "    print(\"Number of nodes: \" + str(num_nodes))\n",
    "    start_time = time.time()\n",
    "    model = Sequential()\n",
    "    model.add(Dense(num_nodes, activation='sigmoid', input_shape=(X_train.shape[1],)))\n",
    "    model.add(Dense(num_nodes, activation='sigmoid'))\n",
    "    model.add(Dense(1))\n",
    "    model.compile(optimizer='adam', loss='mean_squared_error')\n",
    "    model.fit(X_train, Y_train)\n",
    "    train_pred = model.predict(X_train)\n",
    "    print(\"Train ks and gini: \" + str(mpf.ks_gini(Y_train, train_pred[:,0])))\n",
    "    valid_pred = model.predict(X_validation)\n",
    "    print(\"Train ks and gini: \" + str(mpf.ks_gini(Y_validation, valid_pred[:,0])))\n",
    "    training_time = time.time() - start_time\n",
    "    print(\"Training time: \" + str(training_time))"
   ]
  },
  {
   "cell_type": "code",
   "execution_count": 28,
   "metadata": {},
   "outputs": [
    {
     "name": "stdout",
     "output_type": "stream",
     "text": [
      "Number of nodes: 4\n",
      "Epoch 1/1\n",
      "171321/171321 [==============================] - 10s 56us/step - loss: 0.2018\n",
      "Train ks and gini: {'ks': 0.18987338339616439, 'gini': 0.13698805004643747}\n",
      "Train ks and gini: {'ks': 0.050524742755415464, 'gini': 0.034714279561829306}\n",
      "Training time: 14.423306465148926\n"
     ]
    }
   ],
   "source": [
    "print(\"Number of nodes: \" + str(num_nodes))\n",
    "start_time = time.time()\n",
    "model = Sequential()\n",
    "model.add(Dense(50, activation='relu', input_shape=(X_train.shape[1],)))\n",
    "model.add(Dense(20, activation='sigmoid'))\n",
    "model.add(Dense(10, activation='sigmoid'))\n",
    "model.add(Dense(1))\n",
    "model.compile(optimizer='adam', loss='mean_squared_error')\n",
    "model.fit(X_train, Y_train)\n",
    "train_pred = model.predict(X_train)\n",
    "print(\"Train ks and gini: \" + str(mpf.ks_gini(Y_train, train_pred[:,0])))\n",
    "valid_pred = model.predict(X_validation)\n",
    "print(\"Train ks and gini: \" + str(mpf.ks_gini(Y_validation, valid_pred[:,0])))\n",
    "training_time = time.time() - start_time\n",
    "print(\"Training time: \" + str(training_time))"
   ]
  },
  {
   "cell_type": "code",
   "execution_count": 30,
   "metadata": {},
   "outputs": [
    {
     "name": "stdout",
     "output_type": "stream",
     "text": [
      "0.6806696201866671\n",
      "0.5454322587423608\n"
     ]
    }
   ],
   "source": [
    "print(mpf.correct_prediction_rate(Y_train, train_pred[:,0]))\n",
    "print(mpf.correct_prediction_rate(Y_validation, valid_pred[:,0]))"
   ]
  },
  {
   "cell_type": "markdown",
   "metadata": {},
   "source": [
    "## What if I only use solo win rates?"
   ]
  },
  {
   "cell_type": "code",
   "execution_count": 31,
   "metadata": {},
   "outputs": [],
   "source": [
    "solo_wr_cols = ['100_TOP_SOLO_wr', '100_MIDDLE_SOLO_wr', '100_BOTTOM_DUO_CARRY_wr',\n",
    "       '100_BOTTOM_DUO_SUPPORT_wr', '100_JUNGLE_NONE_wr', '200_TOP_SOLO_wr',\n",
    "       '200_MIDDLE_SOLO_wr', '200_BOTTOM_DUO_CARRY_wr',\n",
    "       '200_BOTTOM_DUO_SUPPORT_wr', '200_JUNGLE_NONE_wr']"
   ]
  },
  {
   "cell_type": "code",
   "execution_count": 34,
   "metadata": {},
   "outputs": [],
   "source": [
    "X_train2 = X_train[solo_wr_cols]\n",
    "X_validation2 = X_validation[solo_wr_cols]"
   ]
  },
  {
   "cell_type": "code",
   "execution_count": 37,
   "metadata": {},
   "outputs": [
    {
     "name": "stdout",
     "output_type": "stream",
     "text": [
      "Number of nodes: 2\n",
      "Epoch 1/1\n",
      "171321/171321 [==============================] - 7s 43us/step - loss: 0.2511\n",
      "Train ks and gini: {'ks': 0.009436642932302619, 'gini': -0.0063721535567858815}\n",
      "Train ks and gini: {'ks': 0.00385803601744783, 'gini': -0.000752331091782448}\n",
      "Training time: 12.543962240219116\n",
      "Number of nodes: 3\n",
      "Epoch 1/1\n",
      "171321/171321 [==============================] - 8s 45us/step - loss: 0.2587\n",
      "Train ks and gini: {'ks': 0.0025996970412521803, 'gini': 0.0004691334441175303}\n",
      "Train ks and gini: {'ks': 0.002439650340952726, 'gini': 0.00018647553687498795}\n",
      "Training time: 12.808143138885498\n",
      "Number of nodes: 4\n",
      "Epoch 1/1\n",
      "171321/171321 [==============================] - 8s 48us/step - loss: 0.2507\n",
      "Train ks and gini: {'ks': 0.006915106341111699, 'gini': -0.0039678875225665254}\n",
      "Train ks and gini: {'ks': 0.0038069229807881078, 'gini': -0.0013033229075624696}\n",
      "Training time: 13.157385349273682\n",
      "Number of nodes: 5\n",
      "Epoch 1/1\n",
      "171321/171321 [==============================] - 9s 52us/step - loss: 0.2509\n",
      "Train ks and gini: {'ks': 0.012511586760790117, 'gini': -0.007995418035719105}\n",
      "Train ks and gini: {'ks': 0.0032696155786960668, 'gini': -0.0004437791655494736}\n",
      "Training time: 13.771822929382324\n",
      "Number of nodes: 6\n",
      "Epoch 1/1\n",
      "171321/171321 [==============================] - 10s 56us/step - loss: 0.2672\n",
      "Train ks and gini: {'ks': 0.0028713619960014647, 'gini': 0.0008866352743316364}\n",
      "Train ks and gini: {'ks': 0.0024711106546841943, 'gini': 0.0006537103135695383}\n",
      "Training time: 14.645446062088013\n",
      "Number of nodes: 7\n",
      "Epoch 1/1\n",
      "171321/171321 [==============================] - 9s 54us/step - loss: 0.2520\n",
      "Train ks and gini: {'ks': 0.005217999843450394, 'gini': -0.0028842371224677144}\n",
      "Train ks and gini: {'ks': 0.005087032749507725, 'gini': -0.0015727333216547289}\n",
      "Training time: 14.68149185180664\n",
      "Number of nodes: 8\n",
      "Epoch 1/1\n",
      "171321/171321 [==============================] - 10s 58us/step - loss: 0.2517\n",
      "Train ks and gini: {'ks': 0.004252819273537489, 'gini': -0.0025712244008999187}\n",
      "Train ks and gini: {'ks': 0.005524772547095935, 'gini': -0.0015795973447727083}\n",
      "Training time: 15.131799459457397\n",
      "Number of nodes: 9\n",
      "Epoch 1/1\n",
      "171321/171321 [==============================] - 10s 58us/step - loss: 0.2508\n",
      "Train ks and gini: {'ks': 0.005455274373880492, 'gini': -0.0030509396837166973}\n",
      "Train ks and gini: {'ks': 0.0043665066685857346, 'gini': 0.0007860278852584739}\n",
      "Training time: 15.421997785568237\n"
     ]
    }
   ],
   "source": [
    "for num_nodes in range(2,10):\n",
    "    print(\"Number of nodes: \" + str(num_nodes))\n",
    "    start_time = time.time()\n",
    "    model = Sequential()\n",
    "    model.add(Dense(num_nodes, activation='relu', input_shape=(X_train2.shape[1],)))\n",
    "    model.add(Dense(1))\n",
    "    model.compile(optimizer='adam', loss='mean_squared_error')\n",
    "    model.fit(X_train2, Y_train)\n",
    "    train_pred = model.predict(X_train2)\n",
    "    print(\"Train ks and gini: \" + str(mpf.ks_gini(Y_train, train_pred[:,0])))\n",
    "    valid_pred = model.predict(X_validation2)\n",
    "    print(\"Train ks and gini: \" + str(mpf.ks_gini(Y_validation, valid_pred[:,0])))\n",
    "    training_time = time.time() - start_time\n",
    "    print(\"Training time: \" + str(training_time))"
   ]
  },
  {
   "cell_type": "code",
   "execution_count": 38,
   "metadata": {},
   "outputs": [
    {
     "name": "stdout",
     "output_type": "stream",
     "text": [
      "0.5037269219768739\n",
      "0.5066103980247605\n"
     ]
    }
   ],
   "source": [
    "print(mpf.correct_prediction_rate(Y_train, train_pred[:,0]))\n",
    "print(mpf.correct_prediction_rate(Y_validation, valid_pred[:,0]))"
   ]
  },
  {
   "cell_type": "code",
   "execution_count": 40,
   "metadata": {},
   "outputs": [
    {
     "data": {
      "text/plain": [
       "0.4942651513824925"
      ]
     },
     "execution_count": 40,
     "metadata": {},
     "output_type": "execute_result"
    }
   ],
   "source": [
    "Y_train.sum() / Y_train.shape[0]"
   ]
  },
  {
   "cell_type": "markdown",
   "metadata": {},
   "source": [
    "## Paired Win Rates"
   ]
  },
  {
   "cell_type": "code",
   "execution_count": 41,
   "metadata": {},
   "outputs": [],
   "source": [
    "paired_wr_cols = ['100_TOP_SOLO_MIDDLE_SOLO_wr', '200_TOP_SOLO_MIDDLE_SOLO_wr',\n",
    "       '100_TOP_SOLO_BOTTOM_DUO_CARRY_wr', '200_TOP_SOLO_BOTTOM_DUO_CARRY_wr',\n",
    "       '100_TOP_SOLO_BOTTOM_DUO_SUPPORT_wr',\n",
    "       '200_TOP_SOLO_BOTTOM_DUO_SUPPORT_wr', '100_TOP_SOLO_JUNGLE_NONE_wr',\n",
    "       '200_TOP_SOLO_JUNGLE_NONE_wr', '100_MIDDLE_SOLO_TOP_SOLO_wr',\n",
    "       '200_MIDDLE_SOLO_TOP_SOLO_wr', '100_MIDDLE_SOLO_BOTTOM_DUO_CARRY_wr',\n",
    "       '200_MIDDLE_SOLO_BOTTOM_DUO_CARRY_wr',\n",
    "       '100_MIDDLE_SOLO_BOTTOM_DUO_SUPPORT_wr',\n",
    "       '200_MIDDLE_SOLO_BOTTOM_DUO_SUPPORT_wr',\n",
    "       '100_MIDDLE_SOLO_JUNGLE_NONE_wr', '200_MIDDLE_SOLO_JUNGLE_NONE_wr',\n",
    "       '100_BOTTOM_DUO_CARRY_TOP_SOLO_wr', '200_BOTTOM_DUO_CARRY_TOP_SOLO_wr',\n",
    "       '100_BOTTOM_DUO_CARRY_MIDDLE_SOLO_wr',\n",
    "       '200_BOTTOM_DUO_CARRY_MIDDLE_SOLO_wr',\n",
    "       '100_BOTTOM_DUO_CARRY_BOTTOM_DUO_SUPPORT_wr',\n",
    "       '200_BOTTOM_DUO_CARRY_BOTTOM_DUO_SUPPORT_wr',\n",
    "       '100_BOTTOM_DUO_CARRY_JUNGLE_NONE_wr',\n",
    "       '200_BOTTOM_DUO_CARRY_JUNGLE_NONE_wr',\n",
    "       '100_BOTTOM_DUO_SUPPORT_TOP_SOLO_wr',\n",
    "       '200_BOTTOM_DUO_SUPPORT_TOP_SOLO_wr',\n",
    "       '100_BOTTOM_DUO_SUPPORT_MIDDLE_SOLO_wr',\n",
    "       '200_BOTTOM_DUO_SUPPORT_MIDDLE_SOLO_wr',\n",
    "       '100_BOTTOM_DUO_SUPPORT_BOTTOM_DUO_CARRY_wr',\n",
    "       '200_BOTTOM_DUO_SUPPORT_BOTTOM_DUO_CARRY_wr',\n",
    "       '100_BOTTOM_DUO_SUPPORT_JUNGLE_NONE_wr',\n",
    "       '200_BOTTOM_DUO_SUPPORT_JUNGLE_NONE_wr', '100_JUNGLE_NONE_TOP_SOLO_wr',\n",
    "       '200_JUNGLE_NONE_TOP_SOLO_wr', '100_JUNGLE_NONE_MIDDLE_SOLO_wr',\n",
    "       '200_JUNGLE_NONE_MIDDLE_SOLO_wr', '100_JUNGLE_NONE_BOTTOM_DUO_CARRY_wr',\n",
    "       '200_JUNGLE_NONE_BOTTOM_DUO_CARRY_wr',\n",
    "       '100_JUNGLE_NONE_BOTTOM_DUO_SUPPORT_wr',\n",
    "       '200_JUNGLE_NONE_BOTTOM_DUO_SUPPORT_wr',]"
   ]
  },
  {
   "cell_type": "code",
   "execution_count": 42,
   "metadata": {},
   "outputs": [],
   "source": [
    "X_train3 = X_train[paired_wr_cols]\n",
    "X_validation3 = X_validation[paired_wr_cols]"
   ]
  },
  {
   "cell_type": "code",
   "execution_count": 43,
   "metadata": {},
   "outputs": [
    {
     "name": "stdout",
     "output_type": "stream",
     "text": [
      "Number of nodes: 2\n",
      "Epoch 1/1\n",
      "171321/171321 [==============================] - 10s 58us/step - loss: 0.2487\n",
      "Train ks and gini: {'ks': 0.17304401312196582, 'gini': 0.1258447293850049}\n",
      "Train ks and gini: {'ks': 0.04864842912470807, 'gini': 0.03278601203293047}\n",
      "Training time: 15.336941719055176\n",
      "Number of nodes: 3\n",
      "Epoch 1/1\n",
      "171321/171321 [==============================] - 10s 57us/step - loss: 0.2677\n",
      "Train ks and gini: {'ks': 0.17150959164096474, 'gini': 0.12473341339655944}\n",
      "Train ks and gini: {'ks': 0.04807083329778583, 'gini': 0.03264835944726889}\n",
      "Training time: 15.76924443244934\n",
      "Number of nodes: 4\n",
      "Epoch 1/1\n",
      "171321/171321 [==============================] - 11s 62us/step - loss: 0.2264\n",
      "Train ks and gini: {'ks': 0.17285426794382652, 'gini': 0.1259993023847426}\n",
      "Train ks and gini: {'ks': 0.04857720896329892, 'gini': 0.03279154027675842}\n",
      "Training time: 16.461747646331787\n",
      "Number of nodes: 5\n",
      "Epoch 1/1\n",
      "171321/171321 [==============================] - 11s 62us/step - loss: 0.2241\n",
      "Train ks and gini: {'ks': 0.1731151340629759, 'gini': 0.12611509097971638}\n",
      "Train ks and gini: {'ks': 0.04807432140833501, 'gini': 0.0324145793718499}\n",
      "Training time: 16.550819158554077\n",
      "Number of nodes: 6\n",
      "Epoch 1/1\n",
      "171321/171321 [==============================] - 10s 60us/step - loss: 0.2130\n",
      "Train ks and gini: {'ks': 0.17349350834656707, 'gini': 0.12619255970045787}\n",
      "Train ks and gini: {'ks': 0.0477411351688396, 'gini': 0.03263592666438556}\n",
      "Training time: 16.208540678024292\n",
      "Number of nodes: 7\n",
      "Epoch 1/1\n",
      "171321/171321 [==============================] - 11s 63us/step - loss: 0.2158\n",
      "Train ks and gini: {'ks': 0.17316187118357035, 'gini': 0.12596058766989812}\n",
      "Train ks and gini: {'ks': 0.047298065967177894, 'gini': 0.032505033383726824}\n",
      "Training time: 16.746944904327393\n",
      "Number of nodes: 8\n",
      "Epoch 1/1\n",
      "171321/171321 [==============================] - 11s 65us/step - loss: 0.2311\n",
      "Train ks and gini: {'ks': 0.1734460441347055, 'gini': 0.12612676676403653}\n",
      "Train ks and gini: {'ks': 0.04881550812404356, 'gini': 0.03281176333942096}\n",
      "Training time: 17.463475465774536\n",
      "Number of nodes: 9\n",
      "Epoch 1/1\n",
      "171321/171321 [==============================] - 11s 67us/step - loss: 0.2356\n",
      "Train ks and gini: {'ks': 0.1729127508143874, 'gini': 0.12583791031943783}\n",
      "Train ks and gini: {'ks': 0.048091248966981526, 'gini': 0.032634705576364484}\n",
      "Training time: 17.69643783569336\n"
     ]
    }
   ],
   "source": [
    "for num_nodes in range(2,10):\n",
    "    print(\"Number of nodes: \" + str(num_nodes))\n",
    "    start_time = time.time()\n",
    "    model = Sequential()\n",
    "    model.add(Dense(num_nodes, activation='sigmoid', input_shape=(X_train3.shape[1],)))\n",
    "    model.add(Dense(1))\n",
    "    model.compile(optimizer='adam', loss='mean_squared_error')\n",
    "    model.fit(X_train3, Y_train)\n",
    "    train_pred = model.predict(X_train3)\n",
    "    print(\"Train ks and gini: \" + str(mpf.ks_gini(Y_train, train_pred[:,0])))\n",
    "    valid_pred = model.predict(X_validation3)\n",
    "    print(\"Train ks and gini: \" + str(mpf.ks_gini(Y_validation, valid_pred[:,0])))\n",
    "    training_time = time.time() - start_time\n",
    "    print(\"Training time: \" + str(training_time))"
   ]
  },
  {
   "cell_type": "markdown",
   "metadata": {},
   "source": [
    "## H2H Win Rates"
   ]
  },
  {
   "cell_type": "code",
   "execution_count": 44,
   "metadata": {},
   "outputs": [],
   "source": [
    "h2h_wr_cols = ['100_TOP_SOLO_200_TOP_SOLO_h2h_100_wr',\n",
    "       '100_TOP_SOLO_200_MIDDLE_SOLO_h2h_100_wr',\n",
    "       '100_TOP_SOLO_200_BOTTOM_DUO_CARRY_h2h_100_wr',\n",
    "       '100_TOP_SOLO_200_BOTTOM_DUO_SUPPORT_h2h_100_wr',\n",
    "       '100_TOP_SOLO_200_JUNGLE_NONE_h2h_100_wr',\n",
    "       '100_MIDDLE_SOLO_200_TOP_SOLO_h2h_100_wr',\n",
    "       '100_MIDDLE_SOLO_200_MIDDLE_SOLO_h2h_100_wr',\n",
    "       '100_MIDDLE_SOLO_200_BOTTOM_DUO_CARRY_h2h_100_wr',\n",
    "       '100_MIDDLE_SOLO_200_BOTTOM_DUO_SUPPORT_h2h_100_wr',\n",
    "       '100_MIDDLE_SOLO_200_JUNGLE_NONE_h2h_100_wr',\n",
    "       '100_BOTTOM_DUO_CARRY_200_TOP_SOLO_h2h_100_wr',\n",
    "       '100_BOTTOM_DUO_CARRY_200_MIDDLE_SOLO_h2h_100_wr',\n",
    "       '100_BOTTOM_DUO_CARRY_200_BOTTOM_DUO_CARRY_h2h_100_wr',\n",
    "       '100_BOTTOM_DUO_CARRY_200_BOTTOM_DUO_SUPPORT_h2h_100_wr',\n",
    "       '100_BOTTOM_DUO_CARRY_200_JUNGLE_NONE_h2h_100_wr',\n",
    "       '100_BOTTOM_DUO_SUPPORT_200_TOP_SOLO_h2h_100_wr',\n",
    "       '100_BOTTOM_DUO_SUPPORT_200_MIDDLE_SOLO_h2h_100_wr',\n",
    "       '100_BOTTOM_DUO_SUPPORT_200_BOTTOM_DUO_CARRY_h2h_100_wr',\n",
    "       '100_BOTTOM_DUO_SUPPORT_200_BOTTOM_DUO_SUPPORT_h2h_100_wr',\n",
    "       '100_BOTTOM_DUO_SUPPORT_200_JUNGLE_NONE_h2h_100_wr',\n",
    "       '100_JUNGLE_NONE_200_TOP_SOLO_h2h_100_wr',\n",
    "       '100_JUNGLE_NONE_200_MIDDLE_SOLO_h2h_100_wr',\n",
    "       '100_JUNGLE_NONE_200_BOTTOM_DUO_CARRY_h2h_100_wr',\n",
    "       '100_JUNGLE_NONE_200_BOTTOM_DUO_SUPPORT_h2h_100_wr',\n",
    "       '100_JUNGLE_NONE_200_JUNGLE_NONE_h2h_100_wr']"
   ]
  },
  {
   "cell_type": "code",
   "execution_count": 45,
   "metadata": {},
   "outputs": [],
   "source": [
    "X_train4 = X_train[h2h_wr_cols]\n",
    "X_validation4 = X_validation[h2h_wr_cols]"
   ]
  },
  {
   "cell_type": "code",
   "execution_count": 46,
   "metadata": {},
   "outputs": [
    {
     "name": "stdout",
     "output_type": "stream",
     "text": [
      "Number of nodes: 2\n",
      "Epoch 1/1\n",
      "171321/171321 [==============================] - 10s 56us/step - loss: 0.2392\n",
      "Train ks and gini: {'ks': 0.14971227040210888, 'gini': 0.10969645964947686}\n",
      "Train ks and gini: {'ks': 0.03524920649676855, 'gini': 0.021429999401654402}\n",
      "Training time: 15.986401796340942\n",
      "Number of nodes: 3\n",
      "Epoch 1/1\n",
      "171321/171321 [==============================] - 10s 59us/step - loss: 0.2392\n",
      "Train ks and gini: {'ks': 0.14857378589159737, 'gini': 0.10913634343049182}\n",
      "Train ks and gini: {'ks': 0.034974774599726755, 'gini': 0.02243713584707893}\n",
      "Training time: 16.93507719039917\n",
      "Number of nodes: 4\n",
      "Epoch 1/1\n",
      "171321/171321 [==============================] - 11s 65us/step - loss: 0.2353\n",
      "Train ks and gini: {'ks': 0.15925449873235548, 'gini': 0.11631279165714702}\n",
      "Train ks and gini: {'ks': 0.038968688604778035, 'gini': 0.0246262898601628}\n",
      "Training time: 17.685985565185547\n",
      "Number of nodes: 5\n",
      "Epoch 1/1\n",
      "171321/171321 [==============================] - 11s 66us/step - loss: 0.2384\n",
      "Train ks and gini: {'ks': 0.1576202506809436, 'gini': 0.11535403152094693}\n",
      "Train ks and gini: {'ks': 0.03951953206989506, 'gini': 0.0249671816076299}\n",
      "Training time: 17.72964859008789\n",
      "Number of nodes: 6\n",
      "Epoch 1/1\n",
      "171321/171321 [==============================] - 12s 70us/step - loss: 0.2328\n",
      "Train ks and gini: {'ks': 0.16399195370032693, 'gini': 0.11926433083711224}\n",
      "Train ks and gini: {'ks': 0.03894083483279753, 'gini': 0.025481662330589752}\n",
      "Training time: 18.27109384536743\n",
      "Number of nodes: 7\n",
      "Epoch 1/1\n",
      "171321/171321 [==============================] - 12s 69us/step - loss: 0.2337\n",
      "Train ks and gini: {'ks': 0.1647112587216123, 'gini': 0.12022819943052847}\n",
      "Train ks and gini: {'ks': 0.040383473349421384, 'gini': 0.02574296955720165}\n",
      "Training time: 18.34509515762329\n",
      "Number of nodes: 8\n",
      "Epoch 1/1\n",
      "171321/171321 [==============================] - 12s 71us/step - loss: 0.2345\n",
      "Train ks and gini: {'ks': 0.161772251181596, 'gini': 0.11787362182640325}\n",
      "Train ks and gini: {'ks': 0.039713868945270125, 'gini': 0.025107838605880353}\n",
      "Training time: 18.81943368911743\n",
      "Number of nodes: 9\n",
      "Epoch 1/1\n",
      "171321/171321 [==============================] - 13s 77us/step - loss: 0.2425\n",
      "Train ks and gini: {'ks': 0.17402254830704939, 'gini': 0.12654551701574657}\n",
      "Train ks and gini: {'ks': 0.0433492686400509, 'gini': 0.02789186693488309}\n",
      "Training time: 20.150507926940918\n"
     ]
    }
   ],
   "source": [
    "for num_nodes in range(2,10):\n",
    "    print(\"Number of nodes: \" + str(num_nodes))\n",
    "    start_time = time.time()\n",
    "    model = Sequential()\n",
    "    model.add(Dense(num_nodes, activation='sigmoid', input_shape=(X_train4.shape[1],)))\n",
    "    model.add(Dense(1))\n",
    "    model.compile(optimizer='adam', loss='mean_squared_error')\n",
    "    model.fit(X_train4, Y_train)\n",
    "    train_pred = model.predict(X_train4)\n",
    "    print(\"Train ks and gini: \" + str(mpf.ks_gini(Y_train, train_pred[:,0])))\n",
    "    valid_pred = model.predict(X_validation4)\n",
    "    print(\"Train ks and gini: \" + str(mpf.ks_gini(Y_validation, valid_pred[:,0])))\n",
    "    training_time = time.time() - start_time\n",
    "    print(\"Training time: \" + str(training_time))"
   ]
  },
  {
   "cell_type": "code",
   "execution_count": 47,
   "metadata": {},
   "outputs": [
    {
     "name": "stdout",
     "output_type": "stream",
     "text": [
      "Number of nodes: 10\n",
      "Epoch 1/1\n",
      "171321/171321 [==============================] - 11s 63us/step - loss: 0.2306\n",
      "Train ks and gini: {'ks': 0.16524065250836245, 'gini': 0.12064876499779784}\n",
      "Train ks and gini: {'ks': 0.04047461800220048, 'gini': 0.02589351431414449}\n",
      "Training time: 18.67231822013855\n",
      "Number of nodes: 11\n",
      "Epoch 1/1\n",
      "171321/171321 [==============================] - 14s 83us/step - loss: 0.2346\n",
      "Train ks and gini: {'ks': 0.17126350888373365, 'gini': 0.12429993141275288}\n",
      "Train ks and gini: {'ks': 0.044181055225011034, 'gini': 0.02775917100667103}\n",
      "Training time: 22.115771055221558\n",
      "Number of nodes: 12\n",
      "Epoch 1/1\n",
      "171321/171321 [==============================] - 11s 64us/step - loss: 0.2293\n",
      "Train ks and gini: {'ks': 0.17141530862447835, 'gini': 0.12446492515787441}\n",
      "Train ks and gini: {'ks': 0.04258893596229263, 'gini': 0.02720497593854781}\n",
      "Training time: 18.14794635772705\n",
      "Number of nodes: 13\n",
      "Epoch 1/1\n",
      "171321/171321 [==============================] - 10s 61us/step - loss: 0.2308\n",
      "Train ks and gini: {'ks': 0.17097509518725867, 'gini': 0.12445931860040264}\n",
      "Train ks and gini: {'ks': 0.0418157616023444, 'gini': 0.02710457744566613}\n",
      "Training time: 17.601572036743164\n",
      "Number of nodes: 14\n",
      "Epoch 1/1\n",
      "171321/171321 [==============================] - 12s 70us/step - loss: 0.2255\n",
      "Train ks and gini: {'ks': 0.17293477344933983, 'gini': 0.12545458763797096}\n",
      "Train ks and gini: {'ks': 0.04115016453606324, 'gini': 0.02692392623062318}\n",
      "Training time: 19.40988278388977\n",
      "Number of nodes: 15\n",
      "Epoch 1/1\n",
      "171321/171321 [==============================] - 14s 81us/step - loss: 0.2337\n",
      "Train ks and gini: {'ks': 0.1744359770337478, 'gini': 0.126286869186706}\n",
      "Train ks and gini: {'ks': 0.04316011094811989, 'gini': 0.02804662659595994}\n",
      "Training time: 22.04378056526184\n",
      "Number of nodes: 16\n",
      "Epoch 1/1\n",
      "171321/171321 [==============================] - 14s 85us/step - loss: 0.2203\n",
      "Train ks and gini: {'ks': 0.1767453737876178, 'gini': 0.12773040294961413}\n",
      "Train ks and gini: {'ks': 0.044039132882869425, 'gini': 0.02816485771119744}\n",
      "Training time: 22.382978916168213\n",
      "Number of nodes: 17\n",
      "Epoch 1/1\n",
      "171321/171321 [==============================] - 14s 83us/step - loss: 0.2241\n",
      "Train ks and gini: {'ks': 0.17238310928721107, 'gini': 0.12546265112699692}\n",
      "Train ks and gini: {'ks': 0.04318254680428668, 'gini': 0.027566770169781554}\n",
      "Training time: 22.59409499168396\n",
      "Number of nodes: 18\n",
      "Epoch 1/1\n",
      "171321/171321 [==============================] - 14s 83us/step - loss: 0.2262\n",
      "Train ks and gini: {'ks': 0.17334615056271035, 'gini': 0.12557824278418622}\n",
      "Train ks and gini: {'ks': 0.04279320859216296, 'gini': 0.027844612262108187}\n",
      "Training time: 22.20694661140442\n",
      "Number of nodes: 19\n",
      "Epoch 1/1\n",
      "171321/171321 [==============================] - 14s 83us/step - loss: 0.2251\n",
      "Train ks and gini: {'ks': 0.17403553958338147, 'gini': 0.12656653118035033}\n",
      "Train ks and gini: {'ks': 0.04368916743539064, 'gini': 0.028000381081687405}\n",
      "Training time: 22.003753185272217\n"
     ]
    }
   ],
   "source": [
    "for num_nodes in range(10,20):\n",
    "    print(\"Number of nodes: \" + str(num_nodes))\n",
    "    start_time = time.time()\n",
    "    model = Sequential()\n",
    "    model.add(Dense(num_nodes, activation='sigmoid', input_shape=(X_train4.shape[1],)))\n",
    "    model.add(Dense(1))\n",
    "    model.compile(optimizer='adam', loss='mean_squared_error')\n",
    "    model.fit(X_train4, Y_train)\n",
    "    train_pred = model.predict(X_train4)\n",
    "    print(\"Train ks and gini: \" + str(mpf.ks_gini(Y_train, train_pred[:,0])))\n",
    "    valid_pred = model.predict(X_validation4)\n",
    "    print(\"Train ks and gini: \" + str(mpf.ks_gini(Y_validation, valid_pred[:,0])))\n",
    "    training_time = time.time() - start_time\n",
    "    print(\"Training time: \" + str(training_time))"
   ]
  },
  {
   "cell_type": "code",
   "execution_count": null,
   "metadata": {},
   "outputs": [],
   "source": []
  }
 ],
 "metadata": {
  "kernelspec": {
   "display_name": "Python 3",
   "language": "python",
   "name": "python3"
  },
  "language_info": {
   "codemirror_mode": {
    "name": "ipython",
    "version": 3
   },
   "file_extension": ".py",
   "mimetype": "text/x-python",
   "name": "python",
   "nbconvert_exporter": "python",
   "pygments_lexer": "ipython3",
   "version": "3.6.4"
  }
 },
 "nbformat": 4,
 "nbformat_minor": 2
}

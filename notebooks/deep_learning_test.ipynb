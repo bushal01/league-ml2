{
 "cells": [
  {
   "cell_type": "code",
   "execution_count": 9,
   "metadata": {},
   "outputs": [],
   "source": [
    "import keras\n",
    "from keras.layers import Dense\n",
    "from keras.models import Sequential\n",
    "import pandas as pd\n",
    "import numpy as np\n",
    "import os\n",
    "import sys\n",
    "sys.path.append('../src/')\n",
    "import get_modeling_data\n",
    "import model_evaluation.model_performance_functions as mpf\n",
    "import time\n",
    "import matplotlib.pyplot as plt\n",
    "import data_constants as dc\n",
    "import sklearn.preprocessing\n",
    "import warnings\n",
    "warnings.filterwarnings('ignore')"
   ]
  },
  {
   "cell_type": "code",
   "execution_count": 2,
   "metadata": {},
   "outputs": [],
   "source": [
    "train = get_modeling_data.get_train()\n",
    "validation = get_modeling_data.get_validation()\n",
    "train = train.fillna(0)\n",
    "validation = validation.fillna(0)\n",
    "non_modeling_cols = get_modeling_data.get_non_modeling_cols()\n",
    "X_train = train.drop(['team_100_win'], axis=1)\n",
    "Y_train = train['team_100_win']\n",
    "X_validation = validation.drop(['team_100_win'], axis=1)\n",
    "Y_validation = validation['team_100_win']"
   ]
  },
  {
   "cell_type": "code",
   "execution_count": 3,
   "metadata": {},
   "outputs": [
    {
     "name": "stdout",
     "output_type": "stream",
     "text": [
      "(171284, 169)\n",
      "(57093, 169)\n"
     ]
    }
   ],
   "source": [
    "print(X_train.shape)\n",
    "print(X_validation.shape)"
   ]
  },
  {
   "cell_type": "code",
   "execution_count": 44,
   "metadata": {},
   "outputs": [
    {
     "data": {
      "text/plain": [
       "Index(['100_TOP_SOLO_wr', '100_MIDDLE_SOLO_wr', '100_BOTTOM_DUO_CARRY_wr',\n",
       "       '100_BOTTOM_DUO_SUPPORT_wr', '100_JUNGLE_NONE_wr', '200_TOP_SOLO_wr',\n",
       "       '200_MIDDLE_SOLO_wr', '200_BOTTOM_DUO_CARRY_wr',\n",
       "       '200_BOTTOM_DUO_SUPPORT_wr', '200_JUNGLE_NONE_wr',\n",
       "       ...\n",
       "       '100_BOTTOM_DUO_SUPPORT_JUNGLE_NONE_wr',\n",
       "       '200_BOTTOM_DUO_SUPPORT_JUNGLE_NONE_wr', '100_JUNGLE_NONE_TOP_SOLO_wr',\n",
       "       '200_JUNGLE_NONE_TOP_SOLO_wr', '100_JUNGLE_NONE_MIDDLE_SOLO_wr',\n",
       "       '200_JUNGLE_NONE_MIDDLE_SOLO_wr', '100_JUNGLE_NONE_BOTTOM_DUO_CARRY_wr',\n",
       "       '200_JUNGLE_NONE_BOTTOM_DUO_CARRY_wr',\n",
       "       '100_JUNGLE_NONE_BOTTOM_DUO_SUPPORT_wr',\n",
       "       '200_JUNGLE_NONE_BOTTOM_DUO_SUPPORT_wr'],\n",
       "      dtype='object', length=155)"
      ]
     },
     "execution_count": 44,
     "metadata": {},
     "output_type": "execute_result"
    }
   ],
   "source": [
    "X_train.columns"
   ]
  },
  {
   "cell_type": "code",
   "execution_count": 45,
   "metadata": {},
   "outputs": [
    {
     "name": "stdout",
     "output_type": "stream",
     "text": [
      "Epoch 1/1\n",
      "171284/171284 [==============================] - 11s 65us/step - loss: 0.2521\n",
      "Train performance: {'ks': 0.016751628722792677, 'gini': 0.012424682437483583}\n",
      "Train accuracy: 0.49641531024497326\n",
      "Validation performance: {'ks': 0.019167824129486644, 'gini': 0.013937962816447982}\n",
      "Validation accuracy: 0.49394847004011\n"
     ]
    }
   ],
   "source": [
    "model = Sequential()\n",
    "model.add(Dense(40, activation='sigmoid', input_shape=(X_train.shape[1],)))\n",
    "model.add(Dense(20, activation='sigmoid'))\n",
    "model.add(Dense(1))\n",
    "model.compile(optimizer='adam', loss='mean_squared_error')\n",
    "model.fit(X_train, Y_train)\n",
    "train_pred = model.predict(X_train)\n",
    "print(\"Train performance: \" + str(mpf.ks_gini(Y_train, train_pred[:,0])))\n",
    "print(\"Train accuracy: \" + str(mpf.correct_prediction_rate(Y_train, train_pred[:,0])))\n",
    "valid_pred = model.predict(X_validation)\n",
    "print(\"Validation performance: \" + str(mpf.ks_gini(Y_validation, valid_pred[:,0])))\n",
    "print(\"Validation accuracy: \" + str(mpf.correct_prediction_rate(Y_validation, valid_pred[:,0])))"
   ]
  },
  {
   "cell_type": "markdown",
   "metadata": {},
   "source": [
    "## What if I only use solo win rates?"
   ]
  },
  {
   "cell_type": "code",
   "execution_count": 46,
   "metadata": {},
   "outputs": [],
   "source": [
    "solo_wr_cols = ['100_TOP_SOLO_wr', '100_MIDDLE_SOLO_wr', '100_BOTTOM_DUO_CARRY_wr',\n",
    "       '100_BOTTOM_DUO_SUPPORT_wr', '100_JUNGLE_NONE_wr', '200_TOP_SOLO_wr',\n",
    "       '200_MIDDLE_SOLO_wr', '200_BOTTOM_DUO_CARRY_wr',\n",
    "       '200_BOTTOM_DUO_SUPPORT_wr', '200_JUNGLE_NONE_wr']"
   ]
  },
  {
   "cell_type": "code",
   "execution_count": 47,
   "metadata": {},
   "outputs": [],
   "source": [
    "X_train2 = X_train[solo_wr_cols]\n",
    "X_validation2 = X_validation[solo_wr_cols]"
   ]
  },
  {
   "cell_type": "code",
   "execution_count": 48,
   "metadata": {},
   "outputs": [
    {
     "name": "stdout",
     "output_type": "stream",
     "text": [
      "Number of nodes: 15\n",
      "Epoch 1/1\n",
      "171284/171284 [==============================] - 7s 42us/step - loss: 0.2516\n",
      "Train ks and gini: {'ks': 0.013270064633952305, 'gini': -0.008912739040981282}\n",
      "Train ks and gini: {'ks': 0.0054670989743592635, 'gini': -0.0030384736615479686}\n",
      "Training time: 11.22303318977356\n",
      "Number of nodes: 16\n",
      "Epoch 1/1\n",
      "171284/171284 [==============================] - 8s 46us/step - loss: 0.2510\n",
      "Train ks and gini: {'ks': 0.01751192221056319, 'gini': -0.011503422141559768}\n",
      "Train ks and gini: {'ks': 0.010041797818639564, 'gini': -0.004349692197727051}\n",
      "Training time: 13.313497066497803\n",
      "Number of nodes: 17\n",
      "Epoch 1/1\n",
      "171284/171284 [==============================] - 8s 45us/step - loss: 0.2517\n",
      "Train ks and gini: {'ks': 0.0108516927992659, 'gini': -0.006580524149535116}\n",
      "Train ks and gini: {'ks': 0.0040547927910451476, 'gini': -0.001218346633897774}\n",
      "Training time: 12.246733665466309\n",
      "Number of nodes: 18\n",
      "Epoch 1/1\n",
      "171284/171284 [==============================] - 8s 49us/step - loss: 0.2512\n",
      "Train ks and gini: {'ks': 0.010662879137217418, 'gini': -0.007345545316503947}\n",
      "Train ks and gini: {'ks': 0.006969064968740946, 'gini': -0.0034115433082211283}\n",
      "Training time: 12.490909099578857\n",
      "Number of nodes: 19\n",
      "Epoch 1/1\n",
      "171284/171284 [==============================] - 9s 50us/step - loss: 0.2514\n",
      "Train ks and gini: {'ks': 0.0072109781768446846, 'gini': -0.005203178047111886}\n",
      "Train ks and gini: {'ks': 0.002587704582273642, 'gini': 0.0005087451119529591}\n",
      "Training time: 12.817168235778809\n"
     ]
    }
   ],
   "source": [
    "for num_nodes in range(15,20):\n",
    "    print(\"Number of nodes: \" + str(num_nodes))\n",
    "    start_time = time.time()\n",
    "    model = Sequential()\n",
    "    model.add(Dense(num_nodes, activation='relu', input_shape=(X_train2.shape[1],)))\n",
    "    model.add(Dense(1))\n",
    "    model.compile(optimizer='adam', loss='mean_squared_error')\n",
    "    model.fit(X_train2, Y_train)\n",
    "    train_pred = model.predict(X_train2)\n",
    "    print(\"Train ks and gini: \" + str(mpf.ks_gini(Y_train, train_pred[:,0])))\n",
    "    valid_pred = model.predict(X_validation2)\n",
    "    print(\"Train ks and gini: \" + str(mpf.ks_gini(Y_validation, valid_pred[:,0])))\n",
    "    training_time = time.time() - start_time\n",
    "    print(\"Training time: \" + str(training_time))"
   ]
  },
  {
   "cell_type": "markdown",
   "metadata": {},
   "source": [
    "## Solo win rates without Machine Learning"
   ]
  },
  {
   "cell_type": "code",
   "execution_count": 50,
   "metadata": {},
   "outputs": [],
   "source": [
    "blue_side_total_wr_cols = ['100_TOP_SOLO_wr', '100_MIDDLE_SOLO_wr', '100_BOTTOM_DUO_CARRY_wr',\n",
    "       '100_BOTTOM_DUO_SUPPORT_wr', '100_JUNGLE_NONE_wr']\n",
    "red_side_total_wr_cols = ['200_TOP_SOLO_wr',\n",
    "       '200_MIDDLE_SOLO_wr', '200_BOTTOM_DUO_CARRY_wr',\n",
    "       '200_BOTTOM_DUO_SUPPORT_wr', '200_JUNGLE_NONE_wr']\n"
   ]
  },
  {
   "cell_type": "code",
   "execution_count": 51,
   "metadata": {},
   "outputs": [
    {
     "name": "stderr",
     "output_type": "stream",
     "text": [
      "C:\\Users\\Albert\\Anaconda3\\lib\\site-packages\\ipykernel_launcher.py:1: SettingWithCopyWarning: \n",
      "A value is trying to be set on a copy of a slice from a DataFrame.\n",
      "Try using .loc[row_indexer,col_indexer] = value instead\n",
      "\n",
      "See the caveats in the documentation: http://pandas.pydata.org/pandas-docs/stable/indexing.html#indexing-view-versus-copy\n",
      "  \"\"\"Entry point for launching an IPython kernel.\n",
      "C:\\Users\\Albert\\Anaconda3\\lib\\site-packages\\ipykernel_launcher.py:2: SettingWithCopyWarning: \n",
      "A value is trying to be set on a copy of a slice from a DataFrame.\n",
      "Try using .loc[row_indexer,col_indexer] = value instead\n",
      "\n",
      "See the caveats in the documentation: http://pandas.pydata.org/pandas-docs/stable/indexing.html#indexing-view-versus-copy\n",
      "  \n",
      "C:\\Users\\Albert\\Anaconda3\\lib\\site-packages\\ipykernel_launcher.py:3: SettingWithCopyWarning: \n",
      "A value is trying to be set on a copy of a slice from a DataFrame.\n",
      "Try using .loc[row_indexer,col_indexer] = value instead\n",
      "\n",
      "See the caveats in the documentation: http://pandas.pydata.org/pandas-docs/stable/indexing.html#indexing-view-versus-copy\n",
      "  This is separate from the ipykernel package so we can avoid doing imports until\n"
     ]
    }
   ],
   "source": [
    "X_train2['blue_total_wr'] = X_train2[blue_side_total_wr_cols].sum(axis=1)\n",
    "X_train2['red_total_wr'] = X_train2[red_side_total_wr_cols].sum(axis=1)\n",
    "X_train2['blue_side_bigger_wr'] = X_train2['blue_total_wr'] > X_train2['red_total_wr']"
   ]
  },
  {
   "cell_type": "code",
   "execution_count": 52,
   "metadata": {},
   "outputs": [
    {
     "data": {
      "text/plain": [
       "0.4968648560285841"
      ]
     },
     "execution_count": 52,
     "metadata": {},
     "output_type": "execute_result"
    }
   ],
   "source": [
    "np.sum(X_train2['blue_side_bigger_wr'].astype(int) == Y_train) / X_train2.shape[0]"
   ]
  },
  {
   "cell_type": "markdown",
   "metadata": {},
   "source": [
    "## Paired Win Rates"
   ]
  },
  {
   "cell_type": "code",
   "execution_count": 4,
   "metadata": {},
   "outputs": [],
   "source": [
    "paired_wr_cols = ['100_TOP_SOLO_MIDDLE_SOLO_wr', '200_TOP_SOLO_MIDDLE_SOLO_wr',\n",
    "       '100_TOP_SOLO_BOTTOM_DUO_CARRY_wr', '200_TOP_SOLO_BOTTOM_DUO_CARRY_wr',\n",
    "       '100_TOP_SOLO_BOTTOM_DUO_SUPPORT_wr',\n",
    "       '200_TOP_SOLO_BOTTOM_DUO_SUPPORT_wr', '100_TOP_SOLO_JUNGLE_NONE_wr',\n",
    "       '200_TOP_SOLO_JUNGLE_NONE_wr', '100_MIDDLE_SOLO_BOTTOM_DUO_CARRY_wr',\n",
    "       '200_MIDDLE_SOLO_BOTTOM_DUO_CARRY_wr',\n",
    "       '100_MIDDLE_SOLO_BOTTOM_DUO_SUPPORT_wr',\n",
    "       '200_MIDDLE_SOLO_BOTTOM_DUO_SUPPORT_wr',\n",
    "       '100_MIDDLE_SOLO_JUNGLE_NONE_wr', '200_MIDDLE_SOLO_JUNGLE_NONE_wr',\n",
    "       '100_BOTTOM_DUO_CARRY_BOTTOM_DUO_SUPPORT_wr',\n",
    "       '200_BOTTOM_DUO_CARRY_BOTTOM_DUO_SUPPORT_wr',\n",
    "       '100_BOTTOM_DUO_CARRY_JUNGLE_NONE_wr',\n",
    "       '200_BOTTOM_DUO_CARRY_JUNGLE_NONE_wr',\n",
    "       '100_BOTTOM_DUO_SUPPORT_JUNGLE_NONE_wr',\n",
    "       '200_BOTTOM_DUO_SUPPORT_JUNGLE_NONE_wr']"
   ]
  },
  {
   "cell_type": "code",
   "execution_count": 66,
   "metadata": {},
   "outputs": [],
   "source": [
    "X_train3 = X_train[paired_wr_cols]\n",
    "X_validation3 = X_validation[paired_wr_cols]"
   ]
  },
  {
   "cell_type": "code",
   "execution_count": 77,
   "metadata": {},
   "outputs": [
    {
     "name": "stdout",
     "output_type": "stream",
     "text": [
      "Epoch 1/1\n",
      "171284/171284 [==============================] - 13s 76us/step - loss: 0.2515\n",
      "Train ks and gini: {'ks': 0.04191192612235667, 'gini': 0.02810120826338751}\n",
      "Train accuracy: 0.5387601877583429\n",
      "Validation ks and gini: {'ks': 0.04734207452667222, 'gini': 0.03194593766256729}\n",
      "Validation accuracy: 0.5432890196696618\n",
      "Training time: 19.49892282485962\n"
     ]
    }
   ],
   "source": [
    "start_time = time.time()\n",
    "model = Sequential()\n",
    "model.add(Dense(20, activation='sigmoid', input_shape=(X_train3.shape[1],)))\n",
    "model.add(Dense(5, activation='sigmoid', input_shape=(X_train3.shape[1],)))\n",
    "model.add(Dense(1))\n",
    "model.compile(optimizer='adam', loss='mean_squared_error')\n",
    "model.fit(X_train3, Y_train)\n",
    "train_pred = model.predict(X_train3)\n",
    "print(\"Train ks and gini: \" + str(mpf.ks_gini(Y_train, train_pred[:,0])))\n",
    "print(\"Train accuracy: \" + str(mpf.correct_prediction_rate(Y_train, train_pred[:,0])))\n",
    "valid_pred = model.predict(X_validation3)\n",
    "print(\"Validation ks and gini: \" + str(mpf.ks_gini(Y_validation, valid_pred[:,0])))\n",
    "print(\"Validation accuracy: \" + str(mpf.correct_prediction_rate(Y_validation, valid_pred[:,0])))\n",
    "training_time = time.time() - start_time\n",
    "print(\"Training time: \" + str(training_time))"
   ]
  },
  {
   "cell_type": "code",
   "execution_count": 79,
   "metadata": {},
   "outputs": [
    {
     "name": "stdout",
     "output_type": "stream",
     "text": [
      "0.45\n",
      "Train accuracy: 0.49699329768104433\n",
      "Validation accuracy: 0.4959452121976424\n",
      "0.46\n",
      "Train accuracy: 0.49938114476541884\n",
      "Validation accuracy: 0.49822219886851277\n",
      "0.47\n",
      "Train accuracy: 0.5058207421592209\n",
      "Validation accuracy: 0.5049130366244549\n",
      "0.48\n",
      "Train accuracy: 0.5211052988019896\n",
      "Validation accuracy: 0.5244600914297725\n",
      "0.49\n",
      "Train accuracy: 0.5381179794960417\n",
      "Validation accuracy: 0.5433415655159126\n",
      "0.5\n",
      "Train accuracy: 0.5387601877583429\n",
      "Validation accuracy: 0.5432890196696618\n",
      "0.51\n",
      "Train accuracy: 0.527702529132902\n",
      "Validation accuracy: 0.5317814793407247\n",
      "0.52\n",
      "Train accuracy: 0.518081081712244\n",
      "Validation accuracy: 0.522831170195996\n",
      "0.53\n",
      "Train accuracy: 0.5128791947876042\n",
      "Validation accuracy: 0.5168934895696495\n",
      "0.54\n",
      "Train accuracy: 0.5108358048621003\n",
      "Validation accuracy: 0.5143012278212741\n"
     ]
    }
   ],
   "source": [
    "thresholds = [(x + 45)/100 for x in range(10)]\n",
    "for t in thresholds:\n",
    "    print(t)\n",
    "    print(\"Train accuracy: \" + str(mpf.correct_prediction_rate(Y_train, train_pred[:,0], t)))\n",
    "    print(\"Validation accuracy: \" + str(mpf.correct_prediction_rate(Y_validation, valid_pred[:,0], t)))"
   ]
  },
  {
   "cell_type": "code",
   "execution_count": 62,
   "metadata": {},
   "outputs": [],
   "source": [
    "most_impt_lane_pairs = ['100_TOP_SOLO_MIDDLE_SOLO_wr', '200_TOP_SOLO_MIDDLE_SOLO_wr',\n",
    "       '100_TOP_SOLO_JUNGLE_NONE_wr',\n",
    "       '200_TOP_SOLO_JUNGLE_NONE_wr', \n",
    "       '100_MIDDLE_SOLO_JUNGLE_NONE_wr', '200_MIDDLE_SOLO_JUNGLE_NONE_wr',\n",
    "       '100_BOTTOM_DUO_CARRY_BOTTOM_DUO_SUPPORT_wr',\n",
    "       '200_BOTTOM_DUO_CARRY_BOTTOM_DUO_SUPPORT_wr',\n",
    "       '100_BOTTOM_DUO_SUPPORT_JUNGLE_NONE_wr',\n",
    "       '200_BOTTOM_DUO_SUPPORT_JUNGLE_NONE_wr']\n",
    "X_train3a = X_train3[most_impt_lane_pairs]\n",
    "X_validation3a = X_validation3[most_impt_lane_pairs]"
   ]
  },
  {
   "cell_type": "code",
   "execution_count": 63,
   "metadata": {},
   "outputs": [
    {
     "name": "stdout",
     "output_type": "stream",
     "text": [
      "Epoch 1/1\n",
      "171284/171284 [==============================] - 12s 69us/step - loss: 0.2500\n",
      "Train ks and gini: {'ks': 0.03826417659963738, 'gini': 0.025217814967840223}\n",
      "Train accuracy: 0.5099542280656687\n",
      "Validation ks and gini: {'ks': 0.042826091288003965, 'gini': 0.028324283305312625}\n",
      "Validation accuracy: 0.5125672148949959\n",
      "Training time: 17.90878939628601\n"
     ]
    }
   ],
   "source": [
    "start_time = time.time()\n",
    "model = Sequential()\n",
    "model.add(Dense(10, activation='sigmoid', input_shape=(X_train3a.shape[1],)))\n",
    "model.add(Dense(8, activation='sigmoid'))\n",
    "model.add(Dense(4, activation='sigmoid'))\n",
    "model.add(Dense(1))\n",
    "model.compile(optimizer='adam', loss='mean_squared_error')\n",
    "model.fit(X_train3a, Y_train)\n",
    "train_pred = model.predict(X_train3a)\n",
    "print(\"Train ks and gini: \" + str(mpf.ks_gini(Y_train, train_pred[:,0])))\n",
    "print(\"Train accuracy: \" + str(mpf.correct_prediction_rate(Y_train, train_pred[:,0])))\n",
    "valid_pred = model.predict(X_validation3a)\n",
    "print(\"Validation ks and gini: \" + str(mpf.ks_gini(Y_validation, valid_pred[:,0])))\n",
    "print(\"Validation accuracy: \" + str(mpf.correct_prediction_rate(Y_validation, valid_pred[:,0])))\n",
    "training_time = time.time() - start_time\n",
    "print(\"Training time: \" + str(training_time))"
   ]
  },
  {
   "cell_type": "markdown",
   "metadata": {},
   "source": [
    "## H2H Win Rates"
   ]
  },
  {
   "cell_type": "code",
   "execution_count": 27,
   "metadata": {},
   "outputs": [],
   "source": [
    "h2h_wr_cols = ['100_TOP_SOLO_200_TOP_SOLO_h2h_100_wr',\n",
    "       '100_TOP_SOLO_200_MIDDLE_SOLO_h2h_100_wr',\n",
    "       '100_TOP_SOLO_200_BOTTOM_DUO_CARRY_h2h_100_wr',\n",
    "       '100_TOP_SOLO_200_BOTTOM_DUO_SUPPORT_h2h_100_wr',\n",
    "       '100_TOP_SOLO_200_JUNGLE_NONE_h2h_100_wr',\n",
    "       '100_MIDDLE_SOLO_200_TOP_SOLO_h2h_100_wr',\n",
    "       '100_MIDDLE_SOLO_200_MIDDLE_SOLO_h2h_100_wr',\n",
    "       '100_MIDDLE_SOLO_200_BOTTOM_DUO_CARRY_h2h_100_wr',\n",
    "       '100_MIDDLE_SOLO_200_BOTTOM_DUO_SUPPORT_h2h_100_wr',\n",
    "       '100_MIDDLE_SOLO_200_JUNGLE_NONE_h2h_100_wr',\n",
    "       '100_BOTTOM_DUO_CARRY_200_TOP_SOLO_h2h_100_wr',\n",
    "       '100_BOTTOM_DUO_CARRY_200_MIDDLE_SOLO_h2h_100_wr',\n",
    "       '100_BOTTOM_DUO_CARRY_200_BOTTOM_DUO_CARRY_h2h_100_wr',\n",
    "       '100_BOTTOM_DUO_CARRY_200_BOTTOM_DUO_SUPPORT_h2h_100_wr',\n",
    "       '100_BOTTOM_DUO_CARRY_200_JUNGLE_NONE_h2h_100_wr',\n",
    "       '100_BOTTOM_DUO_SUPPORT_200_TOP_SOLO_h2h_100_wr',\n",
    "       '100_BOTTOM_DUO_SUPPORT_200_MIDDLE_SOLO_h2h_100_wr',\n",
    "       '100_BOTTOM_DUO_SUPPORT_200_BOTTOM_DUO_CARRY_h2h_100_wr',\n",
    "       '100_BOTTOM_DUO_SUPPORT_200_BOTTOM_DUO_SUPPORT_h2h_100_wr',\n",
    "       '100_BOTTOM_DUO_SUPPORT_200_JUNGLE_NONE_h2h_100_wr',\n",
    "       '100_JUNGLE_NONE_200_TOP_SOLO_h2h_100_wr',\n",
    "       '100_JUNGLE_NONE_200_MIDDLE_SOLO_h2h_100_wr',\n",
    "       '100_JUNGLE_NONE_200_BOTTOM_DUO_CARRY_h2h_100_wr',\n",
    "       '100_JUNGLE_NONE_200_BOTTOM_DUO_SUPPORT_h2h_100_wr',\n",
    "       '100_JUNGLE_NONE_200_JUNGLE_NONE_h2h_100_wr']"
   ]
  },
  {
   "cell_type": "code",
   "execution_count": 28,
   "metadata": {},
   "outputs": [],
   "source": [
    "X_train4 = X_train[h2h_wr_cols]\n",
    "X_validation4 = X_validation[h2h_wr_cols]"
   ]
  },
  {
   "cell_type": "code",
   "execution_count": 29,
   "metadata": {},
   "outputs": [
    {
     "name": "stdout",
     "output_type": "stream",
     "text": [
      "Epoch 1/1\n",
      "171321/171321 [==============================] - 7s 42us/step - loss: 0.2223\n",
      "Train ks and gini: {'ks': 0.17572353427916215, 'gini': 0.12714255751835002}\n",
      "Train accuracy: 0.6717915491971211\n",
      "Validation ks and gini: {'ks': 0.04414020518695616, 'gini': 0.027857866583537602}\n",
      "Validation accuracy: 0.5410019787416603\n",
      "Training time: 10.834827184677124\n"
     ]
    }
   ],
   "source": [
    "model = Sequential()\n",
    "model.add(Dense(20, activation='sigmoid', input_shape=(X_train4.shape[1],)))\n",
    "model.add(Dense(1))\n",
    "model.compile(optimizer='adam', loss='mean_squared_error')\n",
    "model.fit(X_train4, Y_train)\n",
    "train_pred = model.predict(X_train4)\n",
    "print(\"Train ks and gini: \" + str(mpf.ks_gini(Y_train, train_pred[:,0])))\n",
    "print(\"Train accuracy: \" + str(mpf.correct_prediction_rate(Y_train, train_pred[:,0])))\n",
    "valid_pred = model.predict(X_validation4)\n",
    "print(\"Validation ks and gini: \" + str(mpf.ks_gini(Y_validation, valid_pred[:,0])))\n",
    "print(\"Validation accuracy: \" + str(mpf.correct_prediction_rate(Y_validation, valid_pred[:,0])))\n",
    "training_time = time.time() - start_time\n",
    "print(\"Training time: \" + str(training_time))"
   ]
  },
  {
   "cell_type": "code",
   "execution_count": 31,
   "metadata": {},
   "outputs": [
    {
     "name": "stdout",
     "output_type": "stream",
     "text": [
      "Train accuracy: 0.6487354148061242\n",
      "Validation accuracy: 0.5287442870401177\n",
      "Train accuracy: 0.6551911324356033\n",
      "Validation accuracy: 0.5314584902026022\n",
      "Train accuracy: 0.6609580845313767\n",
      "Validation accuracy: 0.5334547428511391\n",
      "Train accuracy: 0.6660537820815895\n",
      "Validation accuracy: 0.5361514350254785\n",
      "Train accuracy: 0.6693575218449577\n",
      "Validation accuracy: 0.5388306162116728\n",
      "Train accuracy: 0.6717915491971211\n",
      "Validation accuracy: 0.5410019787416603\n",
      "Train accuracy: 0.673338353149935\n",
      "Validation accuracy: 0.5419825940777838\n",
      "Train accuracy: 0.673455093070902\n",
      "Validation accuracy: 0.5437336928922899\n",
      "Train accuracy: 0.6714179814500265\n",
      "Validation accuracy: 0.5427005445917313\n",
      "Train accuracy: 0.6687154522796388\n",
      "Validation accuracy: 0.542595478662861\n"
     ]
    }
   ],
   "source": [
    "thresholds = [(x + 45)/100 for x in range(10)]\n",
    "for t in thresholds:\n",
    "    print(\"Train accuracy: \" + str(mpf.correct_prediction_rate(Y_train, train_pred[:,0], t)))\n",
    "    print(\"Validation accuracy: \" + str(mpf.correct_prediction_rate(Y_validation, valid_pred[:,0], t)))"
   ]
  },
  {
   "cell_type": "markdown",
   "metadata": {},
   "source": [
    "## One Hot Encoding"
   ]
  },
  {
   "cell_type": "code",
   "execution_count": 91,
   "metadata": {},
   "outputs": [
    {
     "name": "stderr",
     "output_type": "stream",
     "text": [
      "C:\\Users\\Albert\\Anaconda3\\lib\\site-packages\\ipykernel_launcher.py:9: SettingWithCopyWarning: \n",
      "A value is trying to be set on a copy of a slice from a DataFrame.\n",
      "Try using .loc[row_indexer,col_indexer] = value instead\n",
      "\n",
      "See the caveats in the documentation: http://pandas.pydata.org/pandas-docs/stable/indexing.html#indexing-view-versus-copy\n",
      "  if __name__ == '__main__':\n",
      "C:\\Users\\Albert\\Anaconda3\\lib\\site-packages\\ipykernel_launcher.py:10: SettingWithCopyWarning: \n",
      "A value is trying to be set on a copy of a slice from a DataFrame.\n",
      "Try using .loc[row_indexer,col_indexer] = value instead\n",
      "\n",
      "See the caveats in the documentation: http://pandas.pydata.org/pandas-docs/stable/indexing.html#indexing-view-versus-copy\n",
      "  # Remove the CWD from sys.path while we load stuff.\n"
     ]
    }
   ],
   "source": [
    "lane_cols = ['100_TOP_SOLO', '100_JUNGLE_NONE', '100_MIDDLE_SOLO', '100_BOTTOM_DUO_CARRY', '100_BOTTOM_DUO_SUPPORT', '200_TOP_SOLO', '200_JUNGLE_NONE', '200_MIDDLE_SOLO', '200_BOTTOM_DUO_CARRY', '200_BOTTOM_DUO_SUPPORT']\n",
    "X_train5 = X_train[lane_cols]\n",
    "X_validation5 = X_validation[lane_cols]\n",
    "\n",
    "champ_ids = dc.get_champs_four_letters()\n",
    "champ_ids = dict(zip(champ_ids, champ_ids.index))\n",
    "\n",
    "for i in cols_to_keep:\n",
    "    X_train5[i] = X_train5[i].map(champ_ids)\n",
    "    X_validation5[i] = X_validation5[i].map(champ_ids)\n",
    "\n",
    "ohe = sklearn.preprocessing.OneHotEncoder(140)\n",
    "X_train5 = ohe.fit_transform(X_train5)\n",
    "X_validation5 = ohe.fit_transform(X_validation5)"
   ]
  },
  {
   "cell_type": "code",
   "execution_count": 92,
   "metadata": {},
   "outputs": [
    {
     "data": {
      "text/plain": [
       "(171284, 1400)"
      ]
     },
     "execution_count": 92,
     "metadata": {},
     "output_type": "execute_result"
    }
   ],
   "source": [
    "X_train5.shape"
   ]
  },
  {
   "cell_type": "code",
   "execution_count": 106,
   "metadata": {},
   "outputs": [
    {
     "name": "stdout",
     "output_type": "stream",
     "text": [
      "Epoch 1/1\n",
      "171284/171284 [==============================] - 65s 379us/step - loss: 0.2488\n",
      "Train ks and gini: {'ks': 0.060543076764375814, 'gini': 0.041808237995168224}\n",
      "Train accuracy: 0.5500513766609841\n",
      "Validation ks and gini: {'ks': 0.05459509559230841, 'gini': 0.03750410824657843}\n",
      "Validation accuracy: 0.5411346399733767\n"
     ]
    }
   ],
   "source": [
    "model = Sequential()\n",
    "model.add(Dense(200, activation='sigmoid', input_shape=(X_train5.shape[1],)))\n",
    "model.add(Dense(50, activation='sigmoid'))\n",
    "model.add(Dense(20, activation='sigmoid'))\n",
    "model.add(Dense(10, activation='sigmoid'))\n",
    "model.add(Dense(1))\n",
    "model.compile(optimizer='adam', loss='mean_squared_error')\n",
    "model.fit(X_train5, Y_train)\n",
    "train_pred = model.predict(X_train5)\n",
    "print(\"Train ks and gini: \" + str(mpf.ks_gini(Y_train, train_pred[:,0])))\n",
    "print(\"Train accuracy: \" + str(mpf.correct_prediction_rate(Y_train, train_pred[:,0])))\n",
    "valid_pred = model.predict(X_validation5)\n",
    "print(\"Validation ks and gini: \" + str(mpf.ks_gini(Y_validation, valid_pred[:,0])))\n",
    "print(\"Validation accuracy: \" + str(mpf.correct_prediction_rate(Y_validation, valid_pred[:,0])))"
   ]
  },
  {
   "cell_type": "code",
   "execution_count": 105,
   "metadata": {},
   "outputs": [
    {
     "name": "stdout",
     "output_type": "stream",
     "text": [
      "Train accuracy: 0.4942551551808692\n",
      "Validation accuracy: 0.4919692431646612\n",
      "Train accuracy: 0.4942551551808692\n",
      "Validation accuracy: 0.4919692431646612\n",
      "Train accuracy: 0.4963802807033932\n",
      "Validation accuracy: 0.4937908325013574\n",
      "Train accuracy: 0.511191938534831\n",
      "Validation accuracy: 0.5143187431033577\n",
      "Train accuracy: 0.5057448448191308\n",
      "Validation accuracy: 0.5080132415532552\n"
     ]
    }
   ],
   "source": [
    "thresholds = [.487255, .4873, .4874, .4875, .48753]\n",
    "for t in thresholds:\n",
    "    print(\"Train accuracy: \" + str(mpf.correct_prediction_rate(Y_train, train_pred[:,0], t)))\n",
    "    print(\"Validation accuracy: \" + str(mpf.correct_prediction_rate(Y_validation, valid_pred[:,0], t)))"
   ]
  },
  {
   "cell_type": "code",
   "execution_count": 99,
   "metadata": {},
   "outputs": [
    {
     "data": {
      "text/plain": [
       "count    171284.000000\n",
       "mean          0.487255\n",
       "std           0.000208\n",
       "min           0.487346\n",
       "25%           0.487448\n",
       "50%           0.487464\n",
       "75%           0.487477\n",
       "max           0.487526\n",
       "dtype: float64"
      ]
     },
     "execution_count": 99,
     "metadata": {},
     "output_type": "execute_result"
    }
   ],
   "source": [
    "pd.Series(train_pred[:,0]).describe()"
   ]
  },
  {
   "cell_type": "markdown",
   "metadata": {},
   "source": [
    "## Champ Indicators with Paired Win Rates"
   ]
  },
  {
   "cell_type": "code",
   "execution_count": 16,
   "metadata": {},
   "outputs": [
    {
     "name": "stdout",
     "output_type": "stream",
     "text": [
      "(171284, 30)\n",
      "(171284, 160)\n"
     ]
    }
   ],
   "source": [
    "lane_cols = ['100_TOP_SOLO', '100_JUNGLE_NONE', '100_MIDDLE_SOLO', '100_BOTTOM_DUO_CARRY', '100_BOTTOM_DUO_SUPPORT', '200_TOP_SOLO', '200_JUNGLE_NONE', '200_MIDDLE_SOLO', '200_BOTTOM_DUO_CARRY', '200_BOTTOM_DUO_SUPPORT']\n",
    "X_train6 = X_train[lane_cols + paired_wr_cols]\n",
    "X_validation6 = X_validation[lane_cols + paired_wr_cols]\n",
    "print(X_train6.shape)\n",
    "champs = dc.get_champs_four_letters()\n",
    "\n",
    "for champ in champs:\n",
    "    X_train6[champ] = 0\n",
    "    X_validation6[champ] = 0\n",
    "    for col in lane_cols:\n",
    "        if col[0:3] == '100':\n",
    "            X_train6[champ][X_train6[col] == champ] = 1\n",
    "            X_validation6[champ][X_validation6[col] == champ] = 1\n",
    "        else:\n",
    "            X_train6[champ][X_train6[col] == champ] = -1\n",
    "            X_validation6[champ][X_validation6[col] == champ] = -1\n",
    "X_train6.drop(lane_cols, inplace=True, axis=1)\n",
    "X_validation6.drop(lane_cols, inplace=True, axis=1)\n",
    "print(X_train6.shape)"
   ]
  },
  {
   "cell_type": "code",
   "execution_count": 17,
   "metadata": {},
   "outputs": [
    {
     "name": "stdout",
     "output_type": "stream",
     "text": [
      "Epoch 1/1\n",
      "171284/171284 [==============================] - 13s 78us/step - loss: 0.2483\n",
      "Train ks and gini: {'ks': 0.051922442631431476, 'gini': 0.03650319416417122}\n",
      "Train accuracy: 0.5515167791504169\n",
      "Validation ks and gini: {'ks': 0.05524585741503779, 'gini': 0.037270973780790084}\n",
      "Validation accuracy: 0.5537981889198326\n"
     ]
    }
   ],
   "source": [
    "model = Sequential()\n",
    "model.add(Dense(100, activation='sigmoid', input_shape=(X_train6.shape[1],)))\n",
    "model.add(Dense(50, activation='sigmoid'))\n",
    "model.add(Dense(20, activation='sigmoid'))\n",
    "model.add(Dense(10, activation='sigmoid'))\n",
    "model.add(Dense(1))\n",
    "model.compile(optimizer='adam', loss='mean_squared_error')\n",
    "model.fit(X_train6, Y_train)\n",
    "train_pred = model.predict(X_train6)\n",
    "print(\"Train ks and gini: \" + str(mpf.ks_gini(Y_train, train_pred[:,0])))\n",
    "print(\"Train accuracy: \" + str(mpf.correct_prediction_rate(Y_train, train_pred[:,0])))\n",
    "valid_pred = model.predict(X_validation6)\n",
    "print(\"Validation ks and gini: \" + str(mpf.ks_gini(Y_validation, valid_pred[:,0])))\n",
    "print(\"Validation accuracy: \" + str(mpf.correct_prediction_rate(Y_validation, valid_pred[:,0])))"
   ]
  },
  {
   "cell_type": "code",
   "execution_count": 18,
   "metadata": {},
   "outputs": [
    {
     "data": {
      "text/plain": [
       "count    171284.000000\n",
       "mean          0.489575\n",
       "std           0.052028\n",
       "min           0.294789\n",
       "25%           0.453669\n",
       "50%           0.493132\n",
       "75%           0.528641\n",
       "max           0.617378\n",
       "dtype: float64"
      ]
     },
     "execution_count": 18,
     "metadata": {},
     "output_type": "execute_result"
    }
   ],
   "source": [
    "pd.Series(train_pred[:,0]).describe()"
   ]
  },
  {
   "cell_type": "code",
   "execution_count": 34,
   "metadata": {},
   "outputs": [
    {
     "name": "stdout",
     "output_type": "stream",
     "text": [
      "100,4100,8100,12100,16100,20100,24100,28100,32100,36100,40100,44100,48100,52100,56100,60100,64100,68100,72100,76100,80100,84100,88100,92100,96100,100100,104100,108100,112100,116100,120100,124100,128100,132100,136100,140100,144100,148100,152100,156100,160100,164100,168100,"
     ]
    }
   ],
   "source": [
    "train_ks = []\n",
    "train_accuracy = []\n",
    "valid_ks = []\n",
    "valid_accuracy = []\n",
    "for x in range(100, X_train6.shape[0], 4000):\n",
    "    print(str(x) + ',', end='')\n",
    "    model = Sequential()\n",
    "    model.add(Dense(100, activation='sigmoid', input_shape=(X_train6.shape[1],)))\n",
    "    model.add(Dense(50, activation='sigmoid'))\n",
    "    model.add(Dense(20, activation='sigmoid'))\n",
    "    model.add(Dense(10, activation='sigmoid'))\n",
    "    model.add(Dense(1))\n",
    "    model.compile(optimizer='adam', loss='mean_squared_error')\n",
    "    model.fit(X_train6.iloc[0:x,:], Y_train[0:x], verbose=0)\n",
    "    train_pred = model.predict(X_train6.iloc[0:x,:])\n",
    "    train_ks_gini = mpf.ks_gini(Y_train[0:x], train_pred[:,0])\n",
    "    train_acc = mpf.correct_prediction_rate(Y_train[0:x], train_pred[:,0])\n",
    "    train_ks.append(train_ks_gini['ks'])\n",
    "    train_accuracy.append(train_acc)\n",
    "#    print(\"Train ks and gini: \" + str(train_ks_gini))\n",
    "#    print(\"Train accuracy: \" + str(train_acc))\n",
    "    valid_pred = model.predict(X_validation6)\n",
    "    valid_ks_gini = mpf.ks_gini(Y_validation, valid_pred[:,0])\n",
    "    valid_acc = mpf.correct_prediction_rate(Y_validation, valid_pred[:,0])\n",
    "    valid_ks.append(valid_ks_gini['ks'])\n",
    "    valid_accuracy.append(valid_acc)\n",
    "#    print(\"Validation ks and gini: \" + str(valid_ks_gini))\n",
    "#    print(\"Validation accuracy: \" + str(valid_acc))"
   ]
  },
  {
   "cell_type": "code",
   "execution_count": 35,
   "metadata": {},
   "outputs": [
    {
     "data": {
      "image/png": "[encoded data removed]",
      "text/plain": [
       "<matplotlib.figure.Figure at 0xc6d27ad390>"
      ]
     },
     "metadata": {},
     "output_type": "display_data"
    },
    {
     "data": {
      "image/png": "[encoded data removed]",
      "text/plain": [
       "<matplotlib.figure.Figure at 0xc620934898>"
      ]
     },
     "metadata": {},
     "output_type": "display_data"
    }
   ],
   "source": [
    "plt.plot(range(100, X_train6.shape[0], 4000), train_ks)\n",
    "plt.plot(range(100, X_train6.shape[0], 4000), valid_ks)\n",
    "plt.savefig('../reports/figures/nn_ks_learning_rate.png')\n",
    "plt.show()\n",
    "plt.plot(range(100, X_train6.shape[0], 4000), train_accuracy)\n",
    "plt.plot(range(100, X_train6.shape[0], 4000), valid_accuracy)\n",
    "plt.savefig('../reports/figures/nn_acc_learning_Rate.png')\n",
    "plt.show()"
   ]
  },
  {
   "cell_type": "markdown",
   "metadata": {},
   "source": [
    "## Champ Indicators without Paired Win Rates"
   ]
  },
  {
   "cell_type": "code",
   "execution_count": 20,
   "metadata": {},
   "outputs": [],
   "source": [
    "X_train7 = X_train6[champs]\n",
    "X_validation7 = X_validation6[champs]"
   ]
  },
  {
   "cell_type": "code",
   "execution_count": null,
   "metadata": {},
   "outputs": [],
   "source": [
    "model = Sequential()\n",
    "model.add(Dense(100, activation='sigmoid', input_shape=(X_train7.shape[1],)))\n",
    "model.add(Dense(50, activation='sigmoid'))\n",
    "model.add(Dense(20, activation='sigmoid'))\n",
    "model.add(Dense(10, activation='sigmoid'))\n",
    "model.add(Dense(1))\n",
    "model.compile(optimizer='adam', loss='mean_squared_error')\n",
    "model.fit(X_train7, Y_train)\n",
    "train_pred = model.predict(X_train7)\n",
    "print(\"Train ks and gini: \" + str(mpf.ks_gini(Y_train, train_pred[:,0])))\n",
    "print(\"Train accuracy: \" + str(mpf.correct_prediction_rate(Y_train, train_pred[:,0])))\n",
    "valid_pred = model.predict(X_validation7)\n",
    "print(\"Validation ks and gini: \" + str(mpf.ks_gini(Y_validation, valid_pred[:,0])))\n",
    "print(\"Validation accuracy: \" + str(mpf.correct_prediction_rate(Y_validation, valid_pred[:,0])))"
   ]
  }
 ],
 "metadata": {
  "kernelspec": {
   "display_name": "Python 3",
   "language": "python",
   "name": "python3"
  },
  "language_info": {
   "codemirror_mode": {
    "name": "ipython",
    "version": 3
   },
   "file_extension": ".py",
   "mimetype": "text/x-python",
   "name": "python",
   "nbconvert_exporter": "python",
   "pygments_lexer": "ipython3",
   "version": "3.6.4"
  }
 },
 "nbformat": 4,
 "nbformat_minor": 2
}

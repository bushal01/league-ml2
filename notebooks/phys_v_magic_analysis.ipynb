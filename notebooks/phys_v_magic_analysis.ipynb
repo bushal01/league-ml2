{
 "cells": [
  {
   "cell_type": "markdown",
   "metadata": {},
   "source": [
    "### Physical Damage vs. Magic Damage: How much do you want in your team?"
   ]
  },
  {
   "cell_type": "code",
   "execution_count": 1,
   "metadata": {},
   "outputs": [],
   "source": [
    "import pandas as pd\n",
    "import numpy as np\n",
    "import sys\n",
    "import os\n",
    "sys.path.append('../src/')\n",
    "import get_modeling_data\n",
    "import data_constants as dc"
   ]
  },
  {
   "cell_type": "code",
   "execution_count": 2,
   "metadata": {},
   "outputs": [],
   "source": [
    "# Load match data\n",
    "data = get_modeling_data.get_all_data()"
   ]
  },
  {
   "cell_type": "code",
   "execution_count": 3,
   "metadata": {},
   "outputs": [
    {
     "name": "stdout",
     "output_type": "stream",
     "text": [
      "(285536, 15)\n"
     ]
    },
    {
     "data": {
      "text/html": [
       "<div>\n",
       "<style scoped>\n",
       "    .dataframe tbody tr th:only-of-type {\n",
       "        vertical-align: middle;\n",
       "    }\n",
       "\n",
       "    .dataframe tbody tr th {\n",
       "        vertical-align: top;\n",
       "    }\n",
       "\n",
       "    .dataframe thead th {\n",
       "        text-align: right;\n",
       "    }\n",
       "</style>\n",
       "<table border=\"1\" class=\"dataframe\">\n",
       "  <thead>\n",
       "    <tr style=\"text-align: right;\">\n",
       "      <th></th>\n",
       "      <th>match_id</th>\n",
       "      <th>game_version</th>\n",
       "      <th>queue_id</th>\n",
       "      <th>game_duration</th>\n",
       "      <th>team_100_win</th>\n",
       "      <th>100_TOP_SOLO</th>\n",
       "      <th>100_JUNGLE_NONE</th>\n",
       "      <th>100_MIDDLE_SOLO</th>\n",
       "      <th>100_BOTTOM_DUO_CARRY</th>\n",
       "      <th>100_BOTTOM_DUO_SUPPORT</th>\n",
       "      <th>200_TOP_SOLO</th>\n",
       "      <th>200_JUNGLE_NONE</th>\n",
       "      <th>200_MIDDLE_SOLO</th>\n",
       "      <th>200_BOTTOM_DUO_CARRY</th>\n",
       "      <th>200_BOTTOM_DUO_SUPPORT</th>\n",
       "    </tr>\n",
       "  </thead>\n",
       "  <tbody>\n",
       "    <tr>\n",
       "      <th>0</th>\n",
       "      <td>2726806213</td>\n",
       "      <td>8.4.218.8787</td>\n",
       "      <td>420</td>\n",
       "      <td>1452</td>\n",
       "      <td>0</td>\n",
       "      <td>Kled</td>\n",
       "      <td>Reng</td>\n",
       "      <td>Kata</td>\n",
       "      <td>Varu</td>\n",
       "      <td>Tari</td>\n",
       "      <td>Akal</td>\n",
       "      <td>Vi</td>\n",
       "      <td>Dr.</td>\n",
       "      <td>Vayn</td>\n",
       "      <td>Lulu</td>\n",
       "    </tr>\n",
       "    <tr>\n",
       "      <th>1</th>\n",
       "      <td>2726789592</td>\n",
       "      <td>8.4.218.8787</td>\n",
       "      <td>420</td>\n",
       "      <td>1539</td>\n",
       "      <td>0</td>\n",
       "      <td>Rene</td>\n",
       "      <td>Mast</td>\n",
       "      <td>Fizz</td>\n",
       "      <td>Cait</td>\n",
       "      <td>Lux</td>\n",
       "      <td>Kled</td>\n",
       "      <td>Skar</td>\n",
       "      <td>Kass</td>\n",
       "      <td>Ezre</td>\n",
       "      <td>Sona</td>\n",
       "    </tr>\n",
       "    <tr>\n",
       "      <th>2</th>\n",
       "      <td>2726784050</td>\n",
       "      <td>8.4.218.8787</td>\n",
       "      <td>420</td>\n",
       "      <td>1380</td>\n",
       "      <td>0</td>\n",
       "      <td>Kled</td>\n",
       "      <td>Reng</td>\n",
       "      <td>Ryze</td>\n",
       "      <td>Varu</td>\n",
       "      <td>Sora</td>\n",
       "      <td>Gang</td>\n",
       "      <td>Seju</td>\n",
       "      <td>Ahri</td>\n",
       "      <td>Jinx</td>\n",
       "      <td>Blit</td>\n",
       "    </tr>\n",
       "    <tr>\n",
       "      <th>3</th>\n",
       "      <td>2726032902</td>\n",
       "      <td>8.4.218.8787</td>\n",
       "      <td>420</td>\n",
       "      <td>1360</td>\n",
       "      <td>1</td>\n",
       "      <td>Kled</td>\n",
       "      <td>Kayn</td>\n",
       "      <td>Fizz</td>\n",
       "      <td>Varu</td>\n",
       "      <td>Tari</td>\n",
       "      <td>Blit</td>\n",
       "      <td>Shac</td>\n",
       "      <td>Kayl</td>\n",
       "      <td>Tris</td>\n",
       "      <td>Lux</td>\n",
       "    </tr>\n",
       "    <tr>\n",
       "      <th>4</th>\n",
       "      <td>2726003824</td>\n",
       "      <td>8.4.218.8787</td>\n",
       "      <td>420</td>\n",
       "      <td>1773</td>\n",
       "      <td>1</td>\n",
       "      <td>Kled</td>\n",
       "      <td>Lee</td>\n",
       "      <td>Aniv</td>\n",
       "      <td>Drav</td>\n",
       "      <td>Bard</td>\n",
       "      <td>Yasu</td>\n",
       "      <td>Reng</td>\n",
       "      <td>Ekko</td>\n",
       "      <td>Tris</td>\n",
       "      <td>Tahm</td>\n",
       "    </tr>\n",
       "  </tbody>\n",
       "</table>\n",
       "</div>"
      ],
      "text/plain": [
       "     match_id  game_version  queue_id  game_duration  team_100_win  \\\n",
       "0  2726806213  8.4.218.8787       420           1452             0   \n",
       "1  2726789592  8.4.218.8787       420           1539             0   \n",
       "2  2726784050  8.4.218.8787       420           1380             0   \n",
       "3  2726032902  8.4.218.8787       420           1360             1   \n",
       "4  2726003824  8.4.218.8787       420           1773             1   \n",
       "\n",
       "  100_TOP_SOLO 100_JUNGLE_NONE 100_MIDDLE_SOLO 100_BOTTOM_DUO_CARRY  \\\n",
       "0         Kled            Reng            Kata                 Varu   \n",
       "1         Rene            Mast            Fizz                 Cait   \n",
       "2         Kled            Reng            Ryze                 Varu   \n",
       "3         Kled            Kayn            Fizz                 Varu   \n",
       "4         Kled            Lee             Aniv                 Drav   \n",
       "\n",
       "  100_BOTTOM_DUO_SUPPORT 200_TOP_SOLO 200_JUNGLE_NONE 200_MIDDLE_SOLO  \\\n",
       "0                   Tari         Akal              Vi            Dr.    \n",
       "1                    Lux         Kled            Skar            Kass   \n",
       "2                   Sora         Gang            Seju            Ahri   \n",
       "3                   Tari         Blit            Shac            Kayl   \n",
       "4                   Bard         Yasu            Reng            Ekko   \n",
       "\n",
       "  200_BOTTOM_DUO_CARRY 200_BOTTOM_DUO_SUPPORT  \n",
       "0                 Vayn                   Lulu  \n",
       "1                 Ezre                   Sona  \n",
       "2                 Jinx                   Blit  \n",
       "3                 Tris                    Lux  \n",
       "4                 Tris                   Tahm  "
      ]
     },
     "execution_count": 3,
     "metadata": {},
     "output_type": "execute_result"
    }
   ],
   "source": [
    "print(data.shape)\n",
    "data.head()"
   ]
  },
  {
   "cell_type": "code",
   "execution_count": 4,
   "metadata": {},
   "outputs": [
    {
     "data": {
      "text/html": [
       "<div>\n",
       "<style scoped>\n",
       "    .dataframe tbody tr th:only-of-type {\n",
       "        vertical-align: middle;\n",
       "    }\n",
       "\n",
       "    .dataframe tbody tr th {\n",
       "        vertical-align: top;\n",
       "    }\n",
       "\n",
       "    .dataframe thead th {\n",
       "        text-align: right;\n",
       "    }\n",
       "</style>\n",
       "<table border=\"1\" class=\"dataframe\">\n",
       "  <thead>\n",
       "    <tr style=\"text-align: right;\">\n",
       "      <th></th>\n",
       "      <th>champ</th>\n",
       "      <th>Phys</th>\n",
       "      <th>Magic</th>\n",
       "      <th>Neither</th>\n",
       "    </tr>\n",
       "  </thead>\n",
       "  <tbody>\n",
       "    <tr>\n",
       "      <th>0</th>\n",
       "      <td>Aatr</td>\n",
       "      <td>1.0</td>\n",
       "      <td>NaN</td>\n",
       "      <td>NaN</td>\n",
       "    </tr>\n",
       "    <tr>\n",
       "      <th>1</th>\n",
       "      <td>Ahri</td>\n",
       "      <td>NaN</td>\n",
       "      <td>1.0</td>\n",
       "      <td>NaN</td>\n",
       "    </tr>\n",
       "    <tr>\n",
       "      <th>2</th>\n",
       "      <td>Akal</td>\n",
       "      <td>NaN</td>\n",
       "      <td>1.0</td>\n",
       "      <td>NaN</td>\n",
       "    </tr>\n",
       "    <tr>\n",
       "      <th>3</th>\n",
       "      <td>Alis</td>\n",
       "      <td>NaN</td>\n",
       "      <td>NaN</td>\n",
       "      <td>1.0</td>\n",
       "    </tr>\n",
       "    <tr>\n",
       "      <th>4</th>\n",
       "      <td>Amum</td>\n",
       "      <td>NaN</td>\n",
       "      <td>1.0</td>\n",
       "      <td>NaN</td>\n",
       "    </tr>\n",
       "  </tbody>\n",
       "</table>\n",
       "</div>"
      ],
      "text/plain": [
       "  champ  Phys  Magic  Neither\n",
       "0  Aatr   1.0    NaN      NaN\n",
       "1  Ahri   NaN    1.0      NaN\n",
       "2  Akal   NaN    1.0      NaN\n",
       "3  Alis   NaN    NaN      1.0\n",
       "4  Amum   NaN    1.0      NaN"
      ]
     },
     "execution_count": 4,
     "metadata": {},
     "output_type": "execute_result"
    }
   ],
   "source": [
    "# Load lookup table\n",
    "phys_magic_lut = pd.read_csv('../data/processed/champs_phys_magic_ind.csv')\n",
    "phys_magic_lut.head()"
   ]
  },
  {
   "cell_type": "code",
   "execution_count": 5,
   "metadata": {},
   "outputs": [
    {
     "name": "stdout",
     "output_type": "stream",
     "text": [
      "Total Physical Dmg Dealers: 63.0\n",
      "Total Magic Dmg Dealers: 59.0\n",
      "Total Neither Dmg Dealers: 18.0\n"
     ]
    }
   ],
   "source": [
    "phys_magic_lut = phys_magic_lut.fillna(0)\n",
    "print(\"Total Physical Dmg Dealers: \" + str(np.sum(phys_magic_lut.Phys)))\n",
    "print(\"Total Magic Dmg Dealers: \" + str(np.sum(phys_magic_lut.Magic)))\n",
    "print(\"Total Neither Dmg Dealers: \" + str(np.sum(phys_magic_lut.Neither)))"
   ]
  },
  {
   "cell_type": "code",
   "execution_count": 6,
   "metadata": {},
   "outputs": [
    {
     "name": "stdout",
     "output_type": "stream",
     "text": [
      "100_TOP_SOLO\n",
      "100_MIDDLE_SOLO\n",
      "100_BOTTOM_DUO_CARRY\n",
      "100_BOTTOM_DUO_SUPPORT\n",
      "100_JUNGLE_NONE\n",
      "200_TOP_SOLO\n",
      "200_MIDDLE_SOLO\n",
      "200_BOTTOM_DUO_CARRY\n",
      "200_BOTTOM_DUO_SUPPORT\n",
      "200_JUNGLE_NONE\n"
     ]
    }
   ],
   "source": [
    "# Calculate number of phys and number of magical on each team\n",
    "teams_lanes_roles = dc.get_teams_lanes_roles()\n",
    "teams = dc.get_teams()\n",
    "lanes_roles = dc.get_lanes_roles()\n",
    "\n",
    "    # Join individ win rates\n",
    "for tlr in teams_lanes_roles:\n",
    "    print(tlr)\n",
    "    # want to take index of indiv win rates and a single column of it\n",
    "    data = pd.merge(data, phys_magic_lut, how='left', left_on=tlr, right_on='champ',\n",
    "                   suffixes=('','_'+tlr))\n",
    "    #data = data.rename({tlr[4:] + '_win_rate': tlr + '_wr'}, axis=1)\n",
    "    data = data.drop(['champ'], axis=1)\n",
    "data = data.rename({'Phys':'Phys_100_TOP_SOLO',\n",
    "                    'Magic':'Magic_100_TOP_SOLO',\n",
    "                   'Neither':'Neither_100_TOP_SOLO'}, axis=1)"
   ]
  },
  {
   "cell_type": "code",
   "execution_count": 7,
   "metadata": {},
   "outputs": [
    {
     "data": {
      "text/plain": [
       "Index(['match_id', 'game_version', 'queue_id', 'game_duration', 'team_100_win',\n",
       "       '100_TOP_SOLO', '100_JUNGLE_NONE', '100_MIDDLE_SOLO',\n",
       "       '100_BOTTOM_DUO_CARRY', '100_BOTTOM_DUO_SUPPORT', '200_TOP_SOLO',\n",
       "       '200_JUNGLE_NONE', '200_MIDDLE_SOLO', '200_BOTTOM_DUO_CARRY',\n",
       "       '200_BOTTOM_DUO_SUPPORT', 'Phys_100_TOP_SOLO', 'Magic_100_TOP_SOLO',\n",
       "       'Neither_100_TOP_SOLO', 'Phys_100_MIDDLE_SOLO', 'Magic_100_MIDDLE_SOLO',\n",
       "       'Neither_100_MIDDLE_SOLO', 'Phys_100_BOTTOM_DUO_CARRY',\n",
       "       'Magic_100_BOTTOM_DUO_CARRY', 'Neither_100_BOTTOM_DUO_CARRY',\n",
       "       'Phys_100_BOTTOM_DUO_SUPPORT', 'Magic_100_BOTTOM_DUO_SUPPORT',\n",
       "       'Neither_100_BOTTOM_DUO_SUPPORT', 'Phys_100_JUNGLE_NONE',\n",
       "       'Magic_100_JUNGLE_NONE', 'Neither_100_JUNGLE_NONE', 'Phys_200_TOP_SOLO',\n",
       "       'Magic_200_TOP_SOLO', 'Neither_200_TOP_SOLO', 'Phys_200_MIDDLE_SOLO',\n",
       "       'Magic_200_MIDDLE_SOLO', 'Neither_200_MIDDLE_SOLO',\n",
       "       'Phys_200_BOTTOM_DUO_CARRY', 'Magic_200_BOTTOM_DUO_CARRY',\n",
       "       'Neither_200_BOTTOM_DUO_CARRY', 'Phys_200_BOTTOM_DUO_SUPPORT',\n",
       "       'Magic_200_BOTTOM_DUO_SUPPORT', 'Neither_200_BOTTOM_DUO_SUPPORT',\n",
       "       'Phys_200_JUNGLE_NONE', 'Magic_200_JUNGLE_NONE',\n",
       "       'Neither_200_JUNGLE_NONE'],\n",
       "      dtype='object')"
      ]
     },
     "execution_count": 7,
     "metadata": {},
     "output_type": "execute_result"
    }
   ],
   "source": [
    "data.columns"
   ]
  },
  {
   "cell_type": "code",
   "execution_count": 8,
   "metadata": {},
   "outputs": [],
   "source": [
    "data['100_Phys_Total'] = data['Phys_100_TOP_SOLO'] + data['Phys_100_JUNGLE_NONE'] + data['Phys_100_MIDDLE_SOLO'] + data['Phys_100_BOTTOM_DUO_CARRY'] + data['Phys_100_BOTTOM_DUO_SUPPORT']\n",
    "data['100_Magic_Total'] = data['Magic_100_TOP_SOLO'] + data['Magic_100_JUNGLE_NONE'] + data['Magic_100_MIDDLE_SOLO'] + data['Magic_100_BOTTOM_DUO_CARRY'] + data['Magic_100_BOTTOM_DUO_SUPPORT']\n",
    "data['100_Neither_Total'] = data['Neither_100_TOP_SOLO'] + data['Neither_100_JUNGLE_NONE'] + data['Neither_100_MIDDLE_SOLO'] + data['Neither_100_BOTTOM_DUO_CARRY'] + data['Neither_100_BOTTOM_DUO_SUPPORT']\n",
    "data['200_Phys_Total'] = data['Phys_200_TOP_SOLO'] + data['Phys_200_JUNGLE_NONE'] + data['Phys_200_MIDDLE_SOLO'] + data['Phys_200_BOTTOM_DUO_CARRY'] + data['Phys_200_BOTTOM_DUO_SUPPORT']\n",
    "data['200_Magic_Total'] = data['Magic_200_TOP_SOLO'] + data['Magic_200_JUNGLE_NONE'] + data['Magic_200_MIDDLE_SOLO'] + data['Magic_200_BOTTOM_DUO_CARRY'] + data['Magic_200_BOTTOM_DUO_SUPPORT']\n",
    "data['200_Neither_Total'] = data['Neither_200_TOP_SOLO'] + data['Neither_200_JUNGLE_NONE'] + data['Neither_200_MIDDLE_SOLO'] + data['Neither_200_BOTTOM_DUO_CARRY'] + data['Neither_200_BOTTOM_DUO_SUPPORT']"
   ]
  },
  {
   "cell_type": "code",
   "execution_count": 9,
   "metadata": {},
   "outputs": [
    {
     "data": {
      "text/plain": [
       "count    285476.000000\n",
       "mean          2.602324\n",
       "std           0.720223\n",
       "min           0.000000\n",
       "25%           2.000000\n",
       "50%           3.000000\n",
       "75%           3.000000\n",
       "max           5.000000\n",
       "Name: 100_Phys_Total, dtype: float64"
      ]
     },
     "execution_count": 9,
     "metadata": {},
     "output_type": "execute_result"
    }
   ],
   "source": [
    "data['100_Phys_Total'].describe()"
   ]
  },
  {
   "cell_type": "code",
   "execution_count": 10,
   "metadata": {},
   "outputs": [
    {
     "data": {
      "text/plain": [
       "count    285476.000000\n",
       "mean          1.663313\n",
       "std           0.810927\n",
       "min           0.000000\n",
       "25%           1.000000\n",
       "50%           2.000000\n",
       "75%           2.000000\n",
       "max           5.000000\n",
       "Name: 100_Magic_Total, dtype: float64"
      ]
     },
     "execution_count": 10,
     "metadata": {},
     "output_type": "execute_result"
    }
   ],
   "source": [
    "data['100_Magic_Total'].describe()"
   ]
  },
  {
   "cell_type": "code",
   "execution_count": 11,
   "metadata": {},
   "outputs": [
    {
     "name": "stdout",
     "output_type": "stream",
     "text": [
      "{'1': 0.46998662107923295, '2': 0.4998489985192113, '3': 0.5074147673273315, '4': 0.4774432450747858, '5': 0.3872502378686965}\n"
     ]
    }
   ],
   "source": [
    "# Calculate phys win rates\n",
    "phys_win_rates = {}\n",
    "for i in range(1,6):\n",
    "    games_won = np.sum(data['team_100_win'][data['100_Phys_Total'] == i]) + np.sum(1 - data['team_100_win'][data['200_Phys_Total'] == i])\n",
    "    games_played = np.sum(data['100_Phys_Total'] == i) + np.sum(data['200_Phys_Total'] == i)\n",
    "    phys_win_rates[str(i)] = games_won / games_played\n",
    "print(phys_win_rates)"
   ]
  },
  {
   "cell_type": "code",
   "execution_count": 12,
   "metadata": {},
   "outputs": [
    {
     "name": "stdout",
     "output_type": "stream",
     "text": [
      "{'1': 0.508253582238396, '2': 0.5011994105753744, '3': 0.48581786311847663, '4': 0.44284341978866476, '5': 0.38571428571428573}\n"
     ]
    }
   ],
   "source": [
    "# Calculate magic win rates\n",
    "magic_win_rates = {}\n",
    "for i in range(1,6):\n",
    "    games_won = np.sum(data['team_100_win'][data['100_Magic_Total'] == i]) + np.sum(1 - data['team_100_win'][data['200_Magic_Total'] == i])\n",
    "    games_played = np.sum(data['100_Magic_Total'] == i) + np.sum(data['200_Magic_Total'] == i)\n",
    "    magic_win_rates[str(i)] = games_won / games_played\n",
    "print(magic_win_rates)"
   ]
  },
  {
   "cell_type": "code",
   "execution_count": 13,
   "metadata": {},
   "outputs": [
    {
     "name": "stdout",
     "output_type": "stream",
     "text": [
      "{'1': 0.4627044515008088, '2': 0.49458880835935815, '3': 0.5015258288729533, '4': 0.47062725033162783, '5': 0.3980952380952381}\n"
     ]
    }
   ],
   "source": [
    "# Calculate blue phys win rates\n",
    "phys_win_rates = {}\n",
    "for i in range(1,6):\n",
    "    games_won = np.sum(data['team_100_win'][data['100_Phys_Total'] == i])\n",
    "    games_played = np.sum(data['100_Phys_Total'] == i)\n",
    "    phys_win_rates[str(i)] = games_won / games_played\n",
    "print(phys_win_rates)"
   ]
  },
  {
   "cell_type": "code",
   "execution_count": 14,
   "metadata": {},
   "outputs": [
    {
     "name": "stdout",
     "output_type": "stream",
     "text": [
      "{'1': 0.5023058008173124, '2': 0.49561065102961094, '3': 0.4801321855928364, '4': 0.4424559471365639, '5': 0.2647058823529412}\n"
     ]
    }
   ],
   "source": [
    "# Calculate blue magic win rates\n",
    "magic_win_rates = {}\n",
    "for i in range(1,6):\n",
    "    games_won = np.sum(data['team_100_win'][data['100_Magic_Total'] == i])\n",
    "    games_played = np.sum(data['100_Magic_Total'] == i)\n",
    "    magic_win_rates[str(i)] = games_won / games_played\n",
    "print(magic_win_rates)"
   ]
  },
  {
   "cell_type": "code",
   "execution_count": 20,
   "metadata": {},
   "outputs": [
    {
     "name": "stdout",
     "output_type": "stream",
     "text": [
      "0.40021923680376553\n",
      "0.4085159139302925\n",
      "0.13141250140087415\n",
      "0.012719937240838284\n",
      "0.00011907430236467555\n"
     ]
    }
   ],
   "source": [
    "# Number of magic i games\n",
    "for i in range(1,6):\n",
    "    print(np.sum(data['100_Magic_Total'] == i)/data.shape[0])"
   ]
  },
  {
   "cell_type": "code",
   "execution_count": 21,
   "metadata": {},
   "outputs": [
    {
     "name": "stdout",
     "output_type": "stream",
     "text": [
      "0.0584549759049647\n",
      "0.35661352684074865\n",
      "0.508401742687437\n",
      "0.07392412865628152\n",
      "0.0018386473159251373\n"
     ]
    }
   ],
   "source": [
    "# Number of phys i games\n",
    "for i in range(1,6):\n",
    "    print(np.sum(data['100_Phys_Total'] == i)/data.shape[0])"
   ]
  },
  {
   "cell_type": "code",
   "execution_count": 25,
   "metadata": {},
   "outputs": [
    {
     "name": "stdout",
     "output_type": "stream",
     "text": [
      "3622\n",
      "21073\n",
      "8982\n",
      "132\n",
      "0\n"
     ]
    }
   ],
   "source": [
    "# Number of magic i games\n",
    "for i in range(1,6):\n",
    "    print(np.sum(data['team_100_win'][np.logical_and(data['100_Magic_Total'] == i, data['200_Phys_Total'] == i)]))"
   ]
  },
  {
   "cell_type": "code",
   "execution_count": 26,
   "metadata": {},
   "outputs": [
    {
     "name": "stdout",
     "output_type": "stream",
     "text": [
      "6865\n",
      "42214\n",
      "19150\n",
      "286\n",
      "0\n"
     ]
    }
   ],
   "source": [
    "# Number of magic i games\n",
    "for i in range(1,6):\n",
    "    print(np.sum(np.logical_and(data['100_Magic_Total'] == i, data['200_Phys_Total'] == i)))"
   ]
  },
  {
   "cell_type": "code",
   "execution_count": 30,
   "metadata": {},
   "outputs": [
    {
     "data": {
      "text/plain": [
       "0.46153846153846156"
      ]
     },
     "execution_count": 30,
     "metadata": {},
     "output_type": "execute_result"
    }
   ],
   "source": [
    "132/286"
   ]
  },
  {
   "cell_type": "code",
   "execution_count": null,
   "metadata": {},
   "outputs": [],
   "source": []
  }
 ],
 "metadata": {
  "kernelspec": {
   "display_name": "Python 3",
   "language": "python",
   "name": "python3"
  },
  "language_info": {
   "codemirror_mode": {
    "name": "ipython",
    "version": 3
   },
   "file_extension": ".py",
   "mimetype": "text/x-python",
   "name": "python",
   "nbconvert_exporter": "python",
   "pygments_lexer": "ipython3",
   "version": "3.6.4"
  }
 },
 "nbformat": 4,
 "nbformat_minor": 2
}

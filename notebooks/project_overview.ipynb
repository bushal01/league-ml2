{
 "cells": [
  {
   "cell_type": "markdown",
   "metadata": {},
   "source": [
    "   # A League of Legends Machine Learning Project\n",
    "- Brief explanation of LoL (maybe include some champ icon pictures or even a champ select gif showing the draft)\n",
    "- Brief explanation of the broad goal\n",
    "## Data Science Interpretation\n",
    "- 10 categorical variables w/ 150 levels trying to explain a binary target.\n",
    "- Hot encoding, win rates.\n",
    "- Evaluating model -- 50% 0's, 50% 1's, predictive ability more impt than precision or recall.\n",
    "## 3 Phases of the Project\n",
    "- Phase 1: Mine the Data\n",
    "- Phase 2: Build the model and see if it is worthwhile\n",
    "- Phase 3: Present findings and apply for higher API access\n",
    "- Phase 4: Mine more data, re-build models on segments (leagues) and on recent matches (all most recent patch)\n",
    "- Phase 5: Build applications, automated updating/incorporation of new data.\n",
    "- Phase 6: Commercial applications (websites etc...)\n",
    "## A Brief Look at the Data\n",
    "### Mining and Match Crawling\n",
    "- Snapshot of the JSON Data and Riot API\n",
    "- Snapshot of the table\n",
    "### Feature Creation\n",
    "- Win rates\n",
    "- Head to head matches\n",
    "### Other Aspects of the Data\n",
    "- Outliers and few games played\n",
    "- Explain how games were selected -- 10 most recent.\n",
    "## Initial Models\n",
    "### Boosted trees\n",
    "- Brief explanation of GBM\n",
    "- Bar chart showing predictive ability of only champions, solo win rates, and paired+h2h.\n",
    "- Gains chart of h2h vs solo win rates\n",
    "### Random Forest, Extra Trees\n",
    "\n",
    "\n",
    "### Neural Network\n",
    "\n",
    "### Logistic Regression\n",
    "\n",
    "## Further directions\n",
    "- Given champ bans, what are they likely to pick\n",
    "- Make a champion/team composition recommender\n",
    "- Incorporate player skill on the champion -- do a look up of player's overall match history to get win rate/games played on that champ"
   ]
  },
  {
   "cell_type": "code",
   "execution_count": null,
   "metadata": {},
   "outputs": [],
   "source": []
  }
 ],
 "metadata": {
  "kernelspec": {
   "display_name": "Python 3",
   "language": "python",
   "name": "python3"
  },
  "language_info": {
   "codemirror_mode": {
    "name": "ipython",
    "version": 3
   },
   "file_extension": ".py",
   "mimetype": "text/x-python",
   "name": "python",
   "nbconvert_exporter": "python",
   "pygments_lexer": "ipython3",
   "version": "3.6.4"
  }
 },
 "nbformat": 4,
 "nbformat_minor": 2
}

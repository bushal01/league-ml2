{
 "cells": [
  {
   "cell_type": "markdown",
   "metadata": {},
   "source": [
    "### Ensemble of Tree-based methods"
   ]
  },
  {
   "cell_type": "code",
   "execution_count": 58,
   "metadata": {},
   "outputs": [
    {
     "name": "stderr",
     "output_type": "stream",
     "text": [
      "C:\\Users\\Albert\\Anaconda3\\lib\\site-packages\\statsmodels\\compat\\pandas.py:56: FutureWarning: The pandas.core.datetools module is deprecated and will be removed in a future version. Please use the pandas.tseries module instead.\n",
      "  from pandas.core import datetools\n"
     ]
    }
   ],
   "source": [
    "import pandas as pd\n",
    "import sklearn.ensemble\n",
    "import os\n",
    "import sys\n",
    "sys.path.append('../src/')\n",
    "import get_modeling_data\n",
    "import model_evaluation.model_performance_functions as mpf\n",
    "import time\n",
    "import numpy as np\n",
    "import matplotlib.pyplot as plt\n",
    "import statsmodels.api as sm"
   ]
  },
  {
   "cell_type": "code",
   "execution_count": 4,
   "metadata": {},
   "outputs": [],
   "source": [
    "CAP_MIN = .25\n",
    "CAP_MAX = .75\n",
    "\n",
    "train = get_modeling_data.get_train()\n",
    "validation = get_modeling_data.get_validation()\n",
    "train = train.fillna(0)\n",
    "validation = validation.fillna(0)\n",
    "non_modeling_cols = get_modeling_data.get_non_modeling_cols()\n",
    "X_train = train.drop(non_modeling_cols + ['team_100_win'], axis=1)\n",
    "Y_train = train['team_100_win']\n",
    "X_validation = validation.drop(non_modeling_cols + ['team_100_win'], axis=1)\n",
    "Y_validation = validation['team_100_win']"
   ]
  },
  {
   "cell_type": "code",
   "execution_count": 5,
   "metadata": {},
   "outputs": [],
   "source": [
    "# Cap win rates between .25 and .75\n",
    "X_train['dummy_min'] = CAP_MIN\n",
    "X_train['dummy_max'] = CAP_MAX\n",
    "X_validation['dummy_min'] = CAP_MIN\n",
    "X_validation['dummy_max'] = CAP_MAX\n",
    "\n",
    "for col in X_train.columns:\n",
    "    X_train[col] = X_train[[col,'dummy_max']].min(axis=1)\n",
    "    X_validation[col] = X_validation[[col,'dummy_max']].min(axis=1)\n",
    "    X_train[col] = X_train[[col,'dummy_min']].max(axis=1)\n",
    "    X_validation[col] = X_validation[[col,'dummy_min']].max(axis=1)\n",
    "\n",
    "X_train.drop(['dummy_min','dummy_max'], inplace=True, axis=1)\n",
    "X_validation.drop(['dummy_min','dummy_max'], inplace=True, axis=1)"
   ]
  },
  {
   "cell_type": "markdown",
   "metadata": {},
   "source": [
    "### Gradient Boosted Model"
   ]
  },
  {
   "cell_type": "code",
   "execution_count": 6,
   "metadata": {},
   "outputs": [
    {
     "name": "stdout",
     "output_type": "stream",
     "text": [
      "{'learning_rate': 0.02, 'n_estimators': 500, 'min_samples_split': 300, 'min_samples_leaf': 50, 'max_depth': 5, 'random_state': 414}\n"
     ]
    }
   ],
   "source": [
    "gbm_params = {'learning_rate': 0.02,\n",
    "              'n_estimators': 500,\n",
    "              'min_samples_split': 300,\n",
    "              'min_samples_leaf': 50,\n",
    "              'max_depth': 5,\n",
    "              'random_state': 414}\n",
    "print(gbm_params)\n",
    "start_time = time.time()\n",
    "model = sklearn.ensemble.GradientBoostingClassifier(**gbm_params)\n",
    "model_fit = model.fit(X_train, Y_train)\n",
    "n_est_performance = mpf.gbm_best_iter(model_fit, X_validation, Y_validation)\n",
    "\n",
    "# Get training and validation predictions using best iteration\n",
    "ctr = 1\n",
    "for prediction in model_fit.staged_predict(X_train):\n",
    "    if ctr == n_est_performance['best_iter']:\n",
    "        train_pred = prediction\n",
    "    ctr = ctr + 1\n",
    "ctr = 1\n",
    "for prediction in model_fit.staged_predict(X_validation):\n",
    "    if ctr == n_est_performance['best_iter']:\n",
    "        validation_pred = prediction\n",
    "    ctr = ctr + 1\n",
    "\n",
    "train_time = time.time() - start_time\n",
    "\n",
    "ks_gini_train = mpf.ks_gini(Y_train, train_pred)\n",
    "ks_gini_validation = mpf.ks_gini(Y_validation, validation_pred)\n",
    "correct_pred_train = mpf.correct_prediction_rate(Y_train, train_pred)\n",
    "correct_pred_validation = mpf.correct_prediction_rate(Y_validation, validation_pred)"
   ]
  },
  {
   "cell_type": "code",
   "execution_count": 8,
   "metadata": {},
   "outputs": [
    {
     "name": "stdout",
     "output_type": "stream",
     "text": [
      "[0.6870319458793727, 0.5450470170031695, {'ks': 0.18891458824267537, 'gini': 0.09465927318907248}, {'ks': 0.04535819779041772, 'gini': 0.02261169845171356}]\n"
     ]
    }
   ],
   "source": [
    "gbm_perf = [correct_pred_train, correct_pred_validation, ks_gini_train, ks_gini_validation]\n",
    "print(gbm_perf)"
   ]
  },
  {
   "cell_type": "markdown",
   "metadata": {},
   "source": [
    "### Random Forest"
   ]
  },
  {
   "cell_type": "code",
   "execution_count": 13,
   "metadata": {},
   "outputs": [
    {
     "name": "stdout",
     "output_type": "stream",
     "text": [
      "{'max_features': 'sqrt', 'n_estimators': 250, 'min_samples_split': 300, 'min_samples_leaf': 50, 'max_depth': 5, 'random_state': 414}\n"
     ]
    }
   ],
   "source": [
    "rf_params = { 'max_features': 'sqrt',\n",
    "              'n_estimators': 250,\n",
    "              'min_samples_split': 300,\n",
    "              'min_samples_leaf': 50,\n",
    "              'max_depth': 5,\n",
    "              'random_state': 414}\n",
    "print(rf_params)\n",
    "start_time = time.time()\n",
    "model = sklearn.ensemble.RandomForestClassifier(**rf_params)\n",
    "model_fit = model.fit(X_train, Y_train)\n",
    "\n",
    "train_pred_rf = model.predict(X_train)\n",
    "validation_pred_rf = model.predict(X_validation)\n",
    "\n",
    "train_time_rf = time.time() - start_time\n",
    "\n",
    "ks_gini_train = mpf.ks_gini(Y_train, train_pred_rf)\n",
    "ks_gini_validation = mpf.ks_gini(Y_validation, validation_pred_rf)\n",
    "correct_pred_train = mpf.correct_prediction_rate(Y_train, train_pred_rf)\n",
    "correct_pred_validation = mpf.correct_prediction_rate(Y_validation, validation_pred_rf)"
   ]
  },
  {
   "cell_type": "code",
   "execution_count": 14,
   "metadata": {},
   "outputs": [
    {
     "name": "stdout",
     "output_type": "stream",
     "text": [
      "[0.661687709037421, 0.5466930498888052, {'ks': 0.16308746953479836, 'gini': 0.0818260762040322}, {'ks': 0.04689686842851559, 'gini': 0.02408452508163446}]\n"
     ]
    }
   ],
   "source": [
    "rf_perf = [correct_pred_train, correct_pred_validation, ks_gini_train, ks_gini_validation]\n",
    "print(rf_perf)"
   ]
  },
  {
   "cell_type": "markdown",
   "metadata": {},
   "source": [
    "### Basic Ensemble"
   ]
  },
  {
   "cell_type": "code",
   "execution_count": 15,
   "metadata": {},
   "outputs": [
    {
     "name": "stdout",
     "output_type": "stream",
     "text": [
      "[0.6764553090397558, 0.5460101213511478, {'ks': 0.17872366794360062, 'gini': 0.09680086454388694}, {'ks': 0.04767683824614932, 'gini': 0.025213821441580228}]\n"
     ]
    }
   ],
   "source": [
    "train_pred_ensemble = (train_pred + train_pred_rf) / 2\n",
    "validation_pred_ensemble = (validation_pred + validation_pred_rf) / 2\n",
    "\n",
    "ks_gini_train = mpf.ks_gini(Y_train, train_pred_ensemble)\n",
    "ks_gini_validation = mpf.ks_gini(Y_validation, validation_pred_ensemble)\n",
    "correct_pred_train = mpf.correct_prediction_rate(Y_train, train_pred_ensemble)\n",
    "correct_pred_validation = mpf.correct_prediction_rate(Y_validation, validation_pred_ensemble)\n",
    "\n",
    "ensemble_perf = [correct_pred_train, correct_pred_validation, ks_gini_train, ks_gini_validation]\n",
    "print(ensemble_perf)"
   ]
  },
  {
   "cell_type": "markdown",
   "metadata": {},
   "source": [
    "### Extra Trees"
   ]
  },
  {
   "cell_type": "code",
   "execution_count": 37,
   "metadata": {},
   "outputs": [
    {
     "name": "stdout",
     "output_type": "stream",
     "text": [
      "{'max_features': 'sqrt', 'n_estimators': 500, 'min_samples_split': 300, 'min_samples_leaf': 100, 'max_depth': 7, 'random_state': 414}\n"
     ]
    }
   ],
   "source": [
    "et_params = { 'max_features': 'sqrt',\n",
    "              'n_estimators': 500,\n",
    "              'min_samples_split': 300,\n",
    "              'min_samples_leaf': 100,\n",
    "              'max_depth': 7,\n",
    "              'random_state': 414}\n",
    "print(et_params)\n",
    "start_time = time.time()\n",
    "model = sklearn.ensemble.ExtraTreesClassifier(**et_params)\n",
    "model_fit = model.fit(X_train, Y_train)\n",
    "\n",
    "train_pred_et = model.predict(X_train)\n",
    "validation_pred_et = model.predict(X_validation)\n",
    "\n",
    "train_time_et = time.time() - start_time\n",
    "\n",
    "ks_gini_train = mpf.ks_gini(Y_train, train_pred_et)\n",
    "ks_gini_validation = mpf.ks_gini(Y_validation, validation_pred_et)\n",
    "correct_pred_train = mpf.correct_prediction_rate(Y_train, train_pred_et)\n",
    "correct_pred_validation = mpf.correct_prediction_rate(Y_validation, validation_pred_et)"
   ]
  },
  {
   "cell_type": "code",
   "execution_count": 38,
   "metadata": {},
   "outputs": [
    {
     "name": "stdout",
     "output_type": "stream",
     "text": [
      "[0.675649803585083, 0.5470607806398515, {'ks': 0.17716605171351113, 'gini': 0.0889633015515633}, {'ks': 0.047037539763174596, 'gini': 0.0235519069318051}]\n"
     ]
    }
   ],
   "source": [
    "et_perf = [correct_pred_train, correct_pred_validation, ks_gini_train, ks_gini_validation]\n",
    "print(et_perf)"
   ]
  },
  {
   "cell_type": "markdown",
   "metadata": {},
   "source": [
    "### Triple Ensemble"
   ]
  },
  {
   "cell_type": "code",
   "execution_count": 39,
   "metadata": {},
   "outputs": [
    {
     "name": "stdout",
     "output_type": "stream",
     "text": [
      "[0.6762159922017733, 0.546903181746546, {'ks': 0.17884877396363003, 'gini': 0.09957250371164272}, {'ks': 0.048769904631548344, 'gini': 0.026415013020784448}]\n"
     ]
    }
   ],
   "source": [
    "train_pred_ensemble = (train_pred + train_pred_rf + train_pred_et) / 3\n",
    "validation_pred_ensemble = (validation_pred + validation_pred_rf + validation_pred_et) / 3\n",
    "\n",
    "ks_gini_train = mpf.ks_gini(Y_train, train_pred_ensemble)\n",
    "ks_gini_validation = mpf.ks_gini(Y_validation, validation_pred_ensemble)\n",
    "correct_pred_train = mpf.correct_prediction_rate(Y_train, train_pred_ensemble)\n",
    "correct_pred_validation = mpf.correct_prediction_rate(Y_validation, validation_pred_ensemble)\n",
    "\n",
    "ensemble3_perf = [correct_pred_train, correct_pred_validation, ks_gini_train, ks_gini_validation]\n",
    "print(ensemble3_perf)"
   ]
  },
  {
   "cell_type": "code",
   "execution_count": 40,
   "metadata": {},
   "outputs": [
    {
     "name": "stdout",
     "output_type": "stream",
     "text": [
      "1424.6206109523773\n",
      "101.5792350769043\n",
      "80.52628350257874\n"
     ]
    }
   ],
   "source": [
    "print(train_time)\n",
    "print(train_time_rf)\n",
    "print(train_time_et)"
   ]
  },
  {
   "cell_type": "markdown",
   "metadata": {},
   "source": [
    "### Learning Curve\n",
    "Let's see if more training data would help"
   ]
  },
  {
   "cell_type": "code",
   "execution_count": 52,
   "metadata": {},
   "outputs": [
    {
     "name": "stdout",
     "output_type": "stream",
     "text": [
      "{'max_features': 'sqrt', 'n_estimators': 500, 'max_depth': 7, 'random_state': 414}\n",
      "2000\n",
      "0.781\n",
      "0.5479888630115397\n",
      "5426\n",
      "0.7265020272760782\n",
      "0.548356593762586\n",
      "8852\n",
      "0.7145277903298689\n",
      "0.5505104453044285\n",
      "12278\n",
      "0.6998696856165499\n",
      "0.5496348958971755\n",
      "15704\n",
      "0.6950458481915436\n",
      "0.5489519673595181\n",
      "19130\n",
      "0.6891792995295347\n",
      "0.5479013080708144\n",
      "22556\n",
      "0.6861145593190282\n",
      "0.5484966816677466\n",
      "25982\n",
      "0.6848587483642522\n",
      "0.5472709124975922\n",
      "29408\n",
      "0.6794749727965179\n",
      "0.548916945383228\n",
      "32834\n",
      "0.6774684777974052\n",
      "0.5484966816677466\n",
      "36260\n",
      "0.6765581908439051\n",
      "0.5493372090987094\n",
      "39686\n",
      "0.6764854104722068\n",
      "0.5483215717862959\n",
      "43112\n",
      "0.6761922434588977\n",
      "0.5472884234857373\n",
      "46538\n",
      "0.675920752933087\n",
      "0.5493196981105644\n",
      "49964\n",
      "0.6765671283323993\n",
      "0.5489519673595181\n",
      "53390\n",
      "0.6776549915714554\n",
      "0.5490920552646786\n",
      "56816\n",
      "0.6771332019149535\n",
      "0.5468506487821108\n",
      "60242\n",
      "0.6764051658311477\n",
      "0.5489869893358083\n",
      "63668\n",
      "0.6765093924734561\n",
      "0.5484966816677466\n",
      "67094\n",
      "0.676170745521209\n",
      "0.5470432696517065\n",
      "70520\n",
      "0.677056154282473\n",
      "0.5497399618260459\n",
      "73946\n",
      "0.6761420496037649\n",
      "0.5478487751063793\n",
      "77372\n",
      "0.6759163521687432\n",
      "0.5483916157388762\n",
      "80798\n",
      "0.676675165226862\n",
      "0.5474285113908978\n",
      "84224\n",
      "0.6783339665653495\n",
      "0.5471658465687219\n",
      "87650\n",
      "0.6777752424415288\n",
      "0.5482515278337157\n",
      "91076\n",
      "0.6779283235978742\n",
      "0.5466930498888052\n",
      "94502\n",
      "0.6771073628071363\n",
      "0.5474110004027527\n",
      "97928\n",
      "0.677906216812352\n",
      "0.5479363300471045\n",
      "101354\n",
      "0.6778124198354283\n",
      "0.5474110004027527\n",
      "104780\n",
      "0.6774861614811987\n",
      "0.5473584674383175\n",
      "108206\n",
      "0.6773653956342531\n",
      "0.5467105608769502\n",
      "111632\n",
      "0.6781657589221729\n",
      "0.5467630938413854\n",
      "115058\n",
      "0.6768586278224895\n",
      "0.5470082476754163\n",
      "118484\n",
      "0.6765892441173492\n",
      "0.5471133136042867\n",
      "121910\n",
      "0.677811500287097\n",
      "0.5476211322604935\n",
      "125336\n",
      "0.6778978106848791\n",
      "0.5479713520233946\n",
      "128762\n",
      "0.6779872943880959\n",
      "0.5464303850666293\n",
      "132188\n",
      "0.6783066541592278\n",
      "0.5470958026161417\n",
      "135614\n",
      "0.6781158287492441\n",
      "0.5469732256991262\n",
      "139040\n",
      "0.6782796317606444\n",
      "0.5478312641182342\n",
      "142466\n",
      "0.677972288124886\n",
      "0.5473234454620274\n",
      "145892\n",
      "0.6788651879472487\n",
      "0.5476736652249287\n",
      "149318\n",
      "0.6787527290748604\n",
      "0.5477261981893639\n",
      "152744\n",
      "0.6783441575446498\n",
      "0.5469557147109811\n",
      "156170\n",
      "0.678420951527182\n",
      "0.5473759784264626\n",
      "159596\n",
      "0.6771723602095291\n",
      "0.5465354509954997\n",
      "163022\n",
      "0.6782581492068556\n",
      "0.5466755389006601\n",
      "166448\n",
      "0.6776771123714314\n",
      "0.5466930498888052\n",
      "169874\n",
      "0.6782674217361103\n",
      "0.546342830125904\n"
     ]
    }
   ],
   "source": [
    "et_params = { 'max_features': 'sqrt',\n",
    "              'n_estimators': 500,\n",
    "              #'min_samples_split': 300,\n",
    "              #'min_samples_leaf': 100,\n",
    "              'max_depth': 7,\n",
    "              'random_state': 414}\n",
    "print(et_params)\n",
    "start_time = time.time()\n",
    "model = sklearn.ensemble.ExtraTreesClassifier(**et_params)\n",
    "train_time_et_lc = []\n",
    "ks_gini_train_et_lc = []\n",
    "ks_gini_validation_et_lc = []\n",
    "correct_pred_train_et_lc = []\n",
    "correct_pred_validation_et_lc = []\n",
    "\n",
    "for num_rows in range(2000, X_train.shape[0], int(X_train.shape[0]/50)):\n",
    "    print(num_rows)\n",
    "    model_fit = model.fit(X_train.iloc[0:num_rows], Y_train.iloc[0:num_rows])\n",
    "    train_pred_et_lc = model.predict(X_train.iloc[0:num_rows])\n",
    "    validation_pred_et_lc = model.predict(X_validation)\n",
    "    train_time_et_lc.append(time.time() - start_time)\n",
    "    ks_gini_train_et_lc.append(mpf.ks_gini(Y_train.iloc[0:num_rows], train_pred_et_lc))\n",
    "    ks_gini_validation_et_lc.append(mpf.ks_gini(Y_validation, validation_pred_et_lc))\n",
    "    correct_pred_train_et_lc.append(mpf.correct_prediction_rate(Y_train.iloc[0:num_rows], train_pred_et_lc))\n",
    "    correct_pred_validation_et_lc.append(mpf.correct_prediction_rate(Y_validation, validation_pred_et_lc))\n",
    "    print(mpf.correct_prediction_rate(Y_train.iloc[0:num_rows], train_pred_et_lc))\n",
    "    print(mpf.correct_prediction_rate(Y_validation, validation_pred_et_lc))"
   ]
  },
  {
   "cell_type": "code",
   "execution_count": 57,
   "metadata": {},
   "outputs": [
    {
     "data": {
      "image/png": "[encoded data removed]",
      "text/plain": [
       "<matplotlib.figure.Figure at 0x802da3f9e8>"
      ]
     },
     "metadata": {},
     "output_type": "display_data"
    }
   ],
   "source": [
    "plt.plot(correct_pred_train_et_lc)\n",
    "plt.plot(correct_pred_validation_et_lc)\n",
    "plt.show()"
   ]
  },
  {
   "cell_type": "code",
   "execution_count": 60,
   "metadata": {},
   "outputs": [
    {
     "name": "stdout",
     "output_type": "stream",
     "text": [
      "                 Generalized Linear Model Regression Results                  \n",
      "==============================================================================\n",
      "Dep. Variable:           team_100_win   No. Observations:               171321\n",
      "Model:                            GLM   Df Residuals:                   171265\n",
      "Model Family:                Binomial   Df Model:                           55\n",
      "Link Function:                  logit   Scale:                             1.0\n",
      "Method:                          IRLS   Log-Likelihood:                -97681.\n",
      "Date:                Tue, 22 May 2018   Deviance:                   1.9536e+05\n",
      "Time:                        22:49:15   Pearson chi2:                 1.64e+05\n",
      "No. Iterations:                     5                                         \n",
      "============================================================================================================================\n",
      "                                                               coef    std err          z      P>|z|      [0.025      0.975]\n",
      "----------------------------------------------------------------------------------------------------------------------------\n",
      "const                                                        2.4727      1.098      2.253      0.024       0.322       4.624\n",
      "100_TOP_SOLO_wr                                             -5.8117      0.575    -10.108      0.000      -6.939      -4.685\n",
      "100_MIDDLE_SOLO_wr                                          -2.0716      0.597     -3.472      0.001      -3.241      -0.902\n",
      "100_BOTTOM_DUO_CARRY_wr                                     -3.0179      0.796     -3.791      0.000      -4.578      -1.458\n",
      "100_BOTTOM_DUO_SUPPORT_wr                                   -0.0591      0.612     -0.097      0.923      -1.258       1.140\n",
      "100_JUNGLE_NONE_wr                                          -2.6383      0.707     -3.734      0.000      -4.023      -1.254\n",
      "200_TOP_SOLO_wr                                             -0.8823      0.582     -1.516      0.130      -2.023       0.259\n",
      "200_MIDDLE_SOLO_wr                                          -5.1090      0.602     -8.484      0.000      -6.289      -3.929\n",
      "200_BOTTOM_DUO_CARRY_wr                                     -3.7841      0.781     -4.847      0.000      -5.314      -2.254\n",
      "200_BOTTOM_DUO_SUPPORT_wr                                   -7.3697      0.630    -11.695      0.000      -8.605      -6.135\n",
      "200_JUNGLE_NONE_wr                                          -4.7422      0.720     -6.583      0.000      -6.154      -3.330\n",
      "100_TOP_SOLO_MIDDLE_SOLO_wr                                  1.0741      0.045     23.682      0.000       0.985       1.163\n",
      "200_TOP_SOLO_MIDDLE_SOLO_wr                                 -1.0415      0.046    -22.882      0.000      -1.131      -0.952\n",
      "100_TOP_SOLO_BOTTOM_DUO_CARRY_wr                             0.4397      0.067      6.540      0.000       0.308       0.571\n",
      "200_TOP_SOLO_BOTTOM_DUO_CARRY_wr                            -0.3875      0.067     -5.759      0.000      -0.519      -0.256\n",
      "100_TOP_SOLO_BOTTOM_DUO_SUPPORT_wr                           0.8252      0.052     15.943      0.000       0.724       0.927\n",
      "200_TOP_SOLO_BOTTOM_DUO_SUPPORT_wr                          -0.8621      0.052    -16.642      0.000      -0.964      -0.761\n",
      "100_TOP_SOLO_JUNGLE_NONE_wr                                  0.9669      0.048     20.287      0.000       0.873       1.060\n",
      "200_TOP_SOLO_JUNGLE_NONE_wr                                 -0.9148      0.048    -19.227      0.000      -1.008      -0.822\n",
      "100_MIDDLE_SOLO_TOP_SOLO_wr                                  1.0741      0.045     23.682      0.000       0.985       1.163\n",
      "200_MIDDLE_SOLO_TOP_SOLO_wr                                 -1.0415      0.046    -22.882      0.000      -1.131      -0.952\n",
      "100_MIDDLE_SOLO_BOTTOM_DUO_CARRY_wr                          0.3015      0.068      4.433      0.000       0.168       0.435\n",
      "200_MIDDLE_SOLO_BOTTOM_DUO_CARRY_wr                         -0.3319      0.069     -4.832      0.000      -0.466      -0.197\n",
      "100_MIDDLE_SOLO_BOTTOM_DUO_SUPPORT_wr                        0.6931      0.053     12.966      0.000       0.588       0.798\n",
      "200_MIDDLE_SOLO_BOTTOM_DUO_SUPPORT_wr                       -0.7404      0.054    -13.786      0.000      -0.846      -0.635\n",
      "100_MIDDLE_SOLO_JUNGLE_NONE_wr                               0.7244      0.050     14.598      0.000       0.627       0.822\n",
      "200_MIDDLE_SOLO_JUNGLE_NONE_wr                              -0.7547      0.050    -15.103      0.000      -0.853      -0.657\n",
      "100_BOTTOM_DUO_CARRY_TOP_SOLO_wr                             0.4397      0.067      6.540      0.000       0.308       0.571\n",
      "200_BOTTOM_DUO_CARRY_TOP_SOLO_wr                            -0.3875      0.067     -5.759      0.000      -0.519      -0.256\n",
      "100_BOTTOM_DUO_CARRY_MIDDLE_SOLO_wr                          0.3015      0.068      4.433      0.000       0.168       0.435\n",
      "200_BOTTOM_DUO_CARRY_MIDDLE_SOLO_wr                         -0.3319      0.069     -4.832      0.000      -0.466      -0.197\n",
      "100_BOTTOM_DUO_CARRY_BOTTOM_DUO_SUPPORT_wr                   0.5896      0.073      8.036      0.000       0.446       0.733\n",
      "200_BOTTOM_DUO_CARRY_BOTTOM_DUO_SUPPORT_wr                  -0.6040      0.073     -8.244      0.000      -0.748      -0.460\n",
      "100_BOTTOM_DUO_CARRY_JUNGLE_NONE_wr                          0.2036      0.071      2.872      0.004       0.065       0.343\n",
      "200_BOTTOM_DUO_CARRY_JUNGLE_NONE_wr                         -0.3421      0.071     -4.814      0.000      -0.481      -0.203\n",
      "100_BOTTOM_DUO_SUPPORT_TOP_SOLO_wr                           0.8252      0.052     15.943      0.000       0.724       0.927\n",
      "200_BOTTOM_DUO_SUPPORT_TOP_SOLO_wr                          -0.8621      0.052    -16.642      0.000      -0.964      -0.761\n",
      "100_BOTTOM_DUO_SUPPORT_MIDDLE_SOLO_wr                        0.6931      0.053     12.966      0.000       0.588       0.798\n",
      "200_BOTTOM_DUO_SUPPORT_MIDDLE_SOLO_wr                       -0.7404      0.054    -13.786      0.000      -0.846      -0.635\n",
      "100_BOTTOM_DUO_SUPPORT_BOTTOM_DUO_CARRY_wr                   0.5896      0.073      8.036      0.000       0.446       0.733\n",
      "200_BOTTOM_DUO_SUPPORT_BOTTOM_DUO_CARRY_wr                  -0.6040      0.073     -8.244      0.000      -0.748      -0.460\n",
      "100_BOTTOM_DUO_SUPPORT_JUNGLE_NONE_wr                        0.5990      0.055     10.804      0.000       0.490       0.708\n",
      "200_BOTTOM_DUO_SUPPORT_JUNGLE_NONE_wr                       -0.5827      0.055    -10.521      0.000      -0.691      -0.474\n",
      "100_JUNGLE_NONE_TOP_SOLO_wr                                  0.9669      0.048     20.287      0.000       0.873       1.060\n",
      "200_JUNGLE_NONE_TOP_SOLO_wr                                 -0.9148      0.048    -19.227      0.000      -1.008      -0.822\n",
      "100_JUNGLE_NONE_MIDDLE_SOLO_wr                               0.7244      0.050     14.598      0.000       0.627       0.822\n",
      "200_JUNGLE_NONE_MIDDLE_SOLO_wr                              -0.7547      0.050    -15.103      0.000      -0.853      -0.657\n",
      "100_JUNGLE_NONE_BOTTOM_DUO_CARRY_wr                          0.2036      0.071      2.872      0.004       0.065       0.343\n",
      "200_JUNGLE_NONE_BOTTOM_DUO_CARRY_wr                         -0.3421      0.071     -4.814      0.000      -0.481      -0.203\n",
      "100_JUNGLE_NONE_BOTTOM_DUO_SUPPORT_wr                        0.5990      0.055     10.804      0.000       0.490       0.708\n",
      "200_JUNGLE_NONE_BOTTOM_DUO_SUPPORT_wr                       -0.5827      0.055    -10.521      0.000      -0.691      -0.474\n",
      "100_TOP_SOLO_200_TOP_SOLO_h2h_100_wr                         2.2026      0.087     25.419      0.000       2.033       2.372\n",
      "100_TOP_SOLO_200_MIDDLE_SOLO_h2h_100_wr                      1.8147      0.090     20.082      0.000       1.638       1.992\n",
      "100_TOP_SOLO_200_BOTTOM_DUO_CARRY_h2h_100_wr                 0.5947      0.133      4.467      0.000       0.334       0.856\n",
      "100_TOP_SOLO_200_BOTTOM_DUO_SUPPORT_h2h_100_wr               1.4937      0.104     14.370      0.000       1.290       1.697\n",
      "100_TOP_SOLO_200_JUNGLE_NONE_h2h_100_wr                      1.8304      0.094     19.488      0.000       1.646       2.014\n",
      "100_MIDDLE_SOLO_200_TOP_SOLO_h2h_100_wr                      2.0556      0.090     22.722      0.000       1.878       2.233\n",
      "100_MIDDLE_SOLO_200_MIDDLE_SOLO_h2h_100_wr                   1.6201      0.096     16.932      0.000       1.433       1.808\n",
      "100_MIDDLE_SOLO_200_BOTTOM_DUO_CARRY_h2h_100_wr              0.6127      0.134      4.558      0.000       0.349       0.876\n",
      "100_MIDDLE_SOLO_200_BOTTOM_DUO_SUPPORT_h2h_100_wr            1.4010      0.107     13.152      0.000       1.192       1.610\n",
      "100_MIDDLE_SOLO_200_JUNGLE_NONE_h2h_100_wr                   1.4513      0.099     14.682      0.000       1.258       1.645\n",
      "100_BOTTOM_DUO_CARRY_200_TOP_SOLO_h2h_100_wr                 0.8455      0.133      6.366      0.000       0.585       1.106\n",
      "100_BOTTOM_DUO_CARRY_200_MIDDLE_SOLO_h2h_100_wr              0.5754      0.136      4.242      0.000       0.310       0.841\n",
      "100_BOTTOM_DUO_CARRY_200_BOTTOM_DUO_CARRY_h2h_100_wr         2.4550      0.187     13.130      0.000       2.088       2.821\n",
      "100_BOTTOM_DUO_CARRY_200_BOTTOM_DUO_SUPPORT_h2h_100_wr       0.7109      0.152      4.683      0.000       0.413       1.009\n",
      "100_BOTTOM_DUO_CARRY_200_JUNGLE_NONE_h2h_100_wr              0.0191      0.145      0.132      0.895      -0.266       0.304\n",
      "100_BOTTOM_DUO_SUPPORT_200_TOP_SOLO_h2h_100_wr               1.5553      0.104     14.954      0.000       1.351       1.759\n",
      "100_BOTTOM_DUO_SUPPORT_200_MIDDLE_SOLO_h2h_100_wr            1.3599      0.107     12.761      0.000       1.151       1.569\n",
      "100_BOTTOM_DUO_SUPPORT_200_BOTTOM_DUO_CARRY_h2h_100_wr       0.4846      0.151      3.217      0.001       0.189       0.780\n",
      "100_BOTTOM_DUO_SUPPORT_200_BOTTOM_DUO_SUPPORT_h2h_100_wr     1.5461      0.115     13.499      0.000       1.322       1.771\n",
      "100_BOTTOM_DUO_SUPPORT_200_JUNGLE_NONE_h2h_100_wr            1.0234      0.111      9.253      0.000       0.807       1.240\n",
      "100_JUNGLE_NONE_200_TOP_SOLO_h2h_100_wr                      1.7124      0.094     18.153      0.000       1.528       1.897\n",
      "100_JUNGLE_NONE_200_MIDDLE_SOLO_h2h_100_wr                   1.3568      0.099     13.745      0.000       1.163       1.550\n",
      "100_JUNGLE_NONE_200_BOTTOM_DUO_CARRY_h2h_100_wr              0.1841      0.145      1.272      0.204      -0.100       0.468\n",
      "100_JUNGLE_NONE_200_BOTTOM_DUO_SUPPORT_h2h_100_wr            1.0154      0.110      9.197      0.000       0.799       1.232\n",
      "100_JUNGLE_NONE_200_JUNGLE_NONE_h2h_100_wr                   1.2625      0.102     12.322      0.000       1.062       1.463\n",
      "============================================================================================================================\n"
     ]
    }
   ],
   "source": [
    "X_train_lm = sm.add_constant(X_train)\n",
    "X_validation_lm = sm.add_constant(X_validation)\n",
    "\n",
    "start_time = time.time()\n",
    "logistic_model = sm.GLM(Y_train, X_train_lm, family=sm.families.Binomial())\n",
    "logistic_model_fit = logistic_model.fit()\n",
    "train_time_lm = time.time() - start_time\n",
    "print(logistic_model_fit.summary())"
   ]
  },
  {
   "cell_type": "code",
   "execution_count": 61,
   "metadata": {},
   "outputs": [
    {
     "name": "stdout",
     "output_type": "stream",
     "text": [
      "9.022411346435547\n"
     ]
    }
   ],
   "source": [
    "print(train_time_lm)\n",
    "train_pred_lm = logistic_model_fit.predict(X_train_lm)\n",
    "validation_pred_lm = logistic_model_fit.predict(X_validation_lm)\n",
    "\n",
    "ks_gini_train = mpf.ks_gini(Y_train, train_pred_lm)\n",
    "ks_gini_validation = mpf.ks_gini(Y_validation, validation_pred_lm)\n",
    "correct_pred_train = mpf.correct_prediction_rate(Y_train, train_pred_lm)\n",
    "correct_pred_validation = mpf.correct_prediction_rate(Y_validation, validation_pred_lm)"
   ]
  },
  {
   "cell_type": "code",
   "execution_count": 62,
   "metadata": {},
   "outputs": [
    {
     "name": "stdout",
     "output_type": "stream",
     "text": [
      "[0.6848138873809982, 0.5516311485457124, {'ks': 0.1870859034546552, 'gini': 0.13302651244048422}, {'ks': 0.05340598751790859, 'gini': 0.03596977184698366}]\n"
     ]
    }
   ],
   "source": [
    "lm_perf = [correct_pred_train, correct_pred_validation, ks_gini_train, ks_gini_validation]\n",
    "print(lm_perf)"
   ]
  },
  {
   "cell_type": "markdown",
   "metadata": {},
   "source": [
    "### Quad Ensemble"
   ]
  },
  {
   "cell_type": "code",
   "execution_count": 63,
   "metadata": {},
   "outputs": [
    {
     "name": "stdout",
     "output_type": "stream",
     "text": [
      "[0.6762159922017733, 0.546903181746546, {'ks': 0.18333380521887443, 'gini': 0.13071612196764323}, {'ks': 0.05022934604239582, 'gini': 0.03498250940383789}]\n"
     ]
    }
   ],
   "source": [
    "train_pred_ensemble = (train_pred + train_pred_rf + train_pred_et + train_pred_lm) / 4\n",
    "validation_pred_ensemble = (validation_pred + validation_pred_rf + validation_pred_et + validation_pred_lm) / 4\n",
    "\n",
    "ks_gini_train = mpf.ks_gini(Y_train, train_pred_ensemble)\n",
    "ks_gini_validation = mpf.ks_gini(Y_validation, validation_pred_ensemble)\n",
    "correct_pred_train = mpf.correct_prediction_rate(Y_train, train_pred_ensemble)\n",
    "correct_pred_validation = mpf.correct_prediction_rate(Y_validation, validation_pred_ensemble)\n",
    "\n",
    "ensemble4_perf = [correct_pred_train, correct_pred_validation, ks_gini_train, ks_gini_validation]\n",
    "print(ensemble4_perf)"
   ]
  },
  {
   "cell_type": "code",
   "execution_count": null,
   "metadata": {},
   "outputs": [],
   "source": []
  }
 ],
 "metadata": {
  "kernelspec": {
   "display_name": "Python 3",
   "language": "python",
   "name": "python3"
  },
  "language_info": {
   "codemirror_mode": {
    "name": "ipython",
    "version": 3
   },
   "file_extension": ".py",
   "mimetype": "text/x-python",
   "name": "python",
   "nbconvert_exporter": "python",
   "pygments_lexer": "ipython3",
   "version": "3.6.4"
  }
 },
 "nbformat": 4,
 "nbformat_minor": 2
}
